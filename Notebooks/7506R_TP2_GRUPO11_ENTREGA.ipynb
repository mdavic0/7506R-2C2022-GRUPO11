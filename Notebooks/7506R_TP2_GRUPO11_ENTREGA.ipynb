{
  "cells": [
    {
      "cell_type": "markdown",
      "metadata": {
        "id": "Z6fBFE1KxjQy"
      },
      "source": [
        "#Librerías necesarias para la realización del TP"
      ]
    },
    {
      "cell_type": "code",
      "execution_count": 1,
      "metadata": {
        "id": "nRdEHgGdxr8o",
        "colab": {
          "base_uri": "https://localhost:8080/"
        },
        "outputId": "24d960b5-d4ce-4027-a3aa-3fce58e21ddd"
      },
      "outputs": [
        {
          "output_type": "stream",
          "name": "stdout",
          "text": [
            "\u001b[K     |████████████████████████████████| 135 kB 4.7 MB/s \n",
            "\u001b[K     |████████████████████████████████| 1.6 MB 9.4 MB/s \n",
            "\u001b[?25h"
          ]
        }
      ],
      "source": [
        "import pandas as pd\n",
        "import numpy as np\n",
        "import seaborn as sns\n",
        "from matplotlib import pyplot as plt\n",
        "\n",
        "import tensorflow as tf\n",
        "from tensorflow import keras\n",
        "from tensorflow.keras import layers\n",
        "from sklearn.preprocessing import MinMaxScaler\n",
        "\n",
        "#neural\n",
        "!pip install keras-tuner -q"
      ]
    },
    {
      "cell_type": "markdown",
      "metadata": {
        "id": "u75lDu99uc_z"
      },
      "source": [
        "#Datasets necesarios para la realización del TP"
      ]
    },
    {
      "cell_type": "markdown",
      "metadata": {
        "id": "NmRsINRpx3rt"
      },
      "source": [
        "##Se cargan los datasets creados en el TP1"
      ]
    },
    {
      "cell_type": "code",
      "execution_count": 2,
      "metadata": {
        "colab": {
          "base_uri": "https://localhost:8080/"
        },
        "id": "ik-PhxojuVc2",
        "outputId": "888fe2d5-94c8-4acc-d814-c7b6f943ca3c"
      },
      "outputs": [
        {
          "output_type": "stream",
          "name": "stdout",
          "text": [
            "Mounted at /content/drive\n"
          ]
        }
      ],
      "source": [
        "from google.colab import drive\n",
        "drive.mount('/content/drive')"
      ]
    },
    {
      "cell_type": "code",
      "execution_count": 3,
      "metadata": {
        "id": "i7EjLhsUuzqA"
      },
      "outputs": [],
      "source": [
        "try:\n",
        "  # el archivo ya está cargado en el sistema\n",
        "  df_ENCODED_train = pd.read_csv('df_clasificacion_train_ENCODED.csv', index_col='index')\n",
        "  df_ENCODED_test = pd.read_csv('df_clasificacion_test_ENCODED.csv', index_col='index')\n",
        "\n",
        "  df_PCA_ENCODED_train = pd.read_csv('df_clasificacion_PCA_train_ENCODED.csv', index_col='index')\n",
        "  df_PCA_ENCODED_test = pd.read_csv('df_clasificacion_PCA_test_ENCODED.csv', index_col='index')\n",
        "except:\n",
        "  df_ENCODED_train = pd.read_csv('drive/My Drive/tp1 datos grupal/Datasets/df_clasificacion_train_ENCODED.csv', index_col='index')\n",
        "  df_ENCODED_test = pd.read_csv('drive/My Drive/tp1 datos grupal/Datasets/df_clasificacion_test_ENCODED.csv', index_col='index')\n",
        "\n",
        "  df_PCA_ENCODED_train = pd.read_csv('drive/My Drive/tp1 datos grupal/Datasets/df_clasificacion_PCA_train_ENCODED.csv', index_col='index')\n",
        "  df_PCA_ENCODED_test = pd.read_csv('drive/My Drive/tp1 datos grupal/Datasets/df_clasificacion_PCA_test_ENCODED.csv', index_col='index')"
      ]
    },
    {
      "cell_type": "markdown",
      "metadata": {
        "id": "T1JhEa7ix5NF"
      },
      "source": [
        "##Se carga el dataset que contiene las descripciones de las propiedades"
      ]
    },
    {
      "cell_type": "code",
      "execution_count": 4,
      "metadata": {
        "id": "tOsvHVxrx-tu"
      },
      "outputs": [],
      "source": [
        "try:\n",
        "  # el archivo ya está cargado en el sistema\n",
        "  csv = pd.read_csv('properati_argentina_2021_decrip.csv')\n",
        "  \n",
        "except:\n",
        "  # cargar usando el acceso directo 'Datasets' \n",
        "  # puesto en la carpeta MyDrive del drive del usuario\n",
        "  csv = pd.read_csv('drive/My Drive/tp1 datos grupal/Datasets/properati_argentina_2021_decrip.csv')"
      ]
    },
    {
      "cell_type": "code",
      "execution_count": 5,
      "metadata": {
        "id": "l0gn4U0CwcTk"
      },
      "outputs": [],
      "source": [
        "# me quedo del data set de descripcion los indices de las filas que estamos usando en el dataset generalt\n",
        "desc_train = csv.loc[df_ENCODED_train.index]\n",
        "desc_test = csv.loc[df_ENCODED_test.index]"
      ]
    },
    {
      "cell_type": "markdown",
      "metadata": {
        "id": "9LFDNjCK2jhD"
      },
      "source": [
        "##Observaciones útiles sobre los datasets"
      ]
    },
    {
      "cell_type": "markdown",
      "metadata": {
        "id": "3JWVk9pbB1DD"
      },
      "source": [
        "**OBS:** \n",
        "A 'tipo_precio' se le realizó Label Encoding, mapeando de la siguiente manera:\n",
        "  \n",
        "    • ['tipo_precio'].map({'Bajo' : 0, 'Medio' : 1, 'Alto' : 2})\n",
        "\n",
        "Mientras que a 'property_type' y 'comuna' se les aplicó One Hot Encoding"
      ]
    },
    {
      "cell_type": "code",
      "execution_count": 6,
      "metadata": {
        "colab": {
          "base_uri": "https://localhost:8080/",
          "height": 0
        },
        "id": "UEBKabt4Dkar",
        "outputId": "2246d8e9-2e06-4c41-d6f1-42ed3b5eb1d4"
      },
      "outputs": [
        {
          "output_type": "execute_result",
          "data": {
            "text/plain": [
              "         latitud   longitud  property_rooms  property_bedrooms  \\\n",
              "index                                                            \n",
              "100248 -34.63706 -58.462541             7.0                5.0   \n",
              "1472   -34.61354 -58.372464             3.0                2.0   \n",
              "117479 -34.61051 -58.426603             4.0                3.0   \n",
              "\n",
              "        property_surface_total  property_surface_covered  comuna_2  comuna_3  \\\n",
              "index                                                                          \n",
              "100248                   260.0                     260.0         0         0   \n",
              "1472                      68.0                      40.0         0         0   \n",
              "117479                   210.0                     175.0         0         0   \n",
              "\n",
              "        comuna_4  comuna_5  ...  comuna_11  comuna_12  comuna_13  comuna_14  \\\n",
              "index                       ...                                               \n",
              "100248         0         0  ...          0          0          0          0   \n",
              "1472           0         0  ...          0          0          0          0   \n",
              "117479         0         1  ...          0          0          0          0   \n",
              "\n",
              "        comuna_15  property_type_Departamento  property_type_PH  \\\n",
              "index                                                             \n",
              "100248          0                           0                 0   \n",
              "1472            0                           0                 1   \n",
              "117479          0                           1                 0   \n",
              "\n",
              "        property_price  tipo_precio         pxm2  \n",
              "index                                             \n",
              "100248        245000.0            0   942.307692  \n",
              "1472           90000.0            1  1323.529412  \n",
              "117479        450000.0            1  2142.857143  \n",
              "\n",
              "[3 rows x 25 columns]"
            ],
            "text/html": [
              "\n",
              "  <div id=\"df-102cff8d-b32a-42a0-bfc6-a5970d7dfb48\">\n",
              "    <div class=\"colab-df-container\">\n",
              "      <div>\n",
              "<style scoped>\n",
              "    .dataframe tbody tr th:only-of-type {\n",
              "        vertical-align: middle;\n",
              "    }\n",
              "\n",
              "    .dataframe tbody tr th {\n",
              "        vertical-align: top;\n",
              "    }\n",
              "\n",
              "    .dataframe thead th {\n",
              "        text-align: right;\n",
              "    }\n",
              "</style>\n",
              "<table border=\"1\" class=\"dataframe\">\n",
              "  <thead>\n",
              "    <tr style=\"text-align: right;\">\n",
              "      <th></th>\n",
              "      <th>latitud</th>\n",
              "      <th>longitud</th>\n",
              "      <th>property_rooms</th>\n",
              "      <th>property_bedrooms</th>\n",
              "      <th>property_surface_total</th>\n",
              "      <th>property_surface_covered</th>\n",
              "      <th>comuna_2</th>\n",
              "      <th>comuna_3</th>\n",
              "      <th>comuna_4</th>\n",
              "      <th>comuna_5</th>\n",
              "      <th>...</th>\n",
              "      <th>comuna_11</th>\n",
              "      <th>comuna_12</th>\n",
              "      <th>comuna_13</th>\n",
              "      <th>comuna_14</th>\n",
              "      <th>comuna_15</th>\n",
              "      <th>property_type_Departamento</th>\n",
              "      <th>property_type_PH</th>\n",
              "      <th>property_price</th>\n",
              "      <th>tipo_precio</th>\n",
              "      <th>pxm2</th>\n",
              "    </tr>\n",
              "    <tr>\n",
              "      <th>index</th>\n",
              "      <th></th>\n",
              "      <th></th>\n",
              "      <th></th>\n",
              "      <th></th>\n",
              "      <th></th>\n",
              "      <th></th>\n",
              "      <th></th>\n",
              "      <th></th>\n",
              "      <th></th>\n",
              "      <th></th>\n",
              "      <th></th>\n",
              "      <th></th>\n",
              "      <th></th>\n",
              "      <th></th>\n",
              "      <th></th>\n",
              "      <th></th>\n",
              "      <th></th>\n",
              "      <th></th>\n",
              "      <th></th>\n",
              "      <th></th>\n",
              "      <th></th>\n",
              "    </tr>\n",
              "  </thead>\n",
              "  <tbody>\n",
              "    <tr>\n",
              "      <th>100248</th>\n",
              "      <td>-34.63706</td>\n",
              "      <td>-58.462541</td>\n",
              "      <td>7.0</td>\n",
              "      <td>5.0</td>\n",
              "      <td>260.0</td>\n",
              "      <td>260.0</td>\n",
              "      <td>0</td>\n",
              "      <td>0</td>\n",
              "      <td>0</td>\n",
              "      <td>0</td>\n",
              "      <td>...</td>\n",
              "      <td>0</td>\n",
              "      <td>0</td>\n",
              "      <td>0</td>\n",
              "      <td>0</td>\n",
              "      <td>0</td>\n",
              "      <td>0</td>\n",
              "      <td>0</td>\n",
              "      <td>245000.0</td>\n",
              "      <td>0</td>\n",
              "      <td>942.307692</td>\n",
              "    </tr>\n",
              "    <tr>\n",
              "      <th>1472</th>\n",
              "      <td>-34.61354</td>\n",
              "      <td>-58.372464</td>\n",
              "      <td>3.0</td>\n",
              "      <td>2.0</td>\n",
              "      <td>68.0</td>\n",
              "      <td>40.0</td>\n",
              "      <td>0</td>\n",
              "      <td>0</td>\n",
              "      <td>0</td>\n",
              "      <td>0</td>\n",
              "      <td>...</td>\n",
              "      <td>0</td>\n",
              "      <td>0</td>\n",
              "      <td>0</td>\n",
              "      <td>0</td>\n",
              "      <td>0</td>\n",
              "      <td>0</td>\n",
              "      <td>1</td>\n",
              "      <td>90000.0</td>\n",
              "      <td>1</td>\n",
              "      <td>1323.529412</td>\n",
              "    </tr>\n",
              "    <tr>\n",
              "      <th>117479</th>\n",
              "      <td>-34.61051</td>\n",
              "      <td>-58.426603</td>\n",
              "      <td>4.0</td>\n",
              "      <td>3.0</td>\n",
              "      <td>210.0</td>\n",
              "      <td>175.0</td>\n",
              "      <td>0</td>\n",
              "      <td>0</td>\n",
              "      <td>0</td>\n",
              "      <td>1</td>\n",
              "      <td>...</td>\n",
              "      <td>0</td>\n",
              "      <td>0</td>\n",
              "      <td>0</td>\n",
              "      <td>0</td>\n",
              "      <td>0</td>\n",
              "      <td>1</td>\n",
              "      <td>0</td>\n",
              "      <td>450000.0</td>\n",
              "      <td>1</td>\n",
              "      <td>2142.857143</td>\n",
              "    </tr>\n",
              "  </tbody>\n",
              "</table>\n",
              "<p>3 rows × 25 columns</p>\n",
              "</div>\n",
              "      <button class=\"colab-df-convert\" onclick=\"convertToInteractive('df-102cff8d-b32a-42a0-bfc6-a5970d7dfb48')\"\n",
              "              title=\"Convert this dataframe to an interactive table.\"\n",
              "              style=\"display:none;\">\n",
              "        \n",
              "  <svg xmlns=\"http://www.w3.org/2000/svg\" height=\"24px\"viewBox=\"0 0 24 24\"\n",
              "       width=\"24px\">\n",
              "    <path d=\"M0 0h24v24H0V0z\" fill=\"none\"/>\n",
              "    <path d=\"M18.56 5.44l.94 2.06.94-2.06 2.06-.94-2.06-.94-.94-2.06-.94 2.06-2.06.94zm-11 1L8.5 8.5l.94-2.06 2.06-.94-2.06-.94L8.5 2.5l-.94 2.06-2.06.94zm10 10l.94 2.06.94-2.06 2.06-.94-2.06-.94-.94-2.06-.94 2.06-2.06.94z\"/><path d=\"M17.41 7.96l-1.37-1.37c-.4-.4-.92-.59-1.43-.59-.52 0-1.04.2-1.43.59L10.3 9.45l-7.72 7.72c-.78.78-.78 2.05 0 2.83L4 21.41c.39.39.9.59 1.41.59.51 0 1.02-.2 1.41-.59l7.78-7.78 2.81-2.81c.8-.78.8-2.07 0-2.86zM5.41 20L4 18.59l7.72-7.72 1.47 1.35L5.41 20z\"/>\n",
              "  </svg>\n",
              "      </button>\n",
              "      \n",
              "  <style>\n",
              "    .colab-df-container {\n",
              "      display:flex;\n",
              "      flex-wrap:wrap;\n",
              "      gap: 12px;\n",
              "    }\n",
              "\n",
              "    .colab-df-convert {\n",
              "      background-color: #E8F0FE;\n",
              "      border: none;\n",
              "      border-radius: 50%;\n",
              "      cursor: pointer;\n",
              "      display: none;\n",
              "      fill: #1967D2;\n",
              "      height: 32px;\n",
              "      padding: 0 0 0 0;\n",
              "      width: 32px;\n",
              "    }\n",
              "\n",
              "    .colab-df-convert:hover {\n",
              "      background-color: #E2EBFA;\n",
              "      box-shadow: 0px 1px 2px rgba(60, 64, 67, 0.3), 0px 1px 3px 1px rgba(60, 64, 67, 0.15);\n",
              "      fill: #174EA6;\n",
              "    }\n",
              "\n",
              "    [theme=dark] .colab-df-convert {\n",
              "      background-color: #3B4455;\n",
              "      fill: #D2E3FC;\n",
              "    }\n",
              "\n",
              "    [theme=dark] .colab-df-convert:hover {\n",
              "      background-color: #434B5C;\n",
              "      box-shadow: 0px 1px 3px 1px rgba(0, 0, 0, 0.15);\n",
              "      filter: drop-shadow(0px 1px 2px rgba(0, 0, 0, 0.3));\n",
              "      fill: #FFFFFF;\n",
              "    }\n",
              "  </style>\n",
              "\n",
              "      <script>\n",
              "        const buttonEl =\n",
              "          document.querySelector('#df-102cff8d-b32a-42a0-bfc6-a5970d7dfb48 button.colab-df-convert');\n",
              "        buttonEl.style.display =\n",
              "          google.colab.kernel.accessAllowed ? 'block' : 'none';\n",
              "\n",
              "        async function convertToInteractive(key) {\n",
              "          const element = document.querySelector('#df-102cff8d-b32a-42a0-bfc6-a5970d7dfb48');\n",
              "          const dataTable =\n",
              "            await google.colab.kernel.invokeFunction('convertToInteractive',\n",
              "                                                     [key], {});\n",
              "          if (!dataTable) return;\n",
              "\n",
              "          const docLinkHtml = 'Like what you see? Visit the ' +\n",
              "            '<a target=\"_blank\" href=https://colab.research.google.com/notebooks/data_table.ipynb>data table notebook</a>'\n",
              "            + ' to learn more about interactive tables.';\n",
              "          element.innerHTML = '';\n",
              "          dataTable['output_type'] = 'display_data';\n",
              "          await google.colab.output.renderOutput(dataTable, element);\n",
              "          const docLink = document.createElement('div');\n",
              "          docLink.innerHTML = docLinkHtml;\n",
              "          element.appendChild(docLink);\n",
              "        }\n",
              "      </script>\n",
              "    </div>\n",
              "  </div>\n",
              "  "
            ]
          },
          "metadata": {},
          "execution_count": 6
        }
      ],
      "source": [
        "df_ENCODED_train.head(3)"
      ]
    },
    {
      "cell_type": "code",
      "execution_count": 7,
      "metadata": {
        "colab": {
          "base_uri": "https://localhost:8080/",
          "height": 0
        },
        "id": "BMit5u-gyG-s",
        "outputId": "7fb1443c-fa44-4982-d35c-ec8fde305815"
      },
      "outputs": [
        {
          "output_type": "execute_result",
          "data": {
            "text/plain": [
              "                         id                               property_description\n",
              "0  BZCeiGkJr1WBUi6pKJQwJQ==  Corredor Responsable: MARIA ALEJANDRA GENOVEVA...\n",
              "1  zuHOGgUE0UB71W7m/YCLoA==  ¡HERMOSO PH TIPO CASA DE 2 AMBIENTES!<br>APTO ...\n",
              "2  TUL813tXchVBlHUsfaA6DA==  Excelente PH en Núñez 4 amb!!!! Oportunidad !!..."
            ],
            "text/html": [
              "\n",
              "  <div id=\"df-e006cf7f-ab10-4cd7-a5cd-979c40f23347\">\n",
              "    <div class=\"colab-df-container\">\n",
              "      <div>\n",
              "<style scoped>\n",
              "    .dataframe tbody tr th:only-of-type {\n",
              "        vertical-align: middle;\n",
              "    }\n",
              "\n",
              "    .dataframe tbody tr th {\n",
              "        vertical-align: top;\n",
              "    }\n",
              "\n",
              "    .dataframe thead th {\n",
              "        text-align: right;\n",
              "    }\n",
              "</style>\n",
              "<table border=\"1\" class=\"dataframe\">\n",
              "  <thead>\n",
              "    <tr style=\"text-align: right;\">\n",
              "      <th></th>\n",
              "      <th>id</th>\n",
              "      <th>property_description</th>\n",
              "    </tr>\n",
              "  </thead>\n",
              "  <tbody>\n",
              "    <tr>\n",
              "      <th>0</th>\n",
              "      <td>BZCeiGkJr1WBUi6pKJQwJQ==</td>\n",
              "      <td>Corredor Responsable: MARIA ALEJANDRA GENOVEVA...</td>\n",
              "    </tr>\n",
              "    <tr>\n",
              "      <th>1</th>\n",
              "      <td>zuHOGgUE0UB71W7m/YCLoA==</td>\n",
              "      <td>¡HERMOSO PH TIPO CASA DE 2 AMBIENTES!&lt;br&gt;APTO ...</td>\n",
              "    </tr>\n",
              "    <tr>\n",
              "      <th>2</th>\n",
              "      <td>TUL813tXchVBlHUsfaA6DA==</td>\n",
              "      <td>Excelente PH en Núñez 4 amb!!!! Oportunidad !!...</td>\n",
              "    </tr>\n",
              "  </tbody>\n",
              "</table>\n",
              "</div>\n",
              "      <button class=\"colab-df-convert\" onclick=\"convertToInteractive('df-e006cf7f-ab10-4cd7-a5cd-979c40f23347')\"\n",
              "              title=\"Convert this dataframe to an interactive table.\"\n",
              "              style=\"display:none;\">\n",
              "        \n",
              "  <svg xmlns=\"http://www.w3.org/2000/svg\" height=\"24px\"viewBox=\"0 0 24 24\"\n",
              "       width=\"24px\">\n",
              "    <path d=\"M0 0h24v24H0V0z\" fill=\"none\"/>\n",
              "    <path d=\"M18.56 5.44l.94 2.06.94-2.06 2.06-.94-2.06-.94-.94-2.06-.94 2.06-2.06.94zm-11 1L8.5 8.5l.94-2.06 2.06-.94-2.06-.94L8.5 2.5l-.94 2.06-2.06.94zm10 10l.94 2.06.94-2.06 2.06-.94-2.06-.94-.94-2.06-.94 2.06-2.06.94z\"/><path d=\"M17.41 7.96l-1.37-1.37c-.4-.4-.92-.59-1.43-.59-.52 0-1.04.2-1.43.59L10.3 9.45l-7.72 7.72c-.78.78-.78 2.05 0 2.83L4 21.41c.39.39.9.59 1.41.59.51 0 1.02-.2 1.41-.59l7.78-7.78 2.81-2.81c.8-.78.8-2.07 0-2.86zM5.41 20L4 18.59l7.72-7.72 1.47 1.35L5.41 20z\"/>\n",
              "  </svg>\n",
              "      </button>\n",
              "      \n",
              "  <style>\n",
              "    .colab-df-container {\n",
              "      display:flex;\n",
              "      flex-wrap:wrap;\n",
              "      gap: 12px;\n",
              "    }\n",
              "\n",
              "    .colab-df-convert {\n",
              "      background-color: #E8F0FE;\n",
              "      border: none;\n",
              "      border-radius: 50%;\n",
              "      cursor: pointer;\n",
              "      display: none;\n",
              "      fill: #1967D2;\n",
              "      height: 32px;\n",
              "      padding: 0 0 0 0;\n",
              "      width: 32px;\n",
              "    }\n",
              "\n",
              "    .colab-df-convert:hover {\n",
              "      background-color: #E2EBFA;\n",
              "      box-shadow: 0px 1px 2px rgba(60, 64, 67, 0.3), 0px 1px 3px 1px rgba(60, 64, 67, 0.15);\n",
              "      fill: #174EA6;\n",
              "    }\n",
              "\n",
              "    [theme=dark] .colab-df-convert {\n",
              "      background-color: #3B4455;\n",
              "      fill: #D2E3FC;\n",
              "    }\n",
              "\n",
              "    [theme=dark] .colab-df-convert:hover {\n",
              "      background-color: #434B5C;\n",
              "      box-shadow: 0px 1px 3px 1px rgba(0, 0, 0, 0.15);\n",
              "      filter: drop-shadow(0px 1px 2px rgba(0, 0, 0, 0.3));\n",
              "      fill: #FFFFFF;\n",
              "    }\n",
              "  </style>\n",
              "\n",
              "      <script>\n",
              "        const buttonEl =\n",
              "          document.querySelector('#df-e006cf7f-ab10-4cd7-a5cd-979c40f23347 button.colab-df-convert');\n",
              "        buttonEl.style.display =\n",
              "          google.colab.kernel.accessAllowed ? 'block' : 'none';\n",
              "\n",
              "        async function convertToInteractive(key) {\n",
              "          const element = document.querySelector('#df-e006cf7f-ab10-4cd7-a5cd-979c40f23347');\n",
              "          const dataTable =\n",
              "            await google.colab.kernel.invokeFunction('convertToInteractive',\n",
              "                                                     [key], {});\n",
              "          if (!dataTable) return;\n",
              "\n",
              "          const docLinkHtml = 'Like what you see? Visit the ' +\n",
              "            '<a target=\"_blank\" href=https://colab.research.google.com/notebooks/data_table.ipynb>data table notebook</a>'\n",
              "            + ' to learn more about interactive tables.';\n",
              "          element.innerHTML = '';\n",
              "          dataTable['output_type'] = 'display_data';\n",
              "          await google.colab.output.renderOutput(dataTable, element);\n",
              "          const docLink = document.createElement('div');\n",
              "          docLink.innerHTML = docLinkHtml;\n",
              "          element.appendChild(docLink);\n",
              "        }\n",
              "      </script>\n",
              "    </div>\n",
              "  </div>\n",
              "  "
            ]
          },
          "metadata": {},
          "execution_count": 7
        }
      ],
      "source": [
        "csv.head(n=3)"
      ]
    },
    {
      "cell_type": "markdown",
      "metadata": {
        "id": "tHjNMon1ya_6"
      },
      "source": [
        "Al igual que en el TP1 no utilizamos el 'id', en su lugar se utiliza el index."
      ]
    },
    {
      "cell_type": "code",
      "execution_count": 8,
      "metadata": {
        "id": "FzbHvyUYyJ0h"
      },
      "outputs": [],
      "source": [
        "csv.drop(columns=['id'], axis=1, inplace=True)"
      ]
    },
    {
      "cell_type": "code",
      "execution_count": 9,
      "metadata": {
        "colab": {
          "base_uri": "https://localhost:8080/",
          "height": 0
        },
        "id": "s91LvLviyT4T",
        "outputId": "e01befe6-5814-4489-8ffd-38ce95374a88"
      },
      "outputs": [
        {
          "output_type": "execute_result",
          "data": {
            "text/plain": [
              "                                property_description\n",
              "0  Corredor Responsable: MARIA ALEJANDRA GENOVEVA...\n",
              "1  ¡HERMOSO PH TIPO CASA DE 2 AMBIENTES!<br>APTO ...\n",
              "2  Excelente PH en Núñez 4 amb!!!! Oportunidad !!..."
            ],
            "text/html": [
              "\n",
              "  <div id=\"df-c53791d5-0cd8-418f-84b1-9b6d94caaf72\">\n",
              "    <div class=\"colab-df-container\">\n",
              "      <div>\n",
              "<style scoped>\n",
              "    .dataframe tbody tr th:only-of-type {\n",
              "        vertical-align: middle;\n",
              "    }\n",
              "\n",
              "    .dataframe tbody tr th {\n",
              "        vertical-align: top;\n",
              "    }\n",
              "\n",
              "    .dataframe thead th {\n",
              "        text-align: right;\n",
              "    }\n",
              "</style>\n",
              "<table border=\"1\" class=\"dataframe\">\n",
              "  <thead>\n",
              "    <tr style=\"text-align: right;\">\n",
              "      <th></th>\n",
              "      <th>property_description</th>\n",
              "    </tr>\n",
              "  </thead>\n",
              "  <tbody>\n",
              "    <tr>\n",
              "      <th>0</th>\n",
              "      <td>Corredor Responsable: MARIA ALEJANDRA GENOVEVA...</td>\n",
              "    </tr>\n",
              "    <tr>\n",
              "      <th>1</th>\n",
              "      <td>¡HERMOSO PH TIPO CASA DE 2 AMBIENTES!&lt;br&gt;APTO ...</td>\n",
              "    </tr>\n",
              "    <tr>\n",
              "      <th>2</th>\n",
              "      <td>Excelente PH en Núñez 4 amb!!!! Oportunidad !!...</td>\n",
              "    </tr>\n",
              "  </tbody>\n",
              "</table>\n",
              "</div>\n",
              "      <button class=\"colab-df-convert\" onclick=\"convertToInteractive('df-c53791d5-0cd8-418f-84b1-9b6d94caaf72')\"\n",
              "              title=\"Convert this dataframe to an interactive table.\"\n",
              "              style=\"display:none;\">\n",
              "        \n",
              "  <svg xmlns=\"http://www.w3.org/2000/svg\" height=\"24px\"viewBox=\"0 0 24 24\"\n",
              "       width=\"24px\">\n",
              "    <path d=\"M0 0h24v24H0V0z\" fill=\"none\"/>\n",
              "    <path d=\"M18.56 5.44l.94 2.06.94-2.06 2.06-.94-2.06-.94-.94-2.06-.94 2.06-2.06.94zm-11 1L8.5 8.5l.94-2.06 2.06-.94-2.06-.94L8.5 2.5l-.94 2.06-2.06.94zm10 10l.94 2.06.94-2.06 2.06-.94-2.06-.94-.94-2.06-.94 2.06-2.06.94z\"/><path d=\"M17.41 7.96l-1.37-1.37c-.4-.4-.92-.59-1.43-.59-.52 0-1.04.2-1.43.59L10.3 9.45l-7.72 7.72c-.78.78-.78 2.05 0 2.83L4 21.41c.39.39.9.59 1.41.59.51 0 1.02-.2 1.41-.59l7.78-7.78 2.81-2.81c.8-.78.8-2.07 0-2.86zM5.41 20L4 18.59l7.72-7.72 1.47 1.35L5.41 20z\"/>\n",
              "  </svg>\n",
              "      </button>\n",
              "      \n",
              "  <style>\n",
              "    .colab-df-container {\n",
              "      display:flex;\n",
              "      flex-wrap:wrap;\n",
              "      gap: 12px;\n",
              "    }\n",
              "\n",
              "    .colab-df-convert {\n",
              "      background-color: #E8F0FE;\n",
              "      border: none;\n",
              "      border-radius: 50%;\n",
              "      cursor: pointer;\n",
              "      display: none;\n",
              "      fill: #1967D2;\n",
              "      height: 32px;\n",
              "      padding: 0 0 0 0;\n",
              "      width: 32px;\n",
              "    }\n",
              "\n",
              "    .colab-df-convert:hover {\n",
              "      background-color: #E2EBFA;\n",
              "      box-shadow: 0px 1px 2px rgba(60, 64, 67, 0.3), 0px 1px 3px 1px rgba(60, 64, 67, 0.15);\n",
              "      fill: #174EA6;\n",
              "    }\n",
              "\n",
              "    [theme=dark] .colab-df-convert {\n",
              "      background-color: #3B4455;\n",
              "      fill: #D2E3FC;\n",
              "    }\n",
              "\n",
              "    [theme=dark] .colab-df-convert:hover {\n",
              "      background-color: #434B5C;\n",
              "      box-shadow: 0px 1px 3px 1px rgba(0, 0, 0, 0.15);\n",
              "      filter: drop-shadow(0px 1px 2px rgba(0, 0, 0, 0.3));\n",
              "      fill: #FFFFFF;\n",
              "    }\n",
              "  </style>\n",
              "\n",
              "      <script>\n",
              "        const buttonEl =\n",
              "          document.querySelector('#df-c53791d5-0cd8-418f-84b1-9b6d94caaf72 button.colab-df-convert');\n",
              "        buttonEl.style.display =\n",
              "          google.colab.kernel.accessAllowed ? 'block' : 'none';\n",
              "\n",
              "        async function convertToInteractive(key) {\n",
              "          const element = document.querySelector('#df-c53791d5-0cd8-418f-84b1-9b6d94caaf72');\n",
              "          const dataTable =\n",
              "            await google.colab.kernel.invokeFunction('convertToInteractive',\n",
              "                                                     [key], {});\n",
              "          if (!dataTable) return;\n",
              "\n",
              "          const docLinkHtml = 'Like what you see? Visit the ' +\n",
              "            '<a target=\"_blank\" href=https://colab.research.google.com/notebooks/data_table.ipynb>data table notebook</a>'\n",
              "            + ' to learn more about interactive tables.';\n",
              "          element.innerHTML = '';\n",
              "          dataTable['output_type'] = 'display_data';\n",
              "          await google.colab.output.renderOutput(dataTable, element);\n",
              "          const docLink = document.createElement('div');\n",
              "          docLink.innerHTML = docLinkHtml;\n",
              "          element.appendChild(docLink);\n",
              "        }\n",
              "      </script>\n",
              "    </div>\n",
              "  </div>\n",
              "  "
            ]
          },
          "metadata": {},
          "execution_count": 9
        }
      ],
      "source": [
        "csv.head(n=3)"
      ]
    },
    {
      "cell_type": "code",
      "execution_count": 10,
      "metadata": {
        "colab": {
          "base_uri": "https://localhost:8080/"
        },
        "id": "C9ln8_0h3IJm",
        "outputId": "6044370e-f161-4272-a3c2-5b05f7f8d1b7"
      },
      "outputs": [
        {
          "output_type": "stream",
          "name": "stdout",
          "text": [
            "Dimensionalidad de df_ENCODED_train: (58682, 25) \n",
            "Dimensionalidad de df_ENCODED_test: (14514, 25) \n",
            "Dimensionalidad de df_PCA_ENCODED_train: (58682, 22) \n",
            "Dimensionalidad de df_ENCODED_train: (14514, 22) \n",
            "Dimensionalidad del DataFrame que contiene las descripciones de las propiedades: (460154, 1)\n"
          ]
        }
      ],
      "source": [
        "print('Dimensionalidad de df_ENCODED_train:', df_ENCODED_train.shape,\n",
        "      '\\nDimensionalidad de df_ENCODED_test:', df_ENCODED_test.shape,\n",
        "      '\\nDimensionalidad de df_PCA_ENCODED_train:', df_PCA_ENCODED_train.shape,\n",
        "      '\\nDimensionalidad de df_ENCODED_train:', df_PCA_ENCODED_test.shape,\n",
        "      '\\nDimensionalidad del DataFrame que contiene las descripciones de las propiedades:', csv.shape)"
      ]
    },
    {
      "cell_type": "markdown",
      "metadata": {
        "id": "fCUYG0zC5BX6"
      },
      "source": [
        "Se filtran las propiedades según el índice de los dataset obtenidos en el TP1. Esto funciona bien ya fuimos cautelosos con conservar los índices originales provistos en el Dataset original de Properati."
      ]
    },
    {
      "cell_type": "code",
      "execution_count": 11,
      "metadata": {
        "colab": {
          "base_uri": "https://localhost:8080/"
        },
        "id": "svJlx8pX-6eC",
        "outputId": "ca38b107-1806-4b00-adde-e9e517053d24"
      },
      "outputs": [
        {
          "output_type": "stream",
          "name": "stdout",
          "text": [
            "\n",
            "Dimensionalidad del DataFrame que contiene las descripciones de las propiedades (train): (58682, 1)\n"
          ]
        }
      ],
      "source": [
        "df_descripciones_train = csv.loc[df_ENCODED_train.index]\n",
        "print('\\nDimensionalidad del DataFrame que contiene las descripciones de las propiedades (train):', df_descripciones_train.shape)"
      ]
    },
    {
      "cell_type": "code",
      "execution_count": 12,
      "metadata": {
        "colab": {
          "base_uri": "https://localhost:8080/"
        },
        "id": "59rfhs_w_UeT",
        "outputId": "595fa3a3-869b-49b9-e19e-f78e18f44f77"
      },
      "outputs": [
        {
          "output_type": "stream",
          "name": "stdout",
          "text": [
            "\n",
            "Dimensionalidad del DataFrame que contiene las descripciones de las propiedades (test): (14514, 1)\n"
          ]
        }
      ],
      "source": [
        "df_descripciones_test = csv.loc[df_ENCODED_test.index]\n",
        "print('\\nDimensionalidad del DataFrame que contiene las descripciones de las propiedades (test):', df_descripciones_test.shape)"
      ]
    },
    {
      "cell_type": "markdown",
      "metadata": {
        "id": "2hSRrQ2zyWCh"
      },
      "source": [
        "#**1.Procesamiento del Lenguaje Natural**"
      ]
    },
    {
      "cell_type": "markdown",
      "metadata": {
        "id": "xf4qiTYTyxzk"
      },
      "source": [
        "##a) Ampliación del dataset"
      ]
    },
    {
      "cell_type": "markdown",
      "metadata": {
        "id": "F8CrVyfrJoR8"
      },
      "source": [
        "### Bag of words"
      ]
    },
    {
      "cell_type": "code",
      "execution_count": 13,
      "metadata": {
        "id": "JVJ_mcZpBgBb"
      },
      "outputs": [],
      "source": [
        "from sklearn.feature_extraction.text import CountVectorizer\n",
        "import re\n",
        "import unicodedata\n",
        "import string"
      ]
    },
    {
      "cell_type": "markdown",
      "metadata": {
        "id": "Kgzt93Is-kMS"
      },
      "source": [
        "#### Funciones para el pre procesamiento de la descripcion\n",
        "\n",
        "\n"
      ]
    },
    {
      "cell_type": "code",
      "execution_count": 14,
      "metadata": {
        "id": "RmmIFqbE9yDy"
      },
      "outputs": [],
      "source": [
        "lista_adhoc = [\"a\", \"ante\", \"cabe\", \"con\", \"de\", \"desde\", \"durante\", \"en\", \n",
        "           \"entre\", \"hacia\", \"hasta\", \"mediante\", \"para\", \"por\", \"según\",\n",
        "           \"sin\", \"so\", \"sobre\", \"tras\", \"versus\", \"via\", \"el\", \"la\", \"los\", \n",
        "           \"del\", \"las\", \"los\", \"etc\", \"es\", \"era\", \"br\", \"y\", \"que\", \"al\", \n",
        "           \"o\", \"un\", \"ba\", \"una\", \"se\", \"\", \"cocina\", \"ambientes\", \"piso\", \n",
        "           \"pisos\", \"propiedad\", \"son\", \"muy\", \"esta\", \"dos\", \"cuadras\",\n",
        "           \"completo\", \"corredor\", \"responsable\", \"inmueble\", \"excelente\", \n",
        "           \"amplio\", \"accede\", \"cucicba\", \"medidas\", \"cuenta\", \"lendar\", \n",
        "           \"queres\", \"ley\", \"podes\", \"gran\", \"aire\", \"simula\", \"metros\",\n",
        "           \"mls\", \"personas\", \"parte\", \"inmobiliario\", \"encuentra\", \"independiente\",\n",
        "           \"todas\", \"todos\", \"unidades\", \"presente\", \"tiene\", \"este\", \"mas\",\n",
        "           \"unidad\", \"aviso\", \"operacion\", \"bajo\", \"propietario\", \"como\", \"informacion\",\n",
        "           \"operaciones\", \"mts\", \"discapacidades\"\n",
        "           ]"
      ]
    },
    {
      "cell_type": "code",
      "execution_count": 15,
      "metadata": {
        "id": "uSG4D52I4slF"
      },
      "outputs": [],
      "source": [
        "def useless_words():\n",
        "  prefix = 'drive/MyDrive/tp1 datos grupal/'\n",
        "  with open(prefix + 'words/stopwords.txt') as f:\n",
        "    stopwords = f.read().splitlines()\n",
        "  \n",
        "  with open(prefix + 'words/adverbios.txt') as f:\n",
        "    adverbios = f.read().splitlines()\n",
        "\n",
        "  with open(prefix + 'words/adjetivos.txt') as f:\n",
        "    adjetivos = f.read().splitlines()\n",
        "    \n",
        "  return stopwords + adjetivos + adverbios + lista_adhoc\n",
        "\n",
        "inutiles = useless_words()"
      ]
    },
    {
      "cell_type": "markdown",
      "metadata": {
        "id": "gMepB0MRgZrY"
      },
      "source": [
        "Usar BOW para representar palabras en la columna descripción"
      ]
    },
    {
      "cell_type": "code",
      "execution_count": 16,
      "metadata": {
        "id": "VtgZwJda-jlc"
      },
      "outputs": [],
      "source": [
        "def limpieza_inicial(df):\n",
        "    # Eliminamos caracteres inecesarios\n",
        "    print('Eliminando caracteres innecesarios...')\n",
        "    df['property_description'] = df['property_description'].str.replace(\"\\[.*?¿\\]\\%\", \" \", regex=True);\n",
        "    df['property_description'] = df['property_description'].str.replace(\"\\[.*?¿\\]\\%\", \" \", regex=True);\n",
        "    df['property_description'] = df['property_description'].str.replace(\"\\[.*?¿\\]\\%\", \" \", regex=True);\n",
        "    df['property_description'] = df['property_description'].str.replace(\"[‘’“”…«»]\", \" \", regex=True);\n",
        "    df['property_description'] = df['property_description'].str.replace(\"/[,;:!?¡¿]+/g\", \" \", regex=True);\n",
        "    \n",
        "    # Eliminamos palabras con numeros\n",
        "    print(\"Eliminando palabras con numeros...\")\n",
        "    df['property_description'] = df['property_description'].str.replace('w*\\d\\w*', ' ', regex=True)\n",
        "    \n",
        "    # Remplazamos saltos si los hubiera por espacios\n",
        "    print(\"Reemplazando saltos de linea / etiquetas de html por espacios...\")\n",
        "    df['property_description'] = df['property_description'].str.replace('\\n', ' ', regex=True)\n",
        "    df['property_description'] = df['property_description'].str.replace('<br>', ' ', regex=True)\n",
        "    df['property_description'] = df['property_description'].str.lower()\n",
        "    return df"
      ]
    },
    {
      "cell_type": "code",
      "execution_count": 17,
      "metadata": {
        "id": "GAw6oy0vOrN9"
      },
      "outputs": [],
      "source": [
        "def from_counter(counter, df):\n",
        "  desc = counter.transform(df.property_description.values.astype('U'))    \n",
        "  test_df = pd.DataFrame(desc.toarray(), columns=counter.get_feature_names())\n",
        "  test_df.index = test_df.index\n",
        "  return test_df\n",
        "\n",
        "def bag_of_words(df):\n",
        "  prefix = 'drive/MyDrive/tp1 datos grupal/'\n",
        "  with open(prefix + 'words/stopwords.txt') as f:\n",
        "    stopwords = f.read().splitlines()\n",
        "  \n",
        "  with open(prefix + 'words/adverbios.txt') as f:\n",
        "    adverbios = f.read().splitlines()\n",
        "\n",
        "  with open(prefix + 'words/adjetivos.txt') as f:\n",
        "    adjetivos = f.read().splitlines()\n",
        "\n",
        "  counter = CountVectorizer(stop_words=inutiles, lowercase=True, strip_accents='unicode', decode_error='ignore', max_features=400)\n",
        "  counter.fit(df.property_description.values.astype('U'))   \n",
        "  return counter\n"
      ]
    },
    {
      "cell_type": "code",
      "execution_count": 18,
      "metadata": {
        "colab": {
          "base_uri": "https://localhost:8080/"
        },
        "id": "f327h6CkBtNX",
        "outputId": "fbe650f3-c731-4675-9777-21a0cc9e6954"
      },
      "outputs": [
        {
          "output_type": "stream",
          "name": "stdout",
          "text": [
            "Eliminando caracteres innecesarios...\n",
            "Eliminando palabras con numeros...\n",
            "Reemplazando saltos de linea / etiquetas de html por espacios...\n"
          ]
        }
      ],
      "source": [
        "train = desc_train.copy()[desc_train.property_description.notna()]\n",
        "train_limpio = limpieza_inicial(train)"
      ]
    },
    {
      "cell_type": "code",
      "execution_count": 19,
      "metadata": {
        "colab": {
          "base_uri": "https://localhost:8080/"
        },
        "id": "ErHo-Mx2zGhO",
        "outputId": "d77da316-a8c9-45d2-ba15-bb4ab813f1c1"
      },
      "outputs": [
        {
          "output_type": "stream",
          "name": "stderr",
          "text": [
            "/usr/local/lib/python3.8/dist-packages/sklearn/feature_extraction/text.py:396: UserWarning: Your stop_words may be inconsistent with your preprocessing. Tokenizing the stop words generated tokens ['33', 'aaronico', 'abadi', 'abajeno', 'abancaino', 'abasi', 'abes', 'abietaceo', 'abietineo', 'abiologico', 'abiotico', 'abipon', 'abismatico', 'ablandahigos', 'abluido', 'abrileno', 'abromico', 'abstraido', 'abudabi', 'abulico', 'abunolado', 'abunuelado', 'abuson', 'aca', 'academicamente', 'academico', 'acalorico', 'acantaceo', 'acantoforo', 'acanutado', 'acapulqueno', 'acastanado', 'acatalectico', 'acatolico', 'acebeno', 'acechon', 'acefalo', 'aceraceo', 'acerineo', 'acertajon', 'acetico', 'achara', 'ache', 'achenes', 'aciclico', 'acido', 'acidulo', 'acientifico', 'acimo', 'acinetico', 'aclamideo', 'aclorofilo', 'acompanador', 'aconcaguino', 'acrata', 'acratico', 'acratopoto', 'acrobatico', 'acrocarpico', 'acrocentrico', 'acrodendrofilo', 'acroginos', 'acronico', 'acrostico', 'acuatico', 'acuicola', 'aculla', 'acunense', 'acusmatico', 'acustica', 'acustico', 'acutangulo', 'ad', 'adelantadisimo', 'ademas', 'adiabatico', 'adrenergico', 'adreno', 'adverbios', 'aereo', 'aerivoro', 'aerobico', 'aerodinamico', 'aerolitico', 'aeromantico', 'aeronautico', 'afasico', 'afotico', 'afrikaner', 'afrodisiaco', 'agil', 'agiles', 'agilmente', 'agnostico', 'agrafo', 'agricola', 'agua', 'agudeno', 'ahi', 'ahito', 'aina', 'airon', 'ajedrecistico', 'alandes', 'alarabe', 'alaves', 'alazan', 'albaceteno', 'albanes', 'albino', 'alcalaeno', 'alcalaino', 'alcalareno', 'alcalifero', 'alcalimetrico', 'alcalinulo', 'alcantareno', 'alcarreno', 'alcazareno', 'alcoholica', 'alcoholico', 'alcozareno', 'aledano', 'alegorico', 'alegrisimo', 'alelo', 'aleman', 'alemanico', 'alergenico', 'alergico', 'alfabetico', 'algarabio', 'algecireno', 'algun', 'alhameno', 'aliadofilo', 'alicaido', 'alicuota', 'alienigena', 'alienigeno', 'alifatico', 'alinado', 'alinador', 'alinoso', 'alla', 'alli', 'almicantara', 'almociteno', 'almucantara', 'alobrogico', 'aloctono', 'aloetico', 'alofono', 'alopatico', 'alopecico', 'alotropico', 'alquimico', 'altilocuo', 'altimetricamente', 'altimetrico', 'altimetro', 'altiplanico', 'altisimamente', 'altisimo', 'altisono', 'altruisticamente', 'alvaradeno', 'amabilisimo', 'amazonico', 'ambilatero', 'amicisimo', 'ampolleta', 'anacoretico', 'anacronico', 'anadromo', 'anaerobico', 'anafilactico', 'anaforico', 'analgesico', 'analiticamente', 'analitico', 'analogamente', 'analogicamente', 'analogico', 'analogo', 'anatomicamente', 'andalusi', 'androgino', 'anecumene', 'anemometrico', 'anfidromo', 'angas', 'anglofilo', 'anglofono', 'angoleno', 'anil', 'aninadamente', 'aninado', 'anisotropico', 'ano', 'anomalo', 'anonimo', 'anorexica', 'anorexicas', 'anorexico', 'anorexicos', 'anoso', 'anoterico', 'anoxico', 'ansiolitico', 'antano', 'antartico', 'antedia', 'antepenultimo', 'anteultimo', 'antibiotico', 'anticretico', 'antieconomico', 'antihelmintico', 'antihistaminico', 'antioquena', 'antioqueno', 'antipiretico', 'antiquisimo', 'antirreumatico', 'antiseptico', 'antonomasia', 'antropico', 'antropofago', 'antropofilico', 'antropomorfico', 'aortico', 'apa', 'apagon', 'apartadisimo', 'apatrida', 'apicola', 'apiretico', 'apoclamideo', 'apocrifo', 'apodo', 'apofantico', 'apolitico', 'apologetico', 'apureno', 'aqui', 'arabe', 'arabico', 'arabigo', 'arachan', 'aracnido', 'aragones', 'aragueno', 'aranento', 'arboreo', 'arboricola', 'ardentisimo', 'ardientisimo', 'areostilo', 'arequipeno', 'aretalogico', 'arevaco', 'argentifero', 'arido', 'ariqueno', 'aristotelico', 'aritmetico', 'armamentistico', 'armonico', 'armunes', 'arquetipico', 'arquitectonica', 'arquitectonico', 'arregladisimamente', 'arregladisimo', 'artabro', 'arteriosclerosico', 'arteriosclerotico', 'articulo', 'artiodactilo', 'artistico', 'artocarpeo', 'arubeno', 'ascetico', 'asepalo', 'aseptico', 'asi', 'asiatico', 'asimetrico', 'asin', 'asintomatico', 'askenazi', 'asmatico', 'asonico', 'asperamente', 'aspero', 'asperrimo', 'asquenazi', 'astronomico', 'asturleones', 'atacameno', 'atico', 'atlantico', 'atomico', 'atono', 'atras', 'aulagueno', 'auna', 'aurifluo', 'austrohungaro', 'autentica', 'autenticamente', 'autentico', 'autobiografico', 'autoctono', 'autogena', 'autoglotonimo', 'autonomo', 'autotrofo', 'autotrofos', 'auxenoptero', 'auxometrico', 'avancarga', 'avestico', 'avicola', 'avido', 'avileno', 'aviles', 'azeri', 'azotea', 'azuleno', 'babilonico', 'babucha', 'babuchas', 'bacan', 'bacareno', 'bacteriostatico', 'badajoceno', 'bagdadi', 'bahameno', 'bahames', 'bahreini', 'bajines', 'bajini', 'bajinis', 'baladi', 'balcarceno', 'balearico', 'baltico', 'bandera', 'banezano', 'bangladeshi', 'bangladesi', 'barbaro', 'barbitaheno', 'barcelones', 'bari', 'barines', 'barionico', 'barloventeno', 'barqueno', 'barragan', 'barrer', 'barrisco', 'basicamente', 'basico', 'basipeto', 'bastantisimamente', 'bastantisimo', 'bavara', 'bavaro', 'beatifico', 'beaton', 'bebe', 'beiruti', 'beliceno', 'belico', 'benefico', 'benefientisimo', 'benevolentisimo', 'benevolo', 'bengali', 'benines', 'bentariqueno', 'berlines', 'bermellon', 'bermudeno', 'bernes', 'besucon', 'betico', 'betlehemitico', 'betlemitico', 'biblico', 'bibliofilo', 'bibliomano', 'bibliotecologico', 'biconcavo', 'bifero', 'biferrico', 'bifido', 'bilbaino', 'bilingue', 'bilitero', 'bini', 'biografico', 'biologico', 'biomecanico', 'bionico', 'bipedo', 'bisilabo', 'bisono', 'boca', 'bocatoreno', 'boer', 'bokmal', 'bola', 'bolas', 'bollos', 'bomberos', 'bombon', 'bonisimo', 'bono', 'borbonico', 'bordeles', 'borinqueno', 'botanico', 'botella', 'botsuanes', 'bovido', 'brasileno', 'bretana', 'breton', 'britanico', 'broma', 'broncineo', 'buchon', 'bucolico', 'buitragueno', 'bulgaro', 'bulimico', 'bulto', 'bumangues', 'burgales', 'burkinabe', 'burkines', 'burlon', 'burloncisimo', 'burocratico', 'bursatil', 'burundes', 'busno', 'bustrofedo', 'bustrofedonico', 'butanes', 'cabanal', 'cabanero', 'cabeza', 'cabezon', 'cabizcaido', 'cabrileno', 'cabron', 'cacereno', 'cacha', 'cachemiri', 'cacofonico', 'cacologico', 'cafe', 'cagado', 'cagon', 'caido', 'caidos', 'caimanes', 'calabres', 'calahorreno', 'calameno', 'caleno', 'calido', 'camaleonico', 'cambileno', 'cambrico', 'camerunes', 'campeonato', 'camponarayes', 'canailla', 'canarion', 'cancerigeno', 'cancon', 'candajon', 'candido', 'canela', 'cani', 'canon', 'canoneado', 'canonico', 'canoro', 'cantabro', 'cantones', 'caotico', 'capela', 'capicua', 'capotimigo', 'caprifoliaceo', 'caqueteno', 'cara', 'carabobeno', 'caracteristico', 'caraqueno', 'carbonico', 'carbonifero', 'carboxilico', 'carcinogeno', 'carcinologico', 'cardialgico', 'carditico', 'cargo', 'caribeno', 'carino', 'carinoso', 'cariogenico', 'carismatico', 'carmesi', 'carnavalico', 'carnivoro', 'carpetovetonico', 'carranoso', 'carronero', 'cartagines', 'casanareno', 'cascoporro', 'castano', 'castanuela', 'castellanoleones', 'castreno', 'casualidad', 'casuistico', 'catadromo', 'cataforico', 'catalan', 'catalitico', 'catamarqueno', 'cataplectico', 'catari', 'catastrofico', 'catatonico', 'categoria', 'categoricamente', 'categorico', 'catodico', 'catolicamente', 'catolico', 'catrin', 'cau', 'cazorleno', 'cead', 'cefalopodo', 'cefalopodos', 'cefalorraquideo', 'ceilandes', 'ceilanes', 'celeberrimo', 'celebre', 'celibe', 'cenobitico', 'centesimo', 'centrico', 'centripeto', 'cerrado', 'certisimo', 'ceruleo', 'cesarina', 'ceuti', 'chalan', 'chambon', 'chancaca', 'chape', 'chapin', 'chaqueno', 'chascon', 'chechen', 'cherkes', 'chetumaleno', 'chevere', 'chiche', 'chichinabo', 'chii', 'chilenisimo', 'chiripa', 'chiriveleno', 'choclon', 'christian', 'chucaro', 'chuico', 'chuna', 'chuno', 'chupon', 'cibercondriaco', 'ciclopeo', 'ciclopico', 'ciclotimico', 'cientanal', 'cientenal', 'cientificamente', 'cientifico', 'cilindrico', 'cimarron', 'cincoanal', 'cinegetico', 'cinematica', 'cingales', 'cingaro', 'cinicamente', 'cinico', 'cinzolin', 'ciscon', 'cistico', 'citotoxico', 'citrico', 'ciudadrealeno', 'cizanador', 'cizanero', 'clasico', 'cleptomano', 'climaterico', 'climatico', 'clinicamente', 'clinico', 'cliometrico', 'cocainomano', 'coetaneo', 'cojedeno', 'colchaguino', 'colerico', 'colico', 'colomin', 'comicamente', 'comico', 'comodo', 'comun', 'comunmente', 'cona', 'concavo', 'congele', 'congenere', 'congenito', 'congoleno', 'congoles', 'conico', 'cono', 'conon', 'contemporaneo', 'contentisimo', 'contimas', 'continuacion', 'contrapelo', 'copas', 'copion', 'coprofilo', 'cordobes', 'cornupeto', 'corporeo', 'cortes', 'corunes', 'coscoino', 'cosmetico', 'cosmico', 'costamarfileno', 'costeno', 'credulamente', 'credulo', 'creible', 'creiblemente', 'creido', 'crematistica', 'crematistico', 'cremones', 'cresta', 'cretaceo', 'cretacico', 'crien', 'criptico', 'cristo', 'criticon', 'cromosomico', 'cronico', 'cronogramatico', 'cronologicamente', 'cronologico', 'crudelisimo', 'cuadragesimo', 'cuamano', 'cuantico', 'cuantimas', 'cuatezon', 'cucu', 'cucuteno', 'cueros', 'culo', 'cumanes', 'cundinamarques', 'cupresaceo', 'cuprifero', 'curavio', 'curuzucuateno', 'curvilinea', 'cutaneo', 'cuzqueno', 'daguestanes', 'daguestani', 'dalieno', 'daltonico', 'danes', 'danico', 'danino', 'danoso', 'daquen', 'dardano', 'darriqueno', 'debil', 'decasilabo', 'decimo', 'decimononico', 'decrepito', 'default', 'defeno', 'deictico', 'deletereo', 'delirio', 'demas', 'demasiadisimo', 'democrata', 'demode', 'densifloro', 'densimetrico', 'densisimo', 'deriva', 'desalinado', 'descortes', 'desdenosamente', 'desenganado', 'desertico', 'despacito', 'despenadizo', 'despues', 'destajo', 'destrisimo', 'deterministico', 'detras', 'detritivoro', 'deuterocanonico', 'devonico', 'dextrogiro', 'dia', 'diablo', 'diacritico', 'diacronico', 'diafano', 'diaforetico', 'dialogistico', 'diastolico', 'diatopico', 'diblastico', 'diclamideo', 'dicotiledonea', 'dicotomo', 'didacticamente', 'didactico', 'didactilo', 'didascalico', 'dieciseis', 'dielectrico', 'dificil', 'dificilimo', 'dificilmente', 'dinamarques', 'dinamico', 'dio', 'dios', 'diplomatico', 'dipsomano', 'disilabo', 'dislexico', 'displastico', 'dispoto', 'distimico', 'distopico', 'distraido', 'ditirambico', 'dobles', 'docil', 'doctifico', 'doctisimamente', 'doctisimo', 'dodecafonico', 'dodecagono', 'dodecasilabo', 'doleritico', 'dolicocefalo', 'domestico', 'dominante', 'dominiques', 'dotado', 'dramaticamente', 'dramatico', 'dublines', 'duena', 'dueno', 'dulceacuicola', 'dulciacuicola', 'duodecimo', 'eburneo', 'ecbolico', 'ecdotico', 'echando', 'eclectico', 'eclesiastico', 'ecliptico', 'ecologico', 'economica', 'economico', 'ectoparasito', 'ecuanime', 'ecumenico', 'edafico', 'edafologico', 'efimero', 'egoista', 'eidetico', 'elasticamente', 'elastico', 'electrico', 'electromagnetico', 'electronico', 'elegiaco', 'elegiografo', 'elego', 'eludorico', 'emerito', 'emetico', 'empenadamente', 'empiricamente', 'empirico', 'emplastico', 'enarmonico', 'enatiamente', 'encefalico', 'enciclopedico', 'enclitico', 'endebilisimo', 'endecagono', 'endecasilabico', 'endecasilabo', 'endemico', 'endocrinologico', 'endoparasito', 'endoplasmatico', 'eneagono', 'eneasilabo', 'energetico', 'energicamente', 'energumena', 'energumeno', 'enfaticamente', 'enfatico', 'enganosamente', 'enganoso', 'engreido', 'enigmaticamente', 'enigmatico', 'ensayistico', 'ensenable', 'ensenadamente', 'ensenadero', 'ensenado', 'ensenador', 'ensenante', 'ensonador', 'entelerio', 'enteogeno', 'enterico', 'entimematico', 'entomologico', 'entranablemente', 'entranalmente', 'entrecasa', 'entropico', 'enzimatico', 'eocenico', 'epentetico', 'epicamente', 'epico', 'epidemico', 'epigenetico', 'epiparasito', 'episodico', 'epispastico', 'epispermatico', 'epistamineo', 'eponimo', 'equivocamente', 'equivoco', 'eramos', 'erectil', 'eremitico', 'ergonomico', 'erogeno', 'erotomano', 'erratico', 'erratil', 'erroneamente', 'erroneo', 'error', 'escatologico', 'escenico', 'escenograficamente', 'escenografico', 'escenografo', 'escepticamente', 'esceptico', 'esclerotico', 'escoces', 'escolastico', 'escondidas', 'escopeta', 'escoptofilico', 'escote', 'escudrinable', 'escudrinador', 'esdrujulo', 'esferico', 'esofagico', 'esoterico', 'espana', 'espanol', 'espanolete', 'esplendido', 'espontaneo', 'esporadicamente', 'esporadico', 'esquenun', 'esquizocarpico', 'esquizofrenico', 'estabamos', 'estadistico', 'estais', 'estan', 'estandar', 'estara', 'estaran', 'estaras', 'estare', 'estareis', 'estaria', 'estariais', 'estariamos', 'estarian', 'estarias', 'esteis', 'esten', 'esteno', 'estereografico', 'esteril', 'estes', 'esteticamente', 'estetico', 'estocastico', 'estoequiogenico', 'estoequiologico', 'estoequiometrico', 'estrechisimamente', 'estrechisimo', 'estupido', 'estuvieramos', 'estuviesemos', 'etereo', 'eticamente', 'etico', 'etilico', 'etiope', 'etnico', 'etnocentrico', 'etnoglotonimo', 'etnografico', 'eucaristico', 'eucratico', 'eufemistico', 'eufonico', 'eupatrida', 'eutectico', 'eutrapelico', 'eutropelico', 'excentrico', 'explicito', 'exposito', 'extatico', 'extranamente', 'extranero', 'extrano', 'extremeno', 'extrinseco', 'fabacea', 'facatativeno', 'facil', 'faciliton', 'facilmente', 'facilon', 'falico', 'famelico', 'fanatico', 'fanerofito', 'fanfarron', 'fantasmagoricamente', 'fantasmagorico', 'fantasmon', 'fantastica', 'fantasticamente', 'fantastico', 'faringeo', 'farmaceutico', 'fasico', 'fatidico', 'febrifugo', 'feerico', 'felido', 'felon', 'fenicoptero', 'fenigeno', 'fenomeno', 'fermionico', 'feroes', 'ferromagnetico', 'fertil', 'ferventisimo', 'fetido', 'fidelisimo', 'fiera', 'filantropico', 'filantropo', 'filatelicamente', 'filatelico', 'filipichin', 'filosoficamente', 'filosofico', 'filosofo', 'finanero', 'fines', 'finlandes', 'fisgon', 'fisico', 'fisil', 'fitozoogeografico', 'flematico', 'flor', 'fobicamente', 'fobico', 'focido', 'folivoro', 'fonografico', 'fonologico', 'foraneo', 'formaceo', 'fortachon', 'fortisimo', 'fotografico', 'fotonico', 'fraileno', 'frances', 'francofilo', 'francofobo', 'francofono', 'frasco', 'freista', 'frenopatico', 'frenton', 'frequentemente', 'fria', 'frigidisimo', 'frio', 'frison', 'frivolo', 'frugivoro', 'fuenlabreno', 'fueramos', 'fuesemos', 'funido', 'funingue', 'futil', 'gabones', 'gachupin', 'gaelico', 'gaga', 'galactofago', 'galenico', 'gales', 'galgueno', 'galico', 'gallistico', 'gallo', 'galofobo', 'garliteno', 'garron', 'gastrico', 'gastronomico', 'gayon', 'gaznapiro', 'gelido', 'geminis', 'generalisimo', 'generico', 'genesico', 'genetico', 'geniculeo', 'geniculifloro', 'genoves', 'gentilico', 'geocentrico', 'geociclico', 'geografico', 'geologico', 'geometrico', 'gergaleno', 'ghanes', 'gibosa', 'gibraltareno', 'gijones', 'ginebres', 'girones', 'glifico', 'glotico', 'gloton', 'gluteo', 'gnostico', 'godojeno', 'gordinflon', 'gotico', 'grafico', 'granadi', 'grandilocuo', 'grisaceo', 'griton', 'groenlandes', 'grosisimo', 'guacaresca', 'guadalajareno', 'guadalupeno', 'guaireno', 'guameno', 'guanaeno', 'guanareno', 'guarani', 'guarauno', 'guariqueno', 'guarnio', 'guasa', 'guaton', 'guayanes', 'guayaquileno', 'guaymeno', 'guero', 'guey', 'gurda', 'gusto', 'guyanes', 'habeis', 'habia', 'habiais', 'habiamos', 'habian', 'habias', 'habil', 'habilmente', 'habra', 'habran', 'habras', 'habre', 'habreis', 'habria', 'habriais', 'habriamos', 'habrian', 'habrias', 'halagueno', 'halieutico', 'hambre', 'hamburgues', 'haragan', 'hartio', 'hayais', 'hectico', 'hegemonico', 'helenistico', 'heliocentrico', 'helofilo', 'helvetico', 'hematologico', 'hemisferico', 'hepatico', 'heptagono', 'heptasilabico', 'heptasilabo', 'herbacea', 'herbaceo', 'herbivoro', 'heretico', 'hermandad', 'hermetico', 'heroinomano', 'herreno', 'herzegovino', 'hesperide', 'heteroclamideo', 'heteroclito', 'heterogeneo', 'heteroglotonimo', 'heteronimo', 'heterotrofo', 'heuristicamente', 'heuristico', 'hexaedrico', 'hexasilabo', 'hibrido', 'hidrocalido', 'hidroelectrico', 'hidrofobica', 'hidrofobico', 'higginiano', 'higginista', 'higroscopico', 'hijo', 'hindu', 'hiperboreo', 'hipersonico', 'hipertermofilico', 'hipnagogico', 'hipocrita', 'hispanico', 'hispido', 'histaminico', 'historico', 'hogano', 'holandes', 'holistico', 'homeotermico', 'homerico', 'homoclamideo', 'homofobico', 'homofono', 'homogeneo', 'homografo', 'homologo', 'homonimo', 'hondureno', 'hongkones', 'horno', 'horrisono', 'hoyo', 'huancaino', 'hubieramos', 'hubiesemos', 'huelveno', 'huerfana', 'huerfano', 'huevo', 'huevon', 'huifas', 'huinchas', 'humedo', 'hungaro', 'hurano', 'iatrogenico', 'iberico', 'ibidem', 'iconico', 'icterico', 'ictico', 'ictiofago', 'ideatico', 'identicamente', 'identico', 'ideolexico', 'ideologico', 'idiopatico', 'idolatra', 'idoneo', 'igneo', 'ignifugo', 'iguanido', 'iliaco', 'ilicito', 'illicola', 'imbabureno', 'imbecil', 'imbecilmente', 'imbrifero', 'impavido', 'imperterrito', 'impio', 'importunisimo', 'improbo', 'impuber', 'inclito', 'incolume', 'incomodo', 'inconsutil', 'incorporeo', 'incredulo', 'increible', 'increiblemente', 'indigena', 'indomenable', 'indomito', 'inescudrinable', 'infanteria', 'infierno', 'infimo', 'infraglotico', 'ingeniosisimo', 'ingles', 'inhospito', 'inmovil', 'inmunologico', 'insectivoro', 'insipido', 'insito', 'integerrimo', 'integro', 'interesadisimo', 'intergalactico', 'intimo', 'intrepidamente', 'intrepido', 'intrinseco', 'inutil', 'inutilmente', 'invalido', 'inverosimil', 'ionico', 'iquiqueno', 'irani', 'iraqui', 'irlandes', 'irrito', 'isentropico', 'islamico', 'islandes', 'isleno', 'isocora', 'isocorico', 'isoentropico', 'isomero', 'isoperimetro', 'isosceles', 'isotropico', 'isquemico', 'israel', 'israeli', 'italico', 'item', 'iteroparo', 'jaenes', 'jalapeno', 'japones', 'jaraiceno', 'jarton', 'javanes', 'jibaro', 'jovencisimo', 'judio', 'juilon', 'jujeno', 'juntillas', 'jurasico', 'juridico', 'kaid', 'kaincico', 'karken', 'karstico', 'kawesqar', 'kieveno', 'kines', 'kirguis', 'kiribati', 'kuwaiti', 'labil', 'laconico', 'lacteo', 'lado', 'ladron', 'lambiscon', 'lampino', 'lanzaroteno', 'lapidifico', 'laujareno', 'leches', 'leganoso', 'lengua', 'lenoso', 'leones', 'lepidoptero', 'leptosomatico', 'lestrigon', 'letargico', 'leton', 'letra', 'leucoflegmasico', 'leucoflegmatico', 'levitico', 'levogiro', 'lexicamente', 'lexico', 'lexicograficamente', 'lexicografico', 'lexicologicamente', 'lexicologico', 'libanes', 'liberamente', 'libero', 'liberrimo', 'libitum', 'libro', 'limbico', 'limburgues', 'limeno', 'limitaneo', 'limitrofe', 'linfatico', 'linguisticamente', 'linguistico', 'linqueno', 'lipofilico', 'liquido', 'liricamente', 'lirico', 'lisbones', 'liston', 'litro', 'livido', 'llover', 'lobotomico', 'logico', 'logistica', 'logistico', 'logistorico', 'logogrifico', 'logomaquico', 'logrones', 'loino', 'longilineo', 'longuisimo', 'lorenes', 'lote', 'lubrica', 'lubricipedo', 'lubrico', 'lucareno', 'lucrifilo', 'lucrifugo', 'ludico', 'lugubre', 'lujo', 'luminico', 'luna', 'lunatico', 'lunicola', 'lunifero', 'luques', 'luxemburgues', 'macarronico', 'macedon', 'macedonico', 'macroptero', 'madrileno', 'magallanico', 'magdalenico', 'magico', 'magnanimo', 'magnetico', 'magnifentisimo', 'magnifico', 'magrebi', 'mahones', 'malabarico', 'malacofago', 'malagueno', 'malagues', 'malandrin', 'malarguino', 'malaves', 'maldonado', 'mali', 'maliayes', 'mallorquin', 'maltes', 'mamador', 'mambi', 'mamon', 'manacori', 'manana', 'mancer', 'manchu', 'mandarin', 'manes', 'manganzon', 'mangas', 'maniatico', 'manileno', 'maniqueista', 'manizaleno', 'mano', 'manoso', 'mansejon', 'mansurron', 'maores', 'maori', 'mar', 'marati', 'marbelli', 'marburgues', 'marfileno', 'margariteno', 'maricon', 'marinesca', 'marmoleno', 'marmoreo', 'marroqui', 'marroquin', 'marselles', 'marshales', 'martiniques', 'mascareno', 'mascon', 'masoretico', 'mata', 'maturines', 'maximo', 'mayestatico', 'mayusculo', 'mecanica', 'mecanico', 'mediatico', 'medico', 'mediterraneo', 'mefitico', 'megalitico', 'megalomano', 'megarico', 'melifero', 'melomano', 'membranaceo', 'memoria', 'mendigo', 'menguante', 'menopausica', 'menorquin', 'mentira', 'mentiras', 'merduceo', 'merideno', 'meridiem', 'mesoscopico', 'metalico', 'metalinguistico', 'metodico', 'metonimico', 'mia', 'mias', 'micenico', 'micotico', 'miechica', 'migueleno', 'milanes', 'milesima', 'milesimo', 'milimetrico', 'mimosacea', 'minimo', 'minusculo', 'mio', 'mios', 'mirandes', 'miron', 'misero', 'misogino', 'mitico', 'mitologico', 'mitomano', 'mitotico', 'mixtilineo', 'modenes', 'mogollon', 'mona', 'mongolico', 'monoclamideo', 'monodico', 'monoptero', 'monosilabo', 'monotalamo', 'monoteista', 'monotetico', 'monotomo', 'monotonamente', 'monotono', 'monotrofo', 'monstrigeno', 'montalbeno', 'montanes', 'montanoso', 'montehermoseno', 'monton', 'montoreno', 'morbido', 'morcillon', 'morfologico', 'morfon', 'morir', 'moroleones', 'mostoleno', 'motrileno', 'movil', 'moya', 'mozambiqueno', 'muchisimo', 'mucifero', 'mucroneo', 'mucronifero', 'muergano', 'multiorgasmica', 'mundo', 'munifico', 'muniques', 'murido', 'murmuron', 'musulman', 'muyahidin', 'nacaro', 'nalgon', 'nanga', 'nangado', 'nango', 'nangotado', 'nanigo', 'nano', 'naoforo', 'napango', 'narinense', 'naruso', 'nata', 'natre', 'natron', 'naupa', 'nautico', 'navideno', 'navifrago', 'neca', 'necla', 'necle', 'neco', 'necrofilo', 'nectonico', 'neembucuense', 'neerlandes', 'nefrico', 'nengo', 'nengue', 'neofito', 'neogeno', 'neoleones', 'neozelandes', 'nepales', 'nepali', 'neptuneo', 'nero', 'neronico', 'nerveo', 'neumatica', 'neuralgico', 'neurotipico', 'neutrinico', 'nicaraguense', 'nicolaita', 'nicoleno', 'nictalope', 'nifle', 'nigerrimo', 'nijareno', 'nina', 'ningun', 'nino', 'nipon', 'nitido', 'nitrico', 'niueno', 'nizari', 'nobilisimo', 'noco', 'nona', 'nonagesimo', 'nonagono', 'nongo', 'noologico', 'nordico', 'norirlandes', 'norteno', 'noticia', 'novelisticamente', 'novisimo', 'nubil', 'nublense', 'nublino', 'nubloso', 'nudoso', 'nui', 'numerico', 'numifero', 'nunoino', 'nurdo', 'nuto', 'oaxaqueno', 'obligadisimo', 'octagono', 'octogesimo', 'octogono', 'octosilabo', 'ogano', 'oligarquico', 'oligofrenico', 'olimareno', 'olimpico', 'olivaceo', 'olivico', 'olografo', 'olorifero', 'omani', 'omision', 'omnivoro', 'oncologico', 'onirico', 'onomatopeyico', 'ontologico', 'operatico', 'operculifero', 'opiaceo', 'opinatico', 'optico', 'optimo', 'ordovicico', 'orejon', 'organico', 'organismico', 'orgastico', 'orialeno', 'origamico', 'orizabeno', 'orto', 'ortofonica', 'ortofonico', 'ortopedico', 'oseo', 'osmanli', 'otico', 'otonal', 'ovido', 'oviparo', 'ovoviviparo', 'oxitono', 'oye', 'pa', 'paceno', 'pachon', 'pacifico', 'paganico', 'paginas', 'paguen', 'pailon', 'paita', 'pajuo', 'pakistani', 'paleogeno', 'paleolitico', 'palido', 'palmareno', 'palmeno', 'palmireno', 'palo', 'palos', 'paludico', 'pamplones', 'pan', 'pana', 'panameno', 'pancarpineo', 'pandemico', 'panfilo', 'pangare', 'panteista', 'papaveraceo', 'papavereo', 'papayaceo', 'papilionacea', 'papu', 'papua', 'paquistani', 'parabolico', 'paradojico', 'paraguazo', 'paramedico', 'parasitico', 'parasito', 'paredano', 'paremiologicamente', 'paremiologico', 'paronimo', 'paronomastico', 'paroxitono', 'pataguino', 'patan', 'patas', 'patetico', 'patogeno', 'patologico', 'paton', 'patriotico', 'pauperrimo', 'pavido', 'payanes', 'pe', 'pedagogicamente', 'pedagogico', 'pediatrico', 'pedigon', 'pedigueno', 'pedir', 'pedofilo', 'pedrino', 'pekines', 'pelagico', 'pelo', 'pelota', 'pelotas', 'penaflorino', 'pencon', 'pendex', 'penigero', 'pentadecagono', 'pentasilabo', 'penultimo', 'pequena', 'pequenamente', 'pequenisimo', 'pequenito', 'pequeno', 'pequenuelo', 'pequines', 'perdio', 'perfectisimo', 'perfidamente', 'perfidiado', 'perfido', 'pergamineo', 'periodico', 'peripatetica', 'periptero', 'peristaltico', 'permico', 'perogrullo', 'perquen', 'perro', 'persecula', 'persona', 'pesimamente', 'pesimo', 'pez', 'piamontes', 'pianistico', 'picada', 'picano', 'picaramente', 'picaro', 'picnico', 'pictorico', 'pidon', 'pie', 'piedras', 'pienso', 'pineliento', 'pineniento', 'pinufla', 'pinufle', 'pio', 'pipi', 'pipon', 'pirobolico', 'piromano', 'piscivoro', 'pispas', 'pitanoso', 'plantigrado', 'plastico', 'pletorico', 'pleurocarpico', 'plumazo', 'plumbeo', 'plumifero', 'plurale', 'poeticamente', 'poetico', 'poiquilotermico', 'polemica', 'polemico', 'polinico', 'polinifero', 'politica', 'politicamente', 'politico', 'pollo', 'poncho', 'pontevedres', 'porcelano', 'porruo', 'portatil', 'porteno', 'portorriqueno', 'portugales', 'portugueno', 'portugues', 'portugueseno', 'poseido', 'poshea', 'postumo', 'potosi', 'practica', 'practicamente', 'practico', 'pragmatico', 'prangana', 'precambrico', 'precipite', 'prenado', 'prepostero', 'presbita', 'presbite', 'presocratico', 'preterito', 'principe', 'prisa', 'pristino', 'pro', 'probabilistico', 'problematico', 'procer', 'proctologico', 'prodigo', 'profundis', 'prolifico', 'promedial', 'prontisimamente', 'prontisimo', 'proparoxitono', 'propedeutico', 'proposito', 'prosodico', 'prostilo', 'protegidas', 'proteinico', 'protractil', 'proximo', 'pseudocientifico', 'pseudodiptero', 'pseudoepigrafo', 'pseudoperiptero', 'psicosomatica', 'psicosomatico', 'psicoterapeutico', 'psicotico', 'psiquico', 'psitacido', 'puber', 'pubico', 'publicamente', 'publico', 'puedo', 'puerta', 'puertorrealeno', 'puertorriqueno', 'pulpileno', 'pulquerrimo', 'puneno', 'punico', 'puno', 'punto', 'purepecha', 'purpura', 'pusilanime', 'putanero', 'putrido', 'qatari', 'qaysi', 'quebeques', 'quedado', 'querendon', 'querer', 'queridisimo', 'queriendo', 'quia', 'quibdoseno', 'quibdosenos', 'quiera', 'quiero', 'quilmeno', 'quilpueino', 'quimico', 'quinceanera', 'quinceanero', 'quincuagesimo', 'quinesiologico', 'quinesioterapico', 'quinesiterapico', 'quinielistico', 'quintuple', 'quirurgico', 'quiteno', 'quiza', 'quizas', 'rabon', 'raculo', 'ragueno', 'ramplon', 'ranas', 'rancaguino', 'rapa', 'rapidamente', 'rapido', 'rapsodico', 'recaton', 'recentisimo', 'recien', 'recondito', 'redomon', 'regalon', 'reganadientes', 'reganon', 'regrunidor', 'rentistico', 'repique', 'reprobo', 'retoricamente', 'retorromanico', 'retractil', 'retrocarga', 'reumatico', 'reumatologico', 'reuniones', 'reventon', 'reversion', 'rey', 'ribereno', 'ridiculo', 'rifeno', 'rigido', 'riojeno', 'risaraldeno', 'rispido', 'risueno', 'rodeno', 'romani', 'romanico', 'ropa', 'rotico', 'ruandes', 'rusojapones', 'rustico', 'rutaceo', 'sabatico', 'sacratisimo', 'saharico', 'salamanques', 'salareno', 'salmon', 'saltando', 'salteno', 'saltigrado', 'salto', 'saluberrimo', 'salutiferamente', 'salutifero', 'salvadoreno', 'sancarleno', 'sancristobaleno', 'sanfelipeno', 'sanguineo', 'sannicoleno', 'santaferena', 'santafereno', 'santeno', 'santiagueno', 'sanudo', 'sapido', 'sapientisimo', 'saprofitico', 'saque', 'sarracin', 'satiro', 'saudi', 'saxeo', 'sciografico', 'seais', 'sedaceo', 'sedeno', 'sefardi', 'seguida', 'segun', 'selenografico', 'seleucida', 'semantico', 'semelparo', 'senaladamente', 'senegales', 'senor', 'senoreable', 'senorial', 'senoril', 'senorilmente', 'senos', 'sentadillas', 'sepa', 'septimo', 'septuagesimo', 'sera', 'seran', 'seras', 'sere', 'sereis', 'seria', 'seriais', 'seriamos', 'serian', 'serias', 'sesil', 'seudocientifico', 'sexagesimo', 'sexomano', 'shii', 'shomeria', 'si', 'sicaliptico', 'sicologicamente', 'sierraleones', 'silurico', 'simbiotico', 'simbolicamente', 'simbolico', 'simetrico', 'simia', 'simil', 'simplicisimo', 'simplon', 'simultaneo', 'sinaptico', 'sincronico', 'sincronistico', 'sincrono', 'sincronologico', 'sinfonico', 'singulare', 'sinico', 'sinonimo', 'sintactico', 'sintetico', 'sintomatico', 'sirga', 'siriaco', 'sistilo', 'sistolico', 'siutico', 'sobra', 'sobreesdrujulo', 'sobremesa', 'sobresdrujulo', 'socarron', 'socioeconomico', 'sociopata', 'socratico', 'solanico', 'solido', 'somali', 'somatico', 'somnifero', 'songo', 'sonico', 'sonoliento', 'soporifero', 'sorbeno', 'sordido', 'sorongo', 'soslayo', 'sovietico', 'suazilandes', 'subatomico', 'subcutaneo', 'subdito', 'subitaneamente', 'subito', 'submultiplo', 'subsonico', 'subterraneo', 'sucedaneo', 'sucrena', 'sucreno', 'sudanes', 'sudorifico', 'sudsudanes', 'suficientisimamente', 'suficientisimo', 'suizaro', 'sujale', 'sundanes', 'super', 'superadito', 'supero', 'supersonico', 'superstite', 'supraluminico', 'sureno', 'surinames', 'sutureo', 'tabasqueno', 'tableno', 'tabu', 'tacano', 'tacito', 'tacneno', 'taco', 'tactico', 'tactil', 'tacuareno', 'tahur', 'tailandes', 'taino', 'taiwanes', 'taliban', 'tamano', 'tambien', 'tampiqueno', 'tantum', 'tapado', 'tapatio', 'taramundes', 'tarateno', 'tartaro', 'taz', 'teandrico', 'tecnocratico', 'tecnologico', 'tectonico', 'teista', 'telavivi', 'teleologico', 'telepatico', 'telurico', 'tematica', 'temblon', 'temporaneo', 'tendra', 'tendran', 'tendras', 'tendre', 'tendreis', 'tendria', 'tendriais', 'tendriamos', 'tendrian', 'tendrias', 'tenedor', 'teneis', 'teneno', 'tengais', 'tenia', 'teniais', 'teniamos', 'tenian', 'tenias', 'tenifugo', 'teoforico', 'teoretico', 'teorico', 'tequeno', 'tequileno', 'terapeutico', 'teratologa', 'teratologico', 'teratologo', 'termodinamico', 'termoionico', 'termolabil', 'ternisimo', 'terqueno', 'terricola', 'terrifico', 'terrorifico', 'tesines', 'tetraedrico', 'tetrasilabo', 'teuton', 'tiempo', 'tiempos', 'tijoleno', 'tikriti', 'timidamente', 'timido', 'tinerfeno', 'tipico', 'tipografico', 'tiranicamente', 'tiranico', 'tiranido', 'tisico', 'titulo', 'toboseno', 'tochibi', 'todavia', 'togoles', 'tokelaues', 'tomar', 'tomeseno', 'tonico', 'tontarron', 'tontorron', 'topograficamente', 'topografico', 'topologico', 'toponimico', 'toracico', 'toraxico', 'tornatil', 'torrido', 'totemico', 'toxico', 'toxicologico', 'toxicomano', 'tracala', 'tragico', 'trajo', 'transatlantico', 'transeunte', 'transfuga', 'transgenero', 'transgenico', 'translucido', 'transoceanico', 'trapo', 'trascarton', 'trasfuga', 'traumatico', 'traumatologico', 'traumatologo', 'travesio', 'treintanal', 'tremenda', 'tren', 'tresino', 'triasico', 'trigemino', 'trigesimo', 'trigonometrico', 'trisilabo', 'trombolitico', 'tropico', 'tropologico', 'tucupiteno', 'tuneci', 'tuntun', 'tupinamba', 'tupio', 'turifero', 'turistica', 'turisticamente', 'turistico', 'turqui', 'tusigeno', 'tutiplen', 'tuvales', 'tuvieramos', 'tuviesemos', 'uaranido', 'uber', 'uberrimo', 'ucronico', 'ugandes', 'ugaritico', 'ultimamente', 'ultimo', 'ultraista', 'umbria', 'undecagono', 'undecimo', 'undivago', 'unicamente', 'unico', 'unidisimo', 'unigamo', 'unigenito', 'unimano', 'uniparo', 'unipetalo', 'univoco', 'uranico', 'urgenciologo', 'urraqueno', 'ursido', 'usagreno', 'useno', 'util', 'vacio', 'valentisimo', 'valon', 'veces', 'veintidos', 'veintiseis', 'veintitres', 'venereo', 'veneto', 'ventrilocuo', 'ver', 'veraguense', 'veratrico', 'verderon', 'vergon', 'verijas', 'vernaculo', 'versatil', 'vez', 'viaje', 'viatoreno', 'vibratil', 'vicunense', 'vida', 'vienes', 'vigesimo', 'vigues', 'vilo', 'vinamarino', 'vinicola', 'vinimos', 'violaceo', 'virico', 'vistasoleno', 'vitriolico', 'vizcaino', 'voces', 'volantin', 'volcanico', 'volubilisimo', 'volumetrico', 'vulcanico', 'wamba', 'wikcionario', 'xalapeno', 'xenofobo', 'xerofilo', 'xeromorfico', 'xilofago', 'yagan', 'yaguane', 'yamana', 'yaritagueno', 'yemeni', 'yidish', 'zahareno', 'zaireno', 'zambigo', 'zaragoci', 'zarceno', 'zarrapastron', 'zarzaleno', 'zingaro', 'zoantropico', 'zoantropo', 'zoologico', 'zulu', 'zuriques'] not in stop_words.\n",
            "  warnings.warn(\n",
            "/usr/local/lib/python3.8/dist-packages/sklearn/utils/deprecation.py:87: FutureWarning: Function get_feature_names is deprecated; get_feature_names is deprecated in 1.0 and will be removed in 1.2. Please use get_feature_names_out instead.\n",
            "  warnings.warn(msg, category=FutureWarning)\n"
          ]
        }
      ],
      "source": [
        "counter = bag_of_words(train_limpio)\n",
        "desc_df = from_counter(counter, train_limpio)"
      ]
    },
    {
      "cell_type": "code",
      "execution_count": 20,
      "metadata": {
        "id": "qWb36DILaBqL"
      },
      "outputs": [],
      "source": [
        "bow_df_train = desc_df"
      ]
    },
    {
      "cell_type": "markdown",
      "metadata": {
        "id": "DkxkvnchNMFN"
      },
      "source": [
        "#### Test"
      ]
    },
    {
      "cell_type": "code",
      "execution_count": 21,
      "metadata": {
        "colab": {
          "base_uri": "https://localhost:8080/"
        },
        "id": "maM4Q1-gMhN7",
        "outputId": "095ffd10-899e-401e-c343-77c31a68601e"
      },
      "outputs": [
        {
          "output_type": "stream",
          "name": "stdout",
          "text": [
            "Eliminando caracteres innecesarios...\n",
            "Eliminando palabras con numeros...\n",
            "Reemplazando saltos de linea / etiquetas de html por espacios...\n"
          ]
        }
      ],
      "source": [
        "test = desc_test.copy()\n",
        "test_limpio = limpieza_inicial(test)\n",
        "bow_df_test = from_counter(counter, test_limpio)"
      ]
    },
    {
      "cell_type": "code",
      "execution_count": 22,
      "metadata": {
        "id": "Pa7WMI5IOTu_"
      },
      "outputs": [],
      "source": [
        "pares_palabra_frecuencia_train = bow_df_train.sum()\n",
        "pares_palabra_frecuencia_test = bow_df_test.sum()"
      ]
    },
    {
      "cell_type": "markdown",
      "metadata": {
        "id": "iPs1RefumM3Q"
      },
      "source": [
        "#### Examinar palabras clave"
      ]
    },
    {
      "cell_type": "markdown",
      "metadata": {
        "id": "GnHUaHo_zfAn"
      },
      "source": [
        "Palabras clave que probablemente afectan al precio de una propiedad:"
      ]
    },
    {
      "cell_type": "code",
      "execution_count": 23,
      "metadata": {
        "colab": {
          "base_uri": "https://localhost:8080/"
        },
        "id": "dDIvPMQ0vyAl",
        "outputId": "84a6a7fa-14ec-4e88-deb2-81df0b3c6fb2"
      },
      "outputs": [
        {
          "output_type": "execute_result",
          "data": {
            "text/plain": [
              "21041"
            ]
          },
          "metadata": {},
          "execution_count": 23
        }
      ],
      "source": [
        "pares_palabra_frecuencia_train['expensas']"
      ]
    },
    {
      "cell_type": "code",
      "execution_count": 24,
      "metadata": {
        "colab": {
          "base_uri": "https://localhost:8080/"
        },
        "id": "CW8i8og0zrOA",
        "outputId": "af864ee7-925f-4d27-9edb-793994b6443a"
      },
      "outputs": [
        {
          "output_type": "execute_result",
          "data": {
            "text/plain": [
              "26329"
            ]
          },
          "metadata": {},
          "execution_count": 24
        }
      ],
      "source": [
        "pares_palabra_frecuencia_train['frente']"
      ]
    },
    {
      "cell_type": "code",
      "execution_count": 25,
      "metadata": {
        "colab": {
          "base_uri": "https://localhost:8080/"
        },
        "id": "MgHDpKHRwOxd",
        "outputId": "d7cc0c38-397b-4678-eed9-f2bd04e0e5b7"
      },
      "outputs": [
        {
          "output_type": "execute_result",
          "data": {
            "text/plain": [
              "14559"
            ]
          },
          "metadata": {},
          "execution_count": 25
        }
      ],
      "source": [
        "pares_palabra_frecuencia_train['patio']"
      ]
    },
    {
      "cell_type": "code",
      "execution_count": 26,
      "metadata": {
        "colab": {
          "base_uri": "https://localhost:8080/"
        },
        "id": "dfvykRKCuGXe",
        "outputId": "d9eddc19-514f-4d61-94c9-1576d0653209"
      },
      "outputs": [
        {
          "output_type": "execute_result",
          "data": {
            "text/plain": [
              "14515"
            ]
          },
          "metadata": {},
          "execution_count": 26
        }
      ],
      "source": [
        "pares_palabra_frecuencia_train['terraza']"
      ]
    },
    {
      "cell_type": "code",
      "execution_count": 27,
      "metadata": {
        "colab": {
          "base_uri": "https://localhost:8080/"
        },
        "id": "SHtSFNsuwANv",
        "outputId": "3031e0d2-8667-4b40-a008-67caed3ecb38"
      },
      "outputs": [
        {
          "output_type": "execute_result",
          "data": {
            "text/plain": [
              "15940"
            ]
          },
          "metadata": {},
          "execution_count": 27
        }
      ],
      "source": [
        "pares_palabra_frecuencia_train['parrilla']"
      ]
    },
    {
      "cell_type": "code",
      "execution_count": 28,
      "metadata": {
        "colab": {
          "base_uri": "https://localhost:8080/"
        },
        "id": "EQILA9ADwppB",
        "outputId": "1f2fd3a3-c255-448b-92be-5419c5a4ae64"
      },
      "outputs": [
        {
          "output_type": "execute_result",
          "data": {
            "text/plain": [
              "7944"
            ]
          },
          "metadata": {},
          "execution_count": 28
        }
      ],
      "source": [
        "pares_palabra_frecuencia_train['piscina']"
      ]
    },
    {
      "cell_type": "code",
      "execution_count": 29,
      "metadata": {
        "colab": {
          "base_uri": "https://localhost:8080/"
        },
        "id": "Y6tvNjIKCELo",
        "outputId": "aad6d387-d6b7-46f9-ea47-e249636310ab"
      },
      "outputs": [
        {
          "output_type": "execute_result",
          "data": {
            "text/plain": [
              "10050"
            ]
          },
          "metadata": {},
          "execution_count": 29
        }
      ],
      "source": [
        "pares_palabra_frecuencia_train['seguridad']"
      ]
    },
    {
      "cell_type": "code",
      "source": [
        "pares_palabra_frecuencia_train['gimnasio']"
      ],
      "metadata": {
        "colab": {
          "base_uri": "https://localhost:8080/"
        },
        "id": "cNjALLSUasnj",
        "outputId": "c8fa05cf-017b-4275-e1dc-75b1e705ac89"
      },
      "execution_count": 30,
      "outputs": [
        {
          "output_type": "execute_result",
          "data": {
            "text/plain": [
              "3633"
            ]
          },
          "metadata": {},
          "execution_count": 30
        }
      ]
    },
    {
      "cell_type": "markdown",
      "metadata": {
        "id": "Tpp84vSL6q6x"
      },
      "source": [
        "#### A partir de los aspectos relevantes que influyen en el precio de la propiedad, se pueden crear nuevas columnas."
      ]
    },
    {
      "cell_type": "markdown",
      "metadata": {
        "id": "_vKKnTX28MQF"
      },
      "source": [
        "Se parte del supuesto de que en la descripción de la propiedad los vendedores resaltan los aspectos POSITIVOS de la misma. Por lo tanto si la propiedad NO tiene cierta cualidad, probablemente no aparezca esa palabra en la descripción (los aspectos negativos no atraen a los posibles compradores, es preferible directamente no mencionar dicho aspecto antes que exponer que la propiedad NO TIENE tal cosa).\n",
        "\n",
        "De este modo, las cualidades relevantes tienen dos valores posibles. Por ejemplo: Si la propiedad tiene balcon, la columna 'balcon' será igual a 1, caso contrario 'balcon' = 0. De mismo modo, se puede evaluar si la propiedad da al 'frente', si es 'luminoso', si tiene 'terraza', 'piscina', 'patio', etc..."
      ]
    },
    {
      "cell_type": "code",
      "execution_count": 31,
      "metadata": {
        "id": "_OXM6YaumnVy"
      },
      "outputs": [],
      "source": [
        "nuevas_columnas_train = pd.DataFrame()\n",
        "nuevas_columnas_test = pd.DataFrame()"
      ]
    },
    {
      "cell_type": "code",
      "execution_count": 32,
      "metadata": {
        "id": "ktXln5KIbCtE"
      },
      "outputs": [],
      "source": [
        "descripciones_train = train_limpio.property_description\n",
        "descripciones_test = test_limpio.property_description"
      ]
    },
    {
      "cell_type": "code",
      "execution_count": 33,
      "metadata": {
        "id": "0PelegzbmgwR"
      },
      "outputs": [],
      "source": [
        "nuevas_columnas_train['balcon'] = train_limpio.property_description.str.contains('balcon|balcón|Balcón|BALCON|Balcon|BALCÓN', regex=True)\n",
        "nuevas_columnas_test['balcon'] = test_limpio.property_description.str.contains('balcon|balcón|Balcón|BALCON|Balcon|BALCÓN', regex=True)"
      ]
    },
    {
      "cell_type": "code",
      "execution_count": 34,
      "metadata": {
        "colab": {
          "base_uri": "https://localhost:8080/"
        },
        "id": "Dhy-Sk2x5p68",
        "outputId": "8d136332-1f61-4610-846d-7182e887ea1d"
      },
      "outputs": [
        {
          "output_type": "execute_result",
          "data": {
            "text/plain": [
              "False    37703\n",
              "True     20973\n",
              "Name: balcon, dtype: int64"
            ]
          },
          "metadata": {},
          "execution_count": 34
        }
      ],
      "source": [
        "nuevas_columnas_train['balcon'].value_counts()"
      ]
    },
    {
      "cell_type": "markdown",
      "metadata": {
        "id": "vRaUaGkm56wG"
      },
      "source": [
        "Hay aproximadamente 20k de propiedades en train que tienen balcón, es una cantidad razonable ya que en el TP1 se verificó que 'Departamento' representa la mayor cantidad de propiedades en venta en CABA."
      ]
    },
    {
      "cell_type": "code",
      "execution_count": 35,
      "metadata": {
        "colab": {
          "base_uri": "https://localhost:8080/"
        },
        "id": "gpnlinZm5okH",
        "outputId": "0ec4a24b-2a6e-41f5-e082-f5ef0e2b62be"
      },
      "outputs": [
        {
          "output_type": "execute_result",
          "data": {
            "text/plain": [
              "False    9317\n",
              "True     5197\n",
              "Name: balcon, dtype: int64"
            ]
          },
          "metadata": {},
          "execution_count": 35
        }
      ],
      "source": [
        "nuevas_columnas_test['balcon'].value_counts()"
      ]
    },
    {
      "cell_type": "markdown",
      "metadata": {
        "id": "8ZXJMB1h-4po"
      },
      "source": [
        "Hay aproximadamente 5k de propiedades en test que tienen balcón."
      ]
    },
    {
      "cell_type": "code",
      "execution_count": 36,
      "metadata": {
        "id": "cxpFnLbo_EHb"
      },
      "outputs": [],
      "source": [
        "nuevas_columnas_train['terraza'] = descripciones_train.str.contains('terraza|Terraza|TERRAZA', regex=True)\n",
        "nuevas_columnas_test['terraza'] = descripciones_test.str.contains('terraza|Terraza|TERRAZA', regex=True)"
      ]
    },
    {
      "cell_type": "code",
      "execution_count": 37,
      "metadata": {
        "colab": {
          "base_uri": "https://localhost:8080/"
        },
        "id": "VXBapg5t6cLh",
        "outputId": "0927f0b8-eba8-4f63-b433-8e87e4278712"
      },
      "outputs": [
        {
          "output_type": "execute_result",
          "data": {
            "text/plain": [
              "False    46193\n",
              "True     12483\n",
              "Name: terraza, dtype: int64"
            ]
          },
          "metadata": {},
          "execution_count": 37
        }
      ],
      "source": [
        "nuevas_columnas_train['terraza'].value_counts()"
      ]
    },
    {
      "cell_type": "markdown",
      "metadata": {
        "id": "A9cC7W436nmR"
      },
      "source": [
        "Hay aproximadamente 12k de propiedades en train que tienen terraza. Esta cantidad también resulta lógica por el mismo motivo detallado anteriormente, a su vez en este caso se puede agregar que no todos los departamentos permiten acceso a terraza, por lo que se supone que sólo se menciona este aspecto en las descripciones de departamentos que si permiten acceso."
      ]
    },
    {
      "cell_type": "code",
      "execution_count": 38,
      "metadata": {
        "colab": {
          "base_uri": "https://localhost:8080/"
        },
        "id": "xyU1XPvL6etP",
        "outputId": "fc40038f-3499-4c09-a314-877751c94a44"
      },
      "outputs": [
        {
          "output_type": "execute_result",
          "data": {
            "text/plain": [
              "False    11438\n",
              "True      3076\n",
              "Name: terraza, dtype: int64"
            ]
          },
          "metadata": {},
          "execution_count": 38
        }
      ],
      "source": [
        "nuevas_columnas_test['terraza'].value_counts()"
      ]
    },
    {
      "cell_type": "markdown",
      "metadata": {
        "id": "lthYVD_0_T0p"
      },
      "source": [
        "Hay aproximadamente 3k de propiedades en test que tienen terraza."
      ]
    },
    {
      "cell_type": "code",
      "execution_count": 39,
      "metadata": {
        "id": "LB16NvDE_eUA"
      },
      "outputs": [],
      "source": [
        "nuevas_columnas_train['piscina'] = descripciones_train.str.contains('piscina|Piscina|PISCINA', regex=True)\n",
        "nuevas_columnas_test['piscina'] = descripciones_test.str.contains('piscina|Piscina|PISCINA', regex=True)"
      ]
    },
    {
      "cell_type": "code",
      "execution_count": 40,
      "metadata": {
        "colab": {
          "base_uri": "https://localhost:8080/"
        },
        "id": "O77eKIHh7MOs",
        "outputId": "0ad0dbed-60ed-4c5f-b6d2-de7603385a77"
      },
      "outputs": [
        {
          "output_type": "execute_result",
          "data": {
            "text/plain": [
              "False    52053\n",
              "True      6623\n",
              "Name: piscina, dtype: int64"
            ]
          },
          "metadata": {},
          "execution_count": 40
        }
      ],
      "source": [
        "nuevas_columnas_train['piscina'].value_counts()"
      ]
    },
    {
      "cell_type": "markdown",
      "metadata": {
        "id": "UyD_D61m7SkX"
      },
      "source": [
        "Aproximadamente 6k de propiedades en train tienen piscina"
      ]
    },
    {
      "cell_type": "code",
      "execution_count": 41,
      "metadata": {
        "colab": {
          "base_uri": "https://localhost:8080/"
        },
        "id": "lVfMuxCn7LYi",
        "outputId": "48adf2bc-9c96-4cc3-ac2f-c3f024fe2d94"
      },
      "outputs": [
        {
          "output_type": "execute_result",
          "data": {
            "text/plain": [
              "False    12924\n",
              "True      1590\n",
              "Name: piscina, dtype: int64"
            ]
          },
          "metadata": {},
          "execution_count": 41
        }
      ],
      "source": [
        "nuevas_columnas_test['piscina'].value_counts()"
      ]
    },
    {
      "cell_type": "markdown",
      "metadata": {
        "id": "OTuHAM6NAep_"
      },
      "source": [
        "Aproximadamente 1.5k de propiedades en test tienen piscina"
      ]
    },
    {
      "cell_type": "code",
      "source": [
        "nuevas_columnas_train['parrilla'] = descripciones_train.str.contains('parrilla|Parrilla|PARRILLA', regex=True)\n",
        "nuevas_columnas_test['parrilla'] = descripciones_test.str.contains('parrilla|Parrilla|PARRILLA', regex=True)"
      ],
      "metadata": {
        "id": "V5p4ab09cjk-"
      },
      "execution_count": 42,
      "outputs": []
    },
    {
      "cell_type": "code",
      "source": [
        "nuevas_columnas_train['parrilla'].value_counts()"
      ],
      "metadata": {
        "colab": {
          "base_uri": "https://localhost:8080/"
        },
        "id": "c4OLa_0ccwqO",
        "outputId": "68cca095-92b3-4ba5-e2a8-5071055de23f"
      },
      "execution_count": 43,
      "outputs": [
        {
          "output_type": "execute_result",
          "data": {
            "text/plain": [
              "False    43571\n",
              "True     15105\n",
              "Name: parrilla, dtype: int64"
            ]
          },
          "metadata": {},
          "execution_count": 43
        }
      ]
    },
    {
      "cell_type": "markdown",
      "source": [
        "Aproximadamente 15k de propiedades en train tienen parrilla."
      ],
      "metadata": {
        "id": "mZG-Q6adc7wl"
      }
    },
    {
      "cell_type": "code",
      "source": [
        "nuevas_columnas_test['parrilla'].value_counts()"
      ],
      "metadata": {
        "colab": {
          "base_uri": "https://localhost:8080/"
        },
        "id": "8KNgMkcCczfy",
        "outputId": "abe0249e-ebcc-4f8d-ab64-3447ce6029b0"
      },
      "execution_count": 44,
      "outputs": [
        {
          "output_type": "execute_result",
          "data": {
            "text/plain": [
              "False    10872\n",
              "True      3642\n",
              "Name: parrilla, dtype: int64"
            ]
          },
          "metadata": {},
          "execution_count": 44
        }
      ]
    },
    {
      "cell_type": "markdown",
      "source": [
        "Aproximadamente 15k de propiedades en test tienen parrilla"
      ],
      "metadata": {
        "id": "x1B1ThXie4vI"
      }
    },
    {
      "cell_type": "code",
      "source": [
        "nuevas_columnas_train['gimnasio'] = descripciones_train.str.contains('gimnasio|Gimnasio|GIMNASIO', regex=True)\n",
        "nuevas_columnas_test['gimnasio'] = descripciones_test.str.contains('gimnasio|Gimnasio|GIMNASIO', regex=True)"
      ],
      "metadata": {
        "id": "Tsa9vwpVfLMI"
      },
      "execution_count": 45,
      "outputs": []
    },
    {
      "cell_type": "code",
      "source": [
        "nuevas_columnas_train['gimnasio'].value_counts()"
      ],
      "metadata": {
        "colab": {
          "base_uri": "https://localhost:8080/"
        },
        "id": "TU_hV0jKfK1s",
        "outputId": "3b494289-c784-4119-d937-28ce84c0621c"
      },
      "execution_count": 46,
      "outputs": [
        {
          "output_type": "execute_result",
          "data": {
            "text/plain": [
              "False    55016\n",
              "True      3660\n",
              "Name: gimnasio, dtype: int64"
            ]
          },
          "metadata": {},
          "execution_count": 46
        }
      ]
    },
    {
      "cell_type": "code",
      "source": [
        "nuevas_columnas_test['gimnasio'].value_counts()"
      ],
      "metadata": {
        "colab": {
          "base_uri": "https://localhost:8080/"
        },
        "id": "4gFcKSbQfKgy",
        "outputId": "b1fc513a-fcde-4457-8d36-161faa513a39"
      },
      "execution_count": 47,
      "outputs": [
        {
          "output_type": "execute_result",
          "data": {
            "text/plain": [
              "False    13575\n",
              "True       939\n",
              "Name: gimnasio, dtype: int64"
            ]
          },
          "metadata": {},
          "execution_count": 47
        }
      ]
    },
    {
      "cell_type": "markdown",
      "metadata": {
        "id": "u2rTqDr-4JWd"
      },
      "source": [
        "Encoding para las nuevas columnas"
      ]
    },
    {
      "cell_type": "code",
      "execution_count": 48,
      "metadata": {
        "colab": {
          "base_uri": "https://localhost:8080/",
          "height": 175
        },
        "id": "YvgM0dWy455U",
        "outputId": "f9aba2ac-d104-4f9d-a12f-5d513b4a0f72"
      },
      "outputs": [
        {
          "output_type": "execute_result",
          "data": {
            "text/plain": [
              "        balcon  terraza  piscina  parrilla  gimnasio\n",
              "index                                               \n",
              "100248   False    False    False      True     False\n",
              "1472      True     True     True     False     False\n",
              "117479   False    False    False     False     False"
            ],
            "text/html": [
              "\n",
              "  <div id=\"df-951c876d-effb-4fbb-a593-460b2cbb2318\">\n",
              "    <div class=\"colab-df-container\">\n",
              "      <div>\n",
              "<style scoped>\n",
              "    .dataframe tbody tr th:only-of-type {\n",
              "        vertical-align: middle;\n",
              "    }\n",
              "\n",
              "    .dataframe tbody tr th {\n",
              "        vertical-align: top;\n",
              "    }\n",
              "\n",
              "    .dataframe thead th {\n",
              "        text-align: right;\n",
              "    }\n",
              "</style>\n",
              "<table border=\"1\" class=\"dataframe\">\n",
              "  <thead>\n",
              "    <tr style=\"text-align: right;\">\n",
              "      <th></th>\n",
              "      <th>balcon</th>\n",
              "      <th>terraza</th>\n",
              "      <th>piscina</th>\n",
              "      <th>parrilla</th>\n",
              "      <th>gimnasio</th>\n",
              "    </tr>\n",
              "    <tr>\n",
              "      <th>index</th>\n",
              "      <th></th>\n",
              "      <th></th>\n",
              "      <th></th>\n",
              "      <th></th>\n",
              "      <th></th>\n",
              "    </tr>\n",
              "  </thead>\n",
              "  <tbody>\n",
              "    <tr>\n",
              "      <th>100248</th>\n",
              "      <td>False</td>\n",
              "      <td>False</td>\n",
              "      <td>False</td>\n",
              "      <td>True</td>\n",
              "      <td>False</td>\n",
              "    </tr>\n",
              "    <tr>\n",
              "      <th>1472</th>\n",
              "      <td>True</td>\n",
              "      <td>True</td>\n",
              "      <td>True</td>\n",
              "      <td>False</td>\n",
              "      <td>False</td>\n",
              "    </tr>\n",
              "    <tr>\n",
              "      <th>117479</th>\n",
              "      <td>False</td>\n",
              "      <td>False</td>\n",
              "      <td>False</td>\n",
              "      <td>False</td>\n",
              "      <td>False</td>\n",
              "    </tr>\n",
              "  </tbody>\n",
              "</table>\n",
              "</div>\n",
              "      <button class=\"colab-df-convert\" onclick=\"convertToInteractive('df-951c876d-effb-4fbb-a593-460b2cbb2318')\"\n",
              "              title=\"Convert this dataframe to an interactive table.\"\n",
              "              style=\"display:none;\">\n",
              "        \n",
              "  <svg xmlns=\"http://www.w3.org/2000/svg\" height=\"24px\"viewBox=\"0 0 24 24\"\n",
              "       width=\"24px\">\n",
              "    <path d=\"M0 0h24v24H0V0z\" fill=\"none\"/>\n",
              "    <path d=\"M18.56 5.44l.94 2.06.94-2.06 2.06-.94-2.06-.94-.94-2.06-.94 2.06-2.06.94zm-11 1L8.5 8.5l.94-2.06 2.06-.94-2.06-.94L8.5 2.5l-.94 2.06-2.06.94zm10 10l.94 2.06.94-2.06 2.06-.94-2.06-.94-.94-2.06-.94 2.06-2.06.94z\"/><path d=\"M17.41 7.96l-1.37-1.37c-.4-.4-.92-.59-1.43-.59-.52 0-1.04.2-1.43.59L10.3 9.45l-7.72 7.72c-.78.78-.78 2.05 0 2.83L4 21.41c.39.39.9.59 1.41.59.51 0 1.02-.2 1.41-.59l7.78-7.78 2.81-2.81c.8-.78.8-2.07 0-2.86zM5.41 20L4 18.59l7.72-7.72 1.47 1.35L5.41 20z\"/>\n",
              "  </svg>\n",
              "      </button>\n",
              "      \n",
              "  <style>\n",
              "    .colab-df-container {\n",
              "      display:flex;\n",
              "      flex-wrap:wrap;\n",
              "      gap: 12px;\n",
              "    }\n",
              "\n",
              "    .colab-df-convert {\n",
              "      background-color: #E8F0FE;\n",
              "      border: none;\n",
              "      border-radius: 50%;\n",
              "      cursor: pointer;\n",
              "      display: none;\n",
              "      fill: #1967D2;\n",
              "      height: 32px;\n",
              "      padding: 0 0 0 0;\n",
              "      width: 32px;\n",
              "    }\n",
              "\n",
              "    .colab-df-convert:hover {\n",
              "      background-color: #E2EBFA;\n",
              "      box-shadow: 0px 1px 2px rgba(60, 64, 67, 0.3), 0px 1px 3px 1px rgba(60, 64, 67, 0.15);\n",
              "      fill: #174EA6;\n",
              "    }\n",
              "\n",
              "    [theme=dark] .colab-df-convert {\n",
              "      background-color: #3B4455;\n",
              "      fill: #D2E3FC;\n",
              "    }\n",
              "\n",
              "    [theme=dark] .colab-df-convert:hover {\n",
              "      background-color: #434B5C;\n",
              "      box-shadow: 0px 1px 3px 1px rgba(0, 0, 0, 0.15);\n",
              "      filter: drop-shadow(0px 1px 2px rgba(0, 0, 0, 0.3));\n",
              "      fill: #FFFFFF;\n",
              "    }\n",
              "  </style>\n",
              "\n",
              "      <script>\n",
              "        const buttonEl =\n",
              "          document.querySelector('#df-951c876d-effb-4fbb-a593-460b2cbb2318 button.colab-df-convert');\n",
              "        buttonEl.style.display =\n",
              "          google.colab.kernel.accessAllowed ? 'block' : 'none';\n",
              "\n",
              "        async function convertToInteractive(key) {\n",
              "          const element = document.querySelector('#df-951c876d-effb-4fbb-a593-460b2cbb2318');\n",
              "          const dataTable =\n",
              "            await google.colab.kernel.invokeFunction('convertToInteractive',\n",
              "                                                     [key], {});\n",
              "          if (!dataTable) return;\n",
              "\n",
              "          const docLinkHtml = 'Like what you see? Visit the ' +\n",
              "            '<a target=\"_blank\" href=https://colab.research.google.com/notebooks/data_table.ipynb>data table notebook</a>'\n",
              "            + ' to learn more about interactive tables.';\n",
              "          element.innerHTML = '';\n",
              "          dataTable['output_type'] = 'display_data';\n",
              "          await google.colab.output.renderOutput(dataTable, element);\n",
              "          const docLink = document.createElement('div');\n",
              "          docLink.innerHTML = docLinkHtml;\n",
              "          element.appendChild(docLink);\n",
              "        }\n",
              "      </script>\n",
              "    </div>\n",
              "  </div>\n",
              "  "
            ]
          },
          "metadata": {},
          "execution_count": 48
        }
      ],
      "source": [
        "nuevas_columnas_train.head(3)"
      ]
    },
    {
      "cell_type": "code",
      "execution_count": 49,
      "metadata": {
        "id": "W5PamxMb4Soc"
      },
      "outputs": [],
      "source": [
        "for (label, content) in nuevas_columnas_train.iteritems():\n",
        "    nuevas_columnas_train[label] = nuevas_columnas_train[label].map({True:1,False:0},na_action=None)\n",
        "\n",
        "for (label, content) in nuevas_columnas_test.iteritems():\n",
        "    nuevas_columnas_test[label] = nuevas_columnas_test[label].map({True:1,False:0},na_action=None)"
      ]
    },
    {
      "cell_type": "code",
      "execution_count": 50,
      "metadata": {
        "colab": {
          "base_uri": "https://localhost:8080/",
          "height": 175
        },
        "id": "5ECcvs6m48dD",
        "outputId": "f0eeeb6e-036e-4eac-ea15-a71adb90e3db"
      },
      "outputs": [
        {
          "output_type": "execute_result",
          "data": {
            "text/plain": [
              "        balcon  terraza  piscina  parrilla  gimnasio\n",
              "index                                               \n",
              "100248       0        0        0         1         0\n",
              "1472         1        1        1         0         0\n",
              "117479       0        0        0         0         0"
            ],
            "text/html": [
              "\n",
              "  <div id=\"df-22e6517e-06be-401f-9fdd-2a4241109d0a\">\n",
              "    <div class=\"colab-df-container\">\n",
              "      <div>\n",
              "<style scoped>\n",
              "    .dataframe tbody tr th:only-of-type {\n",
              "        vertical-align: middle;\n",
              "    }\n",
              "\n",
              "    .dataframe tbody tr th {\n",
              "        vertical-align: top;\n",
              "    }\n",
              "\n",
              "    .dataframe thead th {\n",
              "        text-align: right;\n",
              "    }\n",
              "</style>\n",
              "<table border=\"1\" class=\"dataframe\">\n",
              "  <thead>\n",
              "    <tr style=\"text-align: right;\">\n",
              "      <th></th>\n",
              "      <th>balcon</th>\n",
              "      <th>terraza</th>\n",
              "      <th>piscina</th>\n",
              "      <th>parrilla</th>\n",
              "      <th>gimnasio</th>\n",
              "    </tr>\n",
              "    <tr>\n",
              "      <th>index</th>\n",
              "      <th></th>\n",
              "      <th></th>\n",
              "      <th></th>\n",
              "      <th></th>\n",
              "      <th></th>\n",
              "    </tr>\n",
              "  </thead>\n",
              "  <tbody>\n",
              "    <tr>\n",
              "      <th>100248</th>\n",
              "      <td>0</td>\n",
              "      <td>0</td>\n",
              "      <td>0</td>\n",
              "      <td>1</td>\n",
              "      <td>0</td>\n",
              "    </tr>\n",
              "    <tr>\n",
              "      <th>1472</th>\n",
              "      <td>1</td>\n",
              "      <td>1</td>\n",
              "      <td>1</td>\n",
              "      <td>0</td>\n",
              "      <td>0</td>\n",
              "    </tr>\n",
              "    <tr>\n",
              "      <th>117479</th>\n",
              "      <td>0</td>\n",
              "      <td>0</td>\n",
              "      <td>0</td>\n",
              "      <td>0</td>\n",
              "      <td>0</td>\n",
              "    </tr>\n",
              "  </tbody>\n",
              "</table>\n",
              "</div>\n",
              "      <button class=\"colab-df-convert\" onclick=\"convertToInteractive('df-22e6517e-06be-401f-9fdd-2a4241109d0a')\"\n",
              "              title=\"Convert this dataframe to an interactive table.\"\n",
              "              style=\"display:none;\">\n",
              "        \n",
              "  <svg xmlns=\"http://www.w3.org/2000/svg\" height=\"24px\"viewBox=\"0 0 24 24\"\n",
              "       width=\"24px\">\n",
              "    <path d=\"M0 0h24v24H0V0z\" fill=\"none\"/>\n",
              "    <path d=\"M18.56 5.44l.94 2.06.94-2.06 2.06-.94-2.06-.94-.94-2.06-.94 2.06-2.06.94zm-11 1L8.5 8.5l.94-2.06 2.06-.94-2.06-.94L8.5 2.5l-.94 2.06-2.06.94zm10 10l.94 2.06.94-2.06 2.06-.94-2.06-.94-.94-2.06-.94 2.06-2.06.94z\"/><path d=\"M17.41 7.96l-1.37-1.37c-.4-.4-.92-.59-1.43-.59-.52 0-1.04.2-1.43.59L10.3 9.45l-7.72 7.72c-.78.78-.78 2.05 0 2.83L4 21.41c.39.39.9.59 1.41.59.51 0 1.02-.2 1.41-.59l7.78-7.78 2.81-2.81c.8-.78.8-2.07 0-2.86zM5.41 20L4 18.59l7.72-7.72 1.47 1.35L5.41 20z\"/>\n",
              "  </svg>\n",
              "      </button>\n",
              "      \n",
              "  <style>\n",
              "    .colab-df-container {\n",
              "      display:flex;\n",
              "      flex-wrap:wrap;\n",
              "      gap: 12px;\n",
              "    }\n",
              "\n",
              "    .colab-df-convert {\n",
              "      background-color: #E8F0FE;\n",
              "      border: none;\n",
              "      border-radius: 50%;\n",
              "      cursor: pointer;\n",
              "      display: none;\n",
              "      fill: #1967D2;\n",
              "      height: 32px;\n",
              "      padding: 0 0 0 0;\n",
              "      width: 32px;\n",
              "    }\n",
              "\n",
              "    .colab-df-convert:hover {\n",
              "      background-color: #E2EBFA;\n",
              "      box-shadow: 0px 1px 2px rgba(60, 64, 67, 0.3), 0px 1px 3px 1px rgba(60, 64, 67, 0.15);\n",
              "      fill: #174EA6;\n",
              "    }\n",
              "\n",
              "    [theme=dark] .colab-df-convert {\n",
              "      background-color: #3B4455;\n",
              "      fill: #D2E3FC;\n",
              "    }\n",
              "\n",
              "    [theme=dark] .colab-df-convert:hover {\n",
              "      background-color: #434B5C;\n",
              "      box-shadow: 0px 1px 3px 1px rgba(0, 0, 0, 0.15);\n",
              "      filter: drop-shadow(0px 1px 2px rgba(0, 0, 0, 0.3));\n",
              "      fill: #FFFFFF;\n",
              "    }\n",
              "  </style>\n",
              "\n",
              "      <script>\n",
              "        const buttonEl =\n",
              "          document.querySelector('#df-22e6517e-06be-401f-9fdd-2a4241109d0a button.colab-df-convert');\n",
              "        buttonEl.style.display =\n",
              "          google.colab.kernel.accessAllowed ? 'block' : 'none';\n",
              "\n",
              "        async function convertToInteractive(key) {\n",
              "          const element = document.querySelector('#df-22e6517e-06be-401f-9fdd-2a4241109d0a');\n",
              "          const dataTable =\n",
              "            await google.colab.kernel.invokeFunction('convertToInteractive',\n",
              "                                                     [key], {});\n",
              "          if (!dataTable) return;\n",
              "\n",
              "          const docLinkHtml = 'Like what you see? Visit the ' +\n",
              "            '<a target=\"_blank\" href=https://colab.research.google.com/notebooks/data_table.ipynb>data table notebook</a>'\n",
              "            + ' to learn more about interactive tables.';\n",
              "          element.innerHTML = '';\n",
              "          dataTable['output_type'] = 'display_data';\n",
              "          await google.colab.output.renderOutput(dataTable, element);\n",
              "          const docLink = document.createElement('div');\n",
              "          docLink.innerHTML = docLinkHtml;\n",
              "          element.appendChild(docLink);\n",
              "        }\n",
              "      </script>\n",
              "    </div>\n",
              "  </div>\n",
              "  "
            ]
          },
          "metadata": {},
          "execution_count": 50
        }
      ],
      "source": [
        "nuevas_columnas_train.head(3)"
      ]
    },
    {
      "cell_type": "markdown",
      "metadata": {
        "id": "cdojruEMZHCc"
      },
      "source": [
        "### Minqing Hu & Bing Liu"
      ]
    },
    {
      "cell_type": "markdown",
      "metadata": {
        "id": "Hy31PCvry4rQ"
      },
      "source": [
        "Usamos una versión simplificada de Minqing Hu & Bing Liu usando un lexicon de palabras que indican valor, revisando qué palabras las tienen como vecinas. Éstas son candidatas a nuevas columnas, cuyos valores son las palabras de valor."
      ]
    },
    {
      "cell_type": "markdown",
      "metadata": {
        "id": "lT5HnTkSZPB3"
      },
      "source": [
        "Buscar palabras y frases repetidas: Lo tenemos en el análisis BOW"
      ]
    },
    {
      "cell_type": "code",
      "execution_count": 51,
      "metadata": {
        "colab": {
          "base_uri": "https://localhost:8080/"
        },
        "id": "bYfo_8YrSdnz",
        "outputId": "097b97e4-15fb-405b-8927-e0dc2563869c"
      },
      "outputs": [
        {
          "output_type": "execute_result",
          "data": {
            "text/plain": [
              "[('bano', 53748),\n",
              " ('living', 39735),\n",
              " ('casa', 32040),\n",
              " ('dormitorios', 29839),\n",
              " ('dormitorio', 29036),\n",
              " ('balcon', 28940),\n",
              " ('planta', 26813),\n",
              " ('frente', 26329),\n",
              " ('departamento', 26015),\n",
              " ('edificio', 21100)]"
            ]
          },
          "metadata": {},
          "execution_count": 51
        }
      ],
      "source": [
        "sorted(pares_palabra_frecuencia_train.items(),  key=lambda pair: -pair[1])[:10]"
      ]
    },
    {
      "cell_type": "markdown",
      "metadata": {
        "id": "cKjtn8WCS5ql"
      },
      "source": [
        "#### Hallar juicios de valor\n",
        " para cada palabra le asignamos un score dependiendo de cuantos juicios de valor tienen asociadas"
      ]
    },
    {
      "cell_type": "markdown",
      "source": [
        "Creamos una lista de las palabras más comunes"
      ],
      "metadata": {
        "id": "yThHSordd6d8"
      }
    },
    {
      "cell_type": "code",
      "execution_count": 52,
      "metadata": {
        "id": "rBziNGvhTGsf"
      },
      "outputs": [],
      "source": [
        "keywords = list(pares_palabra_frecuencia_train.keys())"
      ]
    },
    {
      "cell_type": "code",
      "source": [
        "#limpiemos las palabras claves manualmente: 'aires' nos causará problema por 'buenos aires'!\n",
        "keywords.remove('aires')\n",
        "keywords.remove('carlos')\n",
        "keywords.remove('avenida')"
      ],
      "metadata": {
        "id": "u8BFqT0ypars"
      },
      "execution_count": 53,
      "outputs": []
    },
    {
      "cell_type": "markdown",
      "source": [
        "Definimos métodos"
      ],
      "metadata": {
        "id": "RysxaiQreAbt"
      }
    },
    {
      "cell_type": "code",
      "execution_count": 54,
      "metadata": {
        "id": "mzOLa4mgWq7M"
      },
      "outputs": [],
      "source": [
        "MAX_CHARACTERS_PER_TEXT = 300\n",
        "def tokenize(text):\n",
        "  text = re.sub(\"[\\\\W]\",\" \", text)\n",
        "  words = str(text)[:MAX_CHARACTERS_PER_TEXT].split()[:-1]\n",
        "  return words"
      ]
    },
    {
      "cell_type": "code",
      "execution_count": 55,
      "metadata": {
        "id": "BToC7r04dIdf"
      },
      "outputs": [],
      "source": [
        "def combine_lists(series):\n",
        "  li = []\n",
        "  for text in series:\n",
        "    textlist = re.sub(\"[\\\\W]\",\" \", text)\n",
        "    textlist = textlist.split()\n",
        "    li += textlist\n",
        "  return li"
      ]
    },
    {
      "cell_type": "code",
      "execution_count": 56,
      "metadata": {
        "id": "h8xhzl0zTPtw"
      },
      "outputs": [],
      "source": [
        "#get neighbors of i-th word\n",
        "def _get_index_neighbors(full_word_list, i):\n",
        "  try:\n",
        "    return [full_word_list[i-1], full_word_list[i+1]]\n",
        "  except:\n",
        "    neighs = [i-1, i+1]\n",
        "    for n in neighs:\n",
        "      if n in range(0, len(full_word_list)):\n",
        "        return [full_word_list[n]]\n",
        "    return []\n",
        "\n",
        "\n",
        "def _instances_of_word(_word, _list):\n",
        "  return (i for i,word in enumerate(_list) if word==_word)\n",
        "\n",
        "def get_neighbors_list(_word, _list):\n",
        "    neighbors = []\n",
        "    for i in _instances_of_word(_word, _list):\n",
        "        neighbors += _get_index_neighbors(_list, i)\n",
        "    return neighbors"
      ]
    },
    {
      "cell_type": "markdown",
      "source": [
        "Este algoritmo le da un 'valor de juicio' a las palabras más comunes, dependiendo de qué tan a menudo palabras de valor (buen, mal, barato, agradable) aparecen como sus vecinas. Usamos este puntaje para seleccionar las *candidatas* a columnas."
      ],
      "metadata": {
        "id": "w0hE2UEKhede"
      }
    },
    {
      "cell_type": "code",
      "execution_count": 57,
      "metadata": {
        "id": "NU1WVDDeYiAc"
      },
      "outputs": [],
      "source": [
        "def value_judgements(neighbors, value_words):\n",
        "  points = 0\n",
        "  for neighbor in neighbors:\n",
        "    for value_word in value_words:\n",
        "      if neighbor.startswith(value_word):\n",
        "        points += 1\n",
        "  return points / len(neighbors) if len(neighbors) else 0"
      ]
    },
    {
      "cell_type": "markdown",
      "metadata": {
        "id": "X4OpjXK_3MTs"
      },
      "source": [
        "Obtenemos lista de todas las palabras en el dataset en secuencia"
      ]
    },
    {
      "cell_type": "code",
      "execution_count": 58,
      "metadata": {
        "id": "Xgz3cqsGiUh6"
      },
      "outputs": [],
      "source": [
        "sample = train_limpio.property_description.sample(2000, random_state=0)"
      ]
    },
    {
      "cell_type": "code",
      "execution_count": 59,
      "metadata": {
        "id": "c44FT0Y_sAUg"
      },
      "outputs": [],
      "source": [
        "words = combine_lists(sample)"
      ]
    },
    {
      "cell_type": "code",
      "execution_count": 60,
      "metadata": {
        "id": "8sU_tF7HjHin"
      },
      "outputs": [],
      "source": [
        "n = get_neighbors_list('bano',words)"
      ]
    },
    {
      "cell_type": "code",
      "execution_count": 61,
      "metadata": {
        "id": "lcvSmAX0f1zV"
      },
      "outputs": [],
      "source": [
        "value_words = ['buen',  'gran', 'excelente', 'hermos']"
      ]
    },
    {
      "cell_type": "code",
      "execution_count": 62,
      "metadata": {
        "colab": {
          "base_uri": "https://localhost:8080/"
        },
        "id": "Z7OtnB7WfEGs",
        "outputId": "2664c2ce-09a1-4fc0-a8e2-4b22fdd3b7e6"
      },
      "outputs": [
        {
          "output_type": "stream",
          "name": "stdout",
          "text": [
            "aberturas: 0.008426966292134831\n",
            "abl: 0.0\n",
            "acceso: 0.02111324376199616\n",
            "acero: 0.0\n",
            "actualizacion: 0\n",
            "ademas: 0.02\n",
            "afip: 0.003703703703703704\n",
            "agentes: 0.0\n",
            "agua: 0.0026595744680851063\n",
            "alacena: 0.0\n",
            "alacenas: 0.010526315789473684\n",
            "alquiler: 0.0071090047393364926\n",
            "altura: 0.0072992700729927005\n",
            "aluminio: 0.002688172043010753\n",
            "amb: 0.017857142857142856\n",
            "ambiente: 0.01932367149758454\n",
            "amenities: 0.019230769230769232\n",
            "amplia: 0.0019083969465648854\n",
            "amplios: 0.0\n",
            "anafe: 0.009708737864077669\n",
            "ano: 0\n",
            "anos: 0\n",
            "antiguedad: 0.0\n",
            "aprox: 0.015384615384615385\n",
            "aproximadas: 0.0\n",
            "aproximados: 0.002564102564102564\n",
            "area: 0.0\n",
            "arquitectonicas: 0\n",
            "artefactos: 0.0\n",
            "ascensor: 0.018072289156626505\n",
            "ascensores: 0.004201680672268907\n",
            "automatico: 0.05\n",
            "autos: 0.018867924528301886\n",
            "av: 0.0\n",
            "aysa: 0.0\n",
            "bacha: 0.004310344827586207\n",
            "baja: 0.005580357142857143\n",
            "bajas: 0.00641025641025641\n",
            "balcon: 0.008571428571428572\n",
            "banera: 0.0\n",
            "banker: 0.0\n",
            "bano: 0.0\n",
            "banos: 0\n",
            "barra: 0.015060240963855422\n",
            "barrio: 0.004173622704507512\n",
            "baulera: 0.019553072625698324\n",
            "belgrano: 0.005154639175257732\n",
            "buena: 0.0\n",
            "buenos: 0.031055900621118012\n",
            "caba: 0.010869565217391304\n",
            "caldera: 0.0048543689320388345\n",
            "calefaccion: 0.0\n",
            "calidad: 0.13451086956521738\n",
            "calle: 0.0036496350364963502\n",
            "calles: 0.0\n",
            "calor: 0.002717391304347826\n",
            "cancha: 0.004901960784313725\n",
            "canchas: 0.0\n",
            "caracteristicas: 0.014285714285714285\n",
            "cargo: 0.0\n",
            "casa: 0.038224956063268895\n",
            "caso: 0.0\n",
            "casos: 0.0\n",
            "categoria: 0.09259259259259259\n",
            "centesimos: 0\n",
            "centro: 0.003048780487804878\n",
            "cerrado: 0.01020408163265306\n",
            "circulacion: 0.07142857142857142\n",
            "ciudad: 0.009523809523809525\n",
            "club: 0.006666666666666667\n",
            "cmcpsi: 0.008928571428571428\n",
            "cobrar: 0.0\n",
            "cocheras: 0.004310344827586207\n",
            "codigo: 0.0\n",
            "coldwell: 0.002976190476190476\n",
            "colectivos: 0.0\n",
            "colegiados: 0.0\n",
            "colegios: 0.012195121951219513\n",
            "comerciales: 0.0058823529411764705\n",
            "comision: 0.0\n",
            "comisiones: 0.0\n",
            "comodo: 0.0\n",
            "completa: 0.0033333333333333335\n",
            "completos: 0.009146341463414634\n",
            "compra: 0.0\n",
            "comun: 0.0\n",
            "comunes: 0.0\n",
            "conclusion: 0\n",
            "condiciones: 0.1111111111111111\n",
            "conexion: 0.0\n",
            "consta: 0.0\n",
            "constitucionales: 0.0\n",
            "construccion: 0.058823529411764705\n",
            "consultar: 0.002688172043010753\n",
            "contacto: 0.0025906735751295338\n",
            "contractuales: 0.025\n",
            "contrafrente: 0.003105590062111801\n",
            "contrato: 0.0\n",
            "cordoba: 0.013513513513513514\n",
            "corredores: 0.0\n",
            "corretaje: 0.0\n",
            "corrido: 0.010101010101010102\n",
            "coti: 0.0\n",
            "cpi: 0.006622516556291391\n",
            "csi: 0.007936507936507936\n",
            "cuadra: 0.0\n",
            "cubiertos: 0.0\n",
            "cumplimiento: 0.0\n",
            "cuota: 0.0\n",
            "cuotas: 0.0\n",
            "cuyos: 0.0\n",
            "da: 0.015873015873015872\n",
            "datos: 0.0\n",
            "deberan: 0.0\n",
            "debiendose: 0\n",
            "defensa: 0.0\n",
            "deja: 0.0\n",
            "demas: 0\n",
            "departamento: 0.06312292358803986\n",
            "departamentos: 0.0\n",
            "dependencia: 0.0051813471502590676\n",
            "deposito: 0.0136986301369863\n",
            "desarrollada: 0.0\n",
            "describe: 0.0\n",
            "descripciones: 0.0\n",
            "descubierta: 0.0078125\n",
            "detalles: 0.019337016574585635\n",
            "dimensiones: 0.29577464788732394\n",
            "diseno: 0.0\n",
            "distribucion: 0.0\n",
            "documentacion: 0.0\n",
            "dormitorio: 0.0040858018386108275\n",
            "dormitorios: 0.005330490405117271\n",
            "ducha: 0.005988023952095809\n",
            "duplex: 0.056451612903225805\n",
            "dvh: 0.0\n",
            "edificio: 0.008534850640113799\n",
            "efecto: 0.0\n",
            "ejercen: 0.0\n",
            "electrica: 0.0\n",
            "electrico: 0.0\n",
            "empotrado: 0.005813953488372093\n",
            "empresa: 0.0\n",
            "encontramos: 0.0\n",
            "encuentran: 0.0\n",
            "entorno: 0.031914893617021274\n",
            "entrada: 0.010574018126888218\n",
            "entrega: 0.00273224043715847\n",
            "equipada: 0.0\n",
            "equipado: 0.006172839506172839\n",
            "escalera: 0.011210762331838564\n",
            "escritorio: 0.0049504950495049506\n",
            "escritura: 0.006172839506172839\n",
            "esenciales: 0.0\n",
            "espacio: 0.02505446623093682\n",
            "espacios: 0.016233766233766232\n",
            "esquina: 0.012195121951219513\n",
            "estacion: 0.0\n",
            "estan: 0.0\n",
            "estilo: 0.00510204081632653\n",
            "estrenar: 0.013157894736842105\n",
            "eventual: 0.0\n",
            "excelentes: 0.0\n",
            "exhiben: 0.0\n",
            "expensas: 0.008148148148148147\n",
            "fe: 0.0056179775280898875\n",
            "fija: 0.0\n",
            "financiacion: 0.029411764705882353\n",
            "fisicas: 0.0\n",
            "fondo: 0.012422360248447204\n",
            "forma: 0.0\n",
            "fotos: 0.007936507936507936\n",
            "frente: 0.00825082508250825\n",
            "frio: 0.0\n",
            "funcionales: 0.0\n",
            "futbol: 0.0\n",
            "fv: 0.0056179775280898875\n",
            "galeria: 0.02054794520547945\n",
            "garage: 0.0\n",
            "garantia: 0.0\n",
            "gas: 0.004966887417218543\n",
            "gastos: 0.0024875621890547263\n",
            "gestion: 0.0\n",
            "gestores: 0.0\n",
            "gestoria: 0\n",
            "gimnasio: 0.011627906976744186\n",
            "golf: 0.0\n",
            "grandes: 0.0\n",
            "granito: 0.0\n",
            "griferia: 0.0\n",
            "habitacion: 0.013157894736842105\n",
            "habitaciones: 0.020958083832335328\n",
            "hace: 0.0\n",
            "hall: 0.014005602240896359\n",
            "hermosa: 0.0\n",
            "hogar: 0.006097560975609756\n",
            "hormigon: 0.0\n",
            "horno: 0.0\n",
            "house: 0.005747126436781609\n",
            "hs: 0.006756756756756757\n",
            "id: 0.00718132854578097\n",
            "iluminacion: 0.0\n",
            "impecable: 0.0045045045045045045\n",
            "impuestos: 0.0\n",
            "incluye: 0.0\n",
            "informes: 0.010309278350515464\n",
            "ingreso: 0.003952569169960474\n",
            "inmejorable: 0.0\n",
            "inmobiliaria: 0.0\n",
            "inmobiliarias: 0.0\n",
            "inmobiliarios: 0.009259259259259259\n",
            "inquilinos: 0.0\n",
            "instalacion: 0.0\n",
            "integrada: 0.0033444816053511705\n",
            "interiores: 0.006289308176100629\n",
            "intermediacion: 0\n",
            "jardin: 0.03879310344827586\n",
            "juan: 0.003968253968253968\n",
            "juegos: 0.004424778761061947\n",
            "km: 0.0\n",
            "lago: 0.017857142857142856\n",
            "laguna: 0.0196078431372549\n",
            "laundry: 0.0037313432835820895\n",
            "lavadero: 0.011594202898550725\n",
            "lavarropas: 0.007142857142857143\n",
            "lealtad: 0.0\n",
            "linea: 0.0\n",
            "lineas: 0.0\n",
            "living: 0.026390870185449358\n",
            "losa: 0.0\n",
            "lote: 0.029411764705882353\n",
            "lotes: 0.0049504950495049506\n",
            "lugar: 0.021739130434782608\n",
            "luminosa: 0.007246376811594203\n",
            "luz: 0.029513888888888888\n",
            "madera: 0.00946372239747634\n",
            "marca: 0.0\n",
            "maria: 0.0\n",
            "marmol: 0.0\n",
            "martilleros: 0.0\n",
            "martin: 0.0\n",
            "mat: 0.005076142131979695\n",
            "matricula: 0.0\n",
            "matriculado: 0.0\n",
            "max: 0.0\n",
            "maximo: 0.0\n",
            "medios: 0.004901960784313725\n",
            "meramente: 0.0\n",
            "mes: 0.0\n",
            "mesada: 0.008849557522123894\n",
            "minutos: 0.0\n",
            "misma: 0.004273504273504274\n",
            "monoambiente: 0.08620689655172414\n",
            "monto: 0.0\n",
            "muebles: 0.005067567567567568\n",
            "multiples: 0.0\n",
            "nacion: 0.0\n",
            "ninos: 0.0\n",
            "nombre: 0.0\n",
            "nordelta: 0.012048192771084338\n",
            "normas: 0.0\n",
            "norte: 0.0\n",
            "objeto: 0.0\n",
            "oeste: 0.027777777777777776\n",
            "oficina: 0.006802721088435374\n",
            "oficinas: 0.0033112582781456954\n",
            "ofrece: 0.014285714285714285\n",
            "oportunidad: 0.18489583333333334\n",
            "orientacion: 0.07142857142857142\n",
            "orientativo: 0.0\n",
            "pago: 0.0036231884057971015\n",
            "palermo: 0.011811023622047244\n",
            "palier: 0.015873015873015872\n",
            "panamericana: 0.0\n",
            "paredes: 0.0\n",
            "parque: 0.036101083032490974\n",
            "parquet: 0.009708737864077669\n",
            "parrilla: 0.012302284710017574\n",
            "pasillo: 0.0036496350364963502\n",
            "patio: 0.01440329218106996\n",
            "pb: 0.0032679738562091504\n",
            "ph: 0.04365079365079365\n",
            "pilar: 0.00819672131147541\n",
            "pileta: 0.013452914798206279\n",
            "piscina: 0.015267175572519083\n",
            "placard: 0.02032520325203252\n",
            "placares: 0.03125\n",
            "planos: 0.0\n",
            "planta: 0.002290950744558992\n",
            "plantas: 0.002380952380952381\n",
            "plata: 0.015\n",
            "playroom: 0.07368421052631578\n",
            "plaza: 0.005917159763313609\n",
            "porcelanato: 0.014150943396226415\n",
            "porton: 0.0\n",
            "posee: 0.007331378299120235\n",
            "posibilidad: 0.0\n",
            "precio: 0.0058823529411764705\n",
            "precios: 0.0\n",
            "prestamo: 0\n",
            "propia: 0.005494505494505495\n",
            "propiedades: 0.0031645569620253164\n",
            "propietarios: 0.0\n",
            "proyecto: 0.0136986301369863\n",
            "publicacion: 0.0\n",
            "publicado: 0.0\n",
            "publico: 0.0\n",
            "puede: 0.0\n",
            "pueden: 0.0\n",
            "puerta: 0.002824858757062147\n",
            "puertas: 0.010869565217391304\n",
            "quincho: 0.020588235294117647\n",
            "radiadores: 0.005555555555555556\n",
            "radiante: 0.006711409395973154\n",
            "reales: 0.0\n",
            "recepcion: 0.046875\n",
            "reciclado: 0.007142857142857143\n",
            "red: 0.0\n",
            "requerir: 0.0\n",
            "requisitos: 0.0\n",
            "residencial: 0.0\n",
            "resolucion: 0.0\n",
            "respectivo: 0.0\n",
            "rio: 0.02\n",
            "ruta: 0.004273504273504274\n",
            "sala: 0.0033783783783783786\n",
            "salida: 0.0\n",
            "salon: 0.03571428571428571\n",
            "sanitarios: 0.0\n",
            "santa: 0.0\n",
            "sector: 0.0029940119760479044\n",
            "segun: 0.0\n",
            "seguridad: 0.004491017964071856\n",
            "semi: 0.008333333333333333\n",
            "separada: 0.0\n",
            "ser: 0.0\n",
            "sera: 0.0\n",
            "seran: 0.0\n",
            "servicio: 0.0024937655860349127\n",
            "servicios: 0.0009505703422053232\n",
            "si: 0.007692307692307693\n",
            "sistema: 0.0\n",
            "solarium: 0.021739130434782608\n",
            "split: 0.0\n",
            "subsuelo: 0.012987012987012988\n",
            "subte: 0.0\n",
            "suite: 0.00429553264604811\n",
            "sum: 0.015306122448979591\n",
            "supeditada: 0.0\n",
            "super: 0.0\n",
            "superficie: 0.0016611295681063123\n",
            "superficies: 0.0\n",
            "sur: 0.0\n",
            "surgen: 0.0\n",
            "surgiran: 0.0\n",
            "tambien: 0.0\n",
            "techo: 0.0029411764705882353\n",
            "tenis: 0.0\n",
            "terminaciones: 0.08641975308641975\n",
            "termotanque: 0.0\n",
            "terraza: 0.029465930018416207\n",
            "tipo: 0.004366812227074236\n",
            "titulo: 0.0\n",
            "toda: 0.0\n",
            "toilette: 0.004889975550122249\n",
            "torre: 0.005494505494505495\n",
            "totales: 0.0\n",
            "transporte: 0.009009009009009009\n",
            "traves: 0.0\n",
            "tren: 0.006666666666666667\n",
            "tv: 0.0045871559633027525\n",
            "ubicacion: 0.2565789473684211\n",
            "ubicada: 0.0\n",
            "ubicado: 0.001160092807424594\n",
            "ultima: 0.0\n",
            "usd: 0.01293103448275862\n",
            "uso: 0.0\n",
            "valor: 0.0033738191632928477\n",
            "valores: 0.0\n",
            "vende: 0.06989247311827956\n",
            "venta: 0.0068143100511073255\n",
            "ventana: 0.02027027027027027\n",
            "ventanal: 0.07894736842105263\n",
            "ventanales: 0.12980769230769232\n",
            "ventanas: 0.020618556701030927\n",
            "ventilacion: 0.09375\n",
            "verificacion: 0\n",
            "vestidor: 0.026785714285714284\n",
            "vida: 0.0048543689320388345\n",
            "vidrio: 0.003401360544217687\n",
            "villa: 0.0\n",
            "vinculantes: 0.00625\n",
            "visita: 0.02127659574468085\n",
            "vista: 0.06379310344827586\n",
            "vistas: 0.07727272727272727\n",
            "vivienda: 0.0\n",
            "zona: 0.03938906752411576\n"
          ]
        }
      ],
      "source": [
        "word_value_judgement = {}\n",
        "word_neighbors = {}\n",
        "for word in keywords:\n",
        "  neighbors = get_neighbors_list(word,words)\n",
        "  value = value_judgements(neighbors, value_words)\n",
        "  word_value_judgement[word] = value\n",
        "  word_neighbors[word] = neighbors\n",
        "  print(word + \": \" + str(value))"
      ]
    },
    {
      "cell_type": "markdown",
      "metadata": {
        "id": "m5po7_WJvsiK"
      },
      "source": [
        "Basado a estos puntajes obtenemos palabras con alto puntaje, estas serán candidatas a ser columnas"
      ]
    },
    {
      "cell_type": "code",
      "execution_count": 63,
      "metadata": {
        "id": "yxumfjM2vdwO"
      },
      "outputs": [],
      "source": [
        "k = 5\n",
        "candidates = sorted(word_value_judgement.items(),  key=lambda pair: -pair[1])[:5]"
      ]
    },
    {
      "cell_type": "code",
      "execution_count": 64,
      "metadata": {
        "colab": {
          "base_uri": "https://localhost:8080/"
        },
        "id": "IUhDSh11w8fQ",
        "outputId": "07e01ce4-55f7-43a9-8acb-ec3039e3ab73"
      },
      "outputs": [
        {
          "output_type": "execute_result",
          "data": {
            "text/plain": [
              "[('dimensiones', 0.29577464788732394),\n",
              " ('ubicacion', 0.2565789473684211),\n",
              " ('oportunidad', 0.18489583333333334),\n",
              " ('calidad', 0.13451086956521738),\n",
              " ('ventanales', 0.12980769230769232)]"
            ]
          },
          "metadata": {},
          "execution_count": 64
        }
      ],
      "source": [
        "candidates"
      ]
    },
    {
      "cell_type": "code",
      "execution_count": 65,
      "metadata": {
        "id": "lIXTZQ3WxBYm"
      },
      "outputs": [],
      "source": [
        "candidates = list(map(lambda pair: pair[0], candidates))"
      ]
    },
    {
      "cell_type": "code",
      "execution_count": 66,
      "metadata": {
        "colab": {
          "base_uri": "https://localhost:8080/"
        },
        "id": "3-VohlcFpJ8k",
        "outputId": "61ce3dd2-bd1c-4452-b8ca-a410a4ff629c"
      },
      "outputs": [
        {
          "output_type": "execute_result",
          "data": {
            "text/plain": [
              "['dimensiones', 'ubicacion', 'oportunidad', 'calidad', 'ventanales']"
            ]
          },
          "metadata": {},
          "execution_count": 66
        }
      ],
      "source": [
        "candidates"
      ]
    },
    {
      "cell_type": "markdown",
      "metadata": {
        "id": "mxfdElEuzKPv"
      },
      "source": [
        "Teniendo las candidatas, creamos las nuevas columnas y las rellenamos por cada descripción con la palabra de valor relevante"
      ]
    },
    {
      "cell_type": "code",
      "execution_count": 67,
      "metadata": {
        "colab": {
          "base_uri": "https://localhost:8080/"
        },
        "id": "ZfNQJoI7xZSi",
        "outputId": "2f4fa262-9f23-414f-900f-40da41df5ecf"
      },
      "outputs": [
        {
          "output_type": "stream",
          "name": "stdout",
          "text": [
            "['m', 'totales', 'grandes', 'con', 'buenas', 'con', 'de', 'generosas', 'buenas', 'lavadero', 'buenas', 'x', 'cómodas', 'cocina', 'buenas', 'con', 'buenas', 'uno', 'medidas', 'del', 'excelentes', 'y', 'grandes', 'muy', 'amplias', 'con', 'cómodas', 'con', 'grandes', 'en', 'generosas', 'yhogar', 'grandes', 'ensuite', 'grandes', 'en', 'excelentes', 'que', 'grandes', 'hall', 'buenas', 'y', 'grandes', 'con', 'buenas', 'por', 'buenas', 'con', 'grandes', 'y', 'buenas', 'con', 'buenas', 'y', 'generales', 'sup', 'generosas', 'equipado', 'generosas', 'en', 'generosas', 'en', 'cómodas', 'excelente', 'grandes', 'cocina', 'excelentes', 'y', 'buenas', 'los', 'buenas', 'con', 'buenas', 'desde', 'amplias', 'donde', 'buenas', 'con', 'buenas', 'con', 'buenas', 'losa', 'generosas', 'toilette', 'amplísimas', 'con', 'amplias', 'baño', 'buenas', 'con', 'buenas', 'bajas', 'generosas', 'y', 'grandes', 'cocina', 'grandes', 'otroos', 'generosas', 'x', 'importantes', 'se', 'generosas', 'con', 'buenas', 'al', 'cuyas', 'permiten', 'importantes', 'y', 'grandes', 'para', 'ambientes', 'amplisimas', 'cómodas', 'una', 'sus', 'permite', 'grandes', 'orientacion', 'buenas', 'ambos', 'buenas', 'todos', 'las', 'y', 'de', 'amplias', 'solarium', 'son', 'amplias', 'con', 'grandes', 'con', 'buenas', 'cocina', 'cómodas', 'y', 'buenas', 'con', 'excelentes', 'solarium']\n",
            "['exclusividad', 'y', 'habitat', 'estrategica', 'buena', 'a', 'excelente', 'a', 'excelente', 'altura', 'excelente', 'zona', 'excelente', 'en', 'excelente', 'la', 'excelente', 'en', 'antebaño', 'calle', 'excelente', 'a', 'calidad', 'estrategicasobre', 'id', 'privilegiada', 'baja', 'noroeste', 'mejor', 'y', 'excelente', 'imperdible', 'luminoso', 'estrategica', 'buena', 'a', 'excelente', 'cuadras', 'construcciónla', 'es', 'excelente', 'libertador', 'increible', 'scuba', 'excelente', 'a', 'excelente', 'departamento', 'lavarropa', 'a', 'opcional', 'muy', 'excelente', 'a', 'y', 'son', 'y', 'alquiler', 'usd', 'quinto', 'inmobiliaria', 'ubicada', 'excelente', 'a', 'excelente', 'a', 'excelente', 'dentro', 'excelente', 'cercania', 'inversor', 'residencial', 'excelente', 'se', 'exc', 'se', 'excelente', 'monoambiente', 'excelente', 'gran', 'buena', 'remodelado', 'excelente', 'con', 'm', 'a', 'fieles', 'en', 'parrillaexcelente', 'en', 'buena', 'publicado', 'excelente', 'a', 'excelente', 'el', 'exelente', 'zona', 'excelente', 'a', 'tribunalesexcelente', 'impecable', 'inmejorable', 'en', 'balcones', 'en', 'inmejorable', 'mts', 'la', 'ideal', 'excelente', 'rodeado', 'excelente', 'amplias', 'inmejorable', 'a', 'inmejorable', 'a', 'excelente', 'cercano', 'https', 'zona', 'excelente', 'central', 'excelente', 'todas', 'excelente', 'cercano', 'gran', 'a', 'excelente', 'para', 'excelente', 'impecable', 'excelene', 'sobre', 'zona', 'inmejorable', 'una', 'privilegiada', 'según', 'el', 'en', 'similar', 'inmejorable', 'consta', 'excelente', 'y', 'ezeiza', 'se', 'día', 'la']\n",
            "['gran', 'departamento', 'esta', 'desarrollada', 'excelente', 'se', 'tu', 'no', 'gran', 'chalet', 'imperdible', 'consulte', 'excelente', 'financiación', 'esta', 'te', 'esta', 'y', 'abasto', 'codigo', 'maschwitz', 'muy', 'esta', 'ofrecemos', 'id', 'de', 'la', 'de', 'lendar', 'de', 'tu', 'llamanos', 'travertino', 'muy', 'real', 'por', 'gran', 'ph', 'gran', 'para', 'lendar', 'ph', 'gran', 'hotel', 'bancario', 'excelente', 'real', 'no', 'gran', 'casa', 'excelente', 'de', 'buena', 'sobre', 'excelente', 'de', 'excelente', 'para', 'exclusiva', 'departamento', 'exterior', 'por', 'gran', 'de', 'publicación', 'inversores', 'excelente', 'el', 'excelente', 'planta', 'la', 'de', 'fas', 'para', 'gran', 'de', 'pintada', 'atención', 'cucicba', 'de', 'precio', 'única', 'id', 'venta', 'excelente', 'por', 'rosario', 'departamento', 'imperdible', 'de', 'utilizar', 'de', 'pileta', 'hermosa', 'excelente', 'en', 'gran', 'impecable', 'cucicba', 'en', 'quinchos', 'se', 'la', 'de', 'visita', 'inversor', 'excelente', 'en', 'excelente', 'de', 'propiedades', 'patio', 'excelente', 'con', 'responsable', 'sin', 'esta', 'les', 'excelente', 'tu', 'gran', 'de', 'gran', 'impecable', 'excelente', 'se', 'gran', 'para', 'alquilados', 'de', 'esta', 'de', 'mail', 'piso', 'una', 'imperdible', 'colectivo', 'se', 'increíble', 'zona', 'inmejorable', 'y', 'excelente', 'las', 'excelente', 'de', 'esta', 'visita', 'interno', 'a', 'excelente', 'de', 'dlo', 'ph', 'id', 'para', 'excelente', 'para', 'placares', 'proximo', 'id', 'usd', 'sarmiento', 'ideal', 'retasado', 'frente', 'una', 'aire', 'real', 'de', 'inversores', 'bajas', 'excelente', 'de', 'gran', 'de', 'retasada', 'distribuida', 'gran', 'para', 'la', 'de', 'gran', 'de', 'físicas', 'casa', 'excelente', 'para', 'retasado', 'excelente', 'esta', 'le', 'gran', 'llamame', 'excelente', 'darwin', 'jardín', 'consulte', 'condiciones', 'única', 'increible', 'cuenta', 'completo', 'n', 'esta', 'de', 'dolares', 'única', 'excelente', 'de', 'electrico', 'coti', 'referencia', 'oficina', 'caseros', 'se', 'financiacion', 'unica', 'muebles', 'solo', 'company', 'única', 'esta', 'duit', 'nueva', 'en', 'la', 'de', 'una', 'de', 'gran', 'de', 'buena', 'por', 'gran', 'se', 'esta', 'de', 'marzo', 'de', 'gran', 'de', 'excelente', 'inversores', 'gran', 'de', 'excelente', 'para', 'id', 'monoambiente', 'place', 'tasaciones', 'cocina', 'el', 'excelente', 'en', 'solárium', 'departamento', 'gran', 'a', 'gran', 'para', 'gran', 'para', 'excelente', 'la', 'la', 'de', 'excelente', 'llamame', 'esta', 'veronica', 'valor', 'de', 'luz', 'de', 'excelente', 'apto', 'gran', 'de', 'gran', 'excelente', 'físicas', 'nuevo', 'isidro', 'dos', 'privado', 'para', 'perforación', 'para', 'general', 'dos', 'excelente', 'de', 'id', 'terreno', 'una', 'de', 'escobar', 'características', 'reubicación', 'de', 'gran', 'de', 'rubros', 'de', 'construcción', 'en', 'excelente', 'esperamos', 'gran', 'para', 'esta', 'alcanzá', 'gran', 'de', 'moreno', 'departamento', 'mail', 'departamento', 'lendar', 'cochera', 'colectivos', 'inmejorable', 'inmobiliaria', 'excelente', 'increíble', 'múdate', 'físicas', 'excelente', 'abasto', 'retasado', 'gran', 'para', 'esta', 'n', 'esperanza', 'de', 'completo', 'la', 'gran', 'pida', 'esta', 'departamento', 'esta', 'presentamos', 'cuotas', 'de', 'tu', 'de', 'imperdible', 'para', 'venta', 'casa', 'baulera', 'imperdible', 'imperdible', 'consulte', 'gran', 'mat', 'profesional', 'por', 'id', 'se', 'una', 'para', 'justoexcelente', 'inversorel', 'tu', 'de', 'excelente', 'para', 'aysa', 'de', 'gran', 'n', 'esta', 'le', 'personas', 'coordine', 'mat', 'nuevo', 'una', 'única']\n",
            "['excelente', 'de', 'excelente', 'constructiva', 'gran', 'constructiva', 'y', 'tres', 'alta', 'y', 'excelente', 'las', 'o', 'similar', 'o', 'similar', 'primera', 'en', 'ascensor', 'msr', 'y', 'de', 'primera', 'balcon', 'primera', 'donde', 'excelente', 'se', 'y', 'estancias', 'de', 'en', 'gran', 'en', 'buena', 'memoria', 'buenísima', 'de', 'excelente', 'constructiva', 'de', 'valor', 'pesos', 'fundar', 'altísima', 'seguridad', 'una', 'estadía', 'excelente', 'constructiva', 'mejor', 'de', 'alta', 'con', 'alta', 'en', 'excelente', 'constructiva', 'excelente', 'constructiva', 'de', 'pérgolas', 'excelente', 'constructiva', 'de', 'y', 'buena', 'de', 'primera', 'griferías', 'gran', 'y', 'excelente', 'lavadero', 'en', 'diseño', 'la', 'de', 'alta', 'paisajística', 'primera', 'pisos', 'y', 'de', 'de', 'e', 'de', 'y', 'de', 'grifería', 'primera', 'baño', 'primera', 'muy', 'primera', 'en', 'de', 'el', 'de', 'como', 'de', 'premium', 'excelente', 'y', 'de', 'superior', 'primera', 'cerramiento', 'primara', 'paredes', 'primera', 'cocina', 'primera', 'muebles', 'primera', 'mesada', 'ó', 'similar', 'ó', 'similar', 'ó', 'similar', 'ó', 'similar', 'primera', 'artefactos', 'ó', 'similar', 'ó', 'similar', 'o', 'similar', 'primera', 'puertas', 'primera', 'carpinterías', 'primera', 'barandas', 'ó', 'similar', 'ó', 'similar', 'o', 'similar', 'ó', 'similar', 'ó', 'similar', 'ó', 'similar', 'o', 'similar', 'o', 'similar', 'y', 'y', 'oeste', 'msr', 'buena', 'constructiva', 'primera', 'tonos', 'de', 'revestimientos', 'de', 'aberturas', 'de', 'con', 'de', 'dormitorio', 'de', 'piso', 'de', 'contáctanos', 'de', 'excelente', 'excelente', 'posibilidad', 'la', 'y', 'buena', 'de', 'tu', 'de', 'primera', 'ubicacion', 'excelente', 'constructiva', 'excelente', 'coordinemos', 'excelente', 'de', 'de', 'terraza', 'primera', 'herrería', 'excelente', 'de', 'excelente', 'constructiva', 'primera', 'vista', 'de', 'pisos', 'excelente', 'de', 'primera', 'dormitorios', 'primera', 'en', 'de', 'la', 'primera', 'agua', 'primera', 'techos', 'primera', 'y', 'excelente', 'constructiva', 'de', 'pisos', 'excelente', 'termotanque', 'excelente', 'disponilbles', 'y', 'de', 'de', 'increíbles', 'buena', 'calefacción', 'excelente', 'muy', 'excelente', 'vidriada', 'máxima', 'columna', 'de', 'seguridad', 'o', 'superior', 'alta', 'piso', 'primera', 'instalación', 'de', 'cocina', 'de', 'además', 'de', 'con', 'notable', 'constructiva', 'excelente', 'constructiva', 'primera', 'con', 'primera', 'como', 'buena', 'y', 'alta', 'cocina', 'alta', 'vestidores', 'gran', 'en', 'luminoso', 'c', 'primera', 'en', 'de', 'buena', 'entre', 'constructiva', 'excelente', 'constructiva', 'de', 'aire', 'gran', 'sumado', 'de', 'antigüedad', 'de', 'aire', 'de', 'con', 'primera', 'y', 'alta', 'constructiva', 'excelente', 'de', 'excelente', 'constructiva', 'ciudad', 'fundar', 'mejor', 'y', 'primera', 'planta', 'primera', 'y', 'mejor', 'y', 'primera', 'aberturas', 'buena', 'constructiva', 'alta', 'alacena', 'alta', 'que', 'salud', 'de', 'excelente', 'constructiva', 'y', 'instalación', 'y', 'ésta', 'acequias', 'de', 'social', 'de', 'de', 'diseño', 'de', 'artefactos', 'excelente', 'de', 'buena', 'a', 'mejor', 'cada', 'excelente', 'linea', 'excelente', 'constructiva', 'excelente', 'constructiva', 'de', 'características', 'instalaciones', 'técnica', 'excelente', 'en', 'soberbia', 'y', 'destacable', 'de', 'de', 'materiales', 'de', 'y', 'primera', 'cocina', 'de', 'instalados', 'alta', 'piso', 'excelente', 'pisos', 'buena', 'impecable', 'de', 'sobre', 'primera', 'amplio', 'gran', 'de', 'excelente', 'constructiva', 'de', 'toilete', 'excelente', 'de', 'de', 'porcelanato', 'primera', 'el', 'primera', 'área', 'excelente', 'constructiva', 'gran', 'constructiva', 'gran', 'constructiva', 'en', 'msr', 'primera', 'seguridad', 'excelente', 'pilar', 'primera', 'aberturas', 'de', 'cachero', 'primera', 'ambientes', 'sarmiento', 'de', 'primera', 'en', 'de', 'piso', 'buena', 'constructiva', 'de', 'en', 'de', 'en', 'buena', 'y', 'la', 'de', 'gran', 'piscinas', 'primera', 'frentes', 'buena', 'que', 'primera', 'edificio', 'excelente', 'de', 'excelente', 'se', 'excelente', 'baño', 'primera', 'griferías', 'altísima', 'en', 'primera', 'recubrirá', 'de', 'amplias', 'primera', 'puertas', 'y', 'de', 'alta', 'piscina', 'alta', 'de', 'excelente', 'y', 'primera', 'en', 'primera', 'baños', 'primera', 'con', 'reconocida', 'el', 'primera', 'paredes', 'primera', 'en', 'y', 'baños', 'y', 'extractores', 'y', 'departamentos', 'primera', 'en', 'y', 'baños', 'y', 'extractores', 'excelente', 'constructiva', 'primera', 'de', 'primera', 'con', 'buena', 'y', 'inmejorable', 'constructiva', 'de', 'y', 'de', 'sobre', 'alta', 'en', 'primera', 'la', 'gran', 'y', 'primera', 'carpintería', 'alta', 'espectacular', 'alta', 'constructiva', 'primera', 'ubicación', 'zona', 'y', 'excelente', 'cocina', 'excelente', 'constructiva', 'excelente', 'constructiva', 'primera', 'distribuidos', 'primera', 'de', 'de', 'desde', 'racionalistaexcelente', 'de', 'de', 'diseño', 'de', 'artefactos', 'de', 'artefactos', 'gran', 'piso', 'excelente', 'calefacción', 'primera', 'amplios', 'primera', 'a', 'gran', 'constructiva', 'buscan', 'de', 'o', 'similar', 'otra', 'similar', 'la', 'costos', 'primerísima', 'muebles', 'primera', 'artefactos', 'buena', 'espacio', 'excelente', 'de', 'de', 'aberturas', 'primera', 'amplios', 'gran', 'constructiva', 'gran', 'con', 'excelente', 'de', 'de', 'aberturas', 'alta', 'todos', 'primerísima', 'modelo', 'primera', 'tres', 'primera', 'dependencia', 'mejor', 'con', 'alta', 'la', 'de', 'más', 'primera', 'antisismica', 'ubicación', 'de', 'primera', 'casa', 'primera', 'con', 'la', 'en', 'primera', 'y', 'primera', 'todos', 'materiales', 'y', 'una', 'premium', 'primera', 'dormitorio', 'primera', 'con', 'confort', 'de', 'de', 'de', 'primera', 'compuestos', 'de', 'y', 'primera', 'cocina', 'soñas', 'de', 'de', 'clubes', 'buena', 'de', 'de', 'de', 'de', 'con', 'primera', 'placares', 'primera', 'amenities', 'de', 'premium', 'de', 'zona', 'de', 'y', 'excelente', 'y', 'excelente', 'moderno', 'de', 'todo', 'excelente', 'cuenta', 'primera', 'gran', 'excelente', 'de', 'la', 'de', 'la', 'del', 'de', 'construcción', 'sanitarios', 'primera', 'primera', 'tableros', 'y', 'es', 'primera', 'con', 'primera', 'calidad', 'calidad', 'bañeras', 'y', 'de', 'eficiencia', 'y', 'de', 'cocina', 'de', 'además', 'de', 'con', 'excelente', 'tanto', 'gran', 'piso', 'solárium', 'cika', 'alta', 'constructiva', 'primera', 'amplios', 'gran', 'constructiva', 'de', 'planta', 'excelente', 'de', 'y', 'excelente', 'excelente', 'constructiva', 'igual', 'n', 'primera', 'en', 'de', 'segundo', 'o', 'similar', 'o', 'similar', 'excelente', 'constructiva', 'excelente', 'constructiva', 'gran', 'constructiva', 'de', 'bases', 'primera', 'y', 'excelente', 'en', 'totales', 'premium', 'excelente', 'el', 'acequias', 'de', 'social', 'de', 'buena', 'constructiva', 'primera', 'mobiliario', 'excelente', 'de', 'a', 'medidas', 'primera', 'agua', 'de', 'todos', 'mejor', 'de', 'elevadísima', 'de', 'mucha', 'caños']\n",
            "['y', 'con', 'por', 'de', 'grandes', 'con', 'grandes', 'de', 'y', 'con', 'amplios', 'y', 'belleza', 'en', 'amplios', 'que', 'columna', 'en', 'marmol', 'hasta', 'grandes', 'con', 'grandes', 'de', 'amplios', 'comedor', 'con', 'cocina', 'grandes', 'la', 'grandes', 'al', 'enormes', 'al', 'con', 'abiertos', 'con', 'con', 'sus', 'y', 'grandes', 'y', 'amplios', 'a', 'pileta', 'del', 'tiene', 'hacia', 'con', 'con', 'dos', 'cocina', 'distinguidos', 'y', 'sus', 'al', 'de', 'que', 'los', 'construidos', 'son', 'de', 'con', 'que', 'grandes', 'a', 'con', 'muy', 'mismo', 'al', 'grandes', 'con', 'grandes', 'y', 'con', 'de', 'piedracon', 'de', 'ambiente', 'dobles', 'grandes', 'ante', 'jardín', 'con', 'con', 'y', 'grandes', 'y', 'amplios', 'de', 'amplios', 'con', 'mm', 'de', 'amplios', 'al', 'amplios', 'de', 'amplios', 'de', 'con', 'con', 'grandes', 'toilette', 'amplios', 'cocina', 'y', 'que', 'amplios', 'dos', 'amplios', 'con', 'amplios', 'toilette', 'inmensos', 'a', 'con', 'doble', 'tres', 'y', 'tres', 'con', 'grandes', 'con', 'grandes', 'cocina', 'con', 'grandes', 'con', 'una', 'de', 'al', 'con', 'hacia', 'grandes', 'que', 'varios', 'acompañan', 'grandes', 'y', 'y', 'dobles', 'amplios', 'de', 'grandes', 'vidriados', 'enormes', 'con', 'grandes', 'balcones', 'amplios', 'con', 'amplios', 'hall', 'grandes', 'con', 'importantes', 'y', 'grandes', 'con', 'altos', 'que', 'con', 'hacia', 'con', 'hacia', 'con', 'toilette', 'con', 'en', 'grandes', 'con', 'con', 'y', 'grandes', 'con', 'amplios', 'al', 'amplios', 'con', 'grandes', 'vidriados', 'amplios', 'hall', 'muchos', 'nivel', 'amplios', 'con', 'los', 'aires', 'posee', 'en', 'alberdi', 'corredizas', 'amplios', 'cocina', 'los', 'al', 'grandes', 'al', 'm', 'corridos', 'con', 'al', 'grandes', 'y', 'con', 'a']\n"
          ]
        }
      ],
      "source": [
        "for word in candidates:\n",
        "  try:\n",
        "    print(word_neighbors[word])\n",
        "  except:\n",
        "    pass"
      ]
    },
    {
      "cell_type": "code",
      "execution_count": 68,
      "metadata": {
        "id": "shmEeQrI0pPh"
      },
      "outputs": [],
      "source": [
        "import random\n",
        "random.seed(0)\n",
        "random.shuffle(value_words)"
      ]
    },
    {
      "cell_type": "code",
      "execution_count": 69,
      "metadata": {
        "id": "IhOMTnuyItoM"
      },
      "outputs": [],
      "source": [
        "def new_col(cand, df):\n",
        "  column = []\n",
        "  for text in df:\n",
        "    value = np.nan\n",
        "    #tokenizar\n",
        "    text = tokenize(text)\n",
        "    # obtener posicion del match con el candidato y extraer vecinos\n",
        "    neighbors = []\n",
        "    for i,word in enumerate(text):\n",
        "      if cand == word:\n",
        "        neighbors = _get_index_neighbors(text, i)\n",
        "        break\n",
        "    # si alguna hace 'match' con las palabras de valor, devolver \n",
        "    # la posicion de la palabra de valor en el vector value_words\n",
        "    for neighbor in neighbors:\n",
        "      for value_word in value_words:\n",
        "        if str(neighbor).startswith(str(value_word)):\n",
        "          value = int(value_words.index(value_word))\n",
        "    \n",
        "    column.append(value)\n",
        "  return pd.Series(data=column, index=df.index, name=cand)\n"
      ]
    },
    {
      "cell_type": "markdown",
      "source": [
        "#### Ejecutar para train:"
      ],
      "metadata": {
        "id": "w9sFmWi7S9UA"
      }
    },
    {
      "cell_type": "code",
      "execution_count": 70,
      "metadata": {
        "id": "hvgRQMdyzny7"
      },
      "outputs": [],
      "source": [
        "new_minqing_train = pd.DataFrame(index =train_limpio.index)\n",
        "descripciones_train = train_limpio.property_description"
      ]
    },
    {
      "cell_type": "code",
      "execution_count": 71,
      "metadata": {
        "id": "ahfA3qZAJQIb"
      },
      "outputs": [],
      "source": [
        "for cand in candidates:\n",
        "  desc_con_candidatos_train = descripciones_train[descripciones_train.str.contains(cand, regex=False)]\n",
        "  col = new_col(cand, desc_con_candidatos_train)\n",
        "  new_minqing_train.insert(0, cand, np.nan)\n",
        "  new_minqing_train[cand].update(col)"
      ]
    },
    {
      "cell_type": "code",
      "source": [
        "new_minqing_train.ubicacion[new_minqing_train.ubicacion.notna()].value_counts()"
      ],
      "metadata": {
        "colab": {
          "base_uri": "https://localhost:8080/"
        },
        "id": "7WKyI75KvPZC",
        "outputId": "7ed6cca9-70e2-4853-a1d1-4ea5c868daed"
      },
      "execution_count": 72,
      "outputs": [
        {
          "output_type": "execute_result",
          "data": {
            "text/plain": [
              "0.0    511\n",
              "1.0    118\n",
              "2.0     13\n",
              "3.0      2\n",
              "Name: ubicacion, dtype: int64"
            ]
          },
          "metadata": {},
          "execution_count": 72
        }
      ]
    },
    {
      "cell_type": "code",
      "source": [
        "new_minqing_train[new_minqing_train.calidad.notna()]"
      ],
      "metadata": {
        "id": "0J7n9m2_vZ07",
        "outputId": "82f75f8e-df65-4a17-9ea6-7136f582eca8",
        "colab": {
          "base_uri": "https://localhost:8080/",
          "height": 0
        }
      },
      "execution_count": 73,
      "outputs": [
        {
          "output_type": "execute_result",
          "data": {
            "text/plain": [
              "        ventanales  calidad  oportunidad  ubicacion  dimensiones\n",
              "index                                                           \n",
              "209785         NaN      0.0          NaN        NaN          NaN\n",
              "218626         NaN      0.0          NaN        NaN          NaN\n",
              "264642         NaN      1.0          NaN        NaN          NaN\n",
              "393587         NaN      0.0          NaN        NaN          NaN\n",
              "295267         NaN      0.0          NaN        NaN          NaN\n",
              "...            ...      ...          ...        ...          ...\n",
              "59392          NaN      0.0          NaN        NaN          NaN\n",
              "263938         NaN      1.0          NaN        NaN          NaN\n",
              "202985         NaN      2.0          NaN        NaN          NaN\n",
              "302682         NaN      0.0          NaN        NaN          NaN\n",
              "434303         NaN      0.0          NaN        NaN          NaN\n",
              "\n",
              "[778 rows x 5 columns]"
            ],
            "text/html": [
              "\n",
              "  <div id=\"df-bba2f2d9-4b22-464e-9fb4-30a4b702e3f4\">\n",
              "    <div class=\"colab-df-container\">\n",
              "      <div>\n",
              "<style scoped>\n",
              "    .dataframe tbody tr th:only-of-type {\n",
              "        vertical-align: middle;\n",
              "    }\n",
              "\n",
              "    .dataframe tbody tr th {\n",
              "        vertical-align: top;\n",
              "    }\n",
              "\n",
              "    .dataframe thead th {\n",
              "        text-align: right;\n",
              "    }\n",
              "</style>\n",
              "<table border=\"1\" class=\"dataframe\">\n",
              "  <thead>\n",
              "    <tr style=\"text-align: right;\">\n",
              "      <th></th>\n",
              "      <th>ventanales</th>\n",
              "      <th>calidad</th>\n",
              "      <th>oportunidad</th>\n",
              "      <th>ubicacion</th>\n",
              "      <th>dimensiones</th>\n",
              "    </tr>\n",
              "    <tr>\n",
              "      <th>index</th>\n",
              "      <th></th>\n",
              "      <th></th>\n",
              "      <th></th>\n",
              "      <th></th>\n",
              "      <th></th>\n",
              "    </tr>\n",
              "  </thead>\n",
              "  <tbody>\n",
              "    <tr>\n",
              "      <th>209785</th>\n",
              "      <td>NaN</td>\n",
              "      <td>0.0</td>\n",
              "      <td>NaN</td>\n",
              "      <td>NaN</td>\n",
              "      <td>NaN</td>\n",
              "    </tr>\n",
              "    <tr>\n",
              "      <th>218626</th>\n",
              "      <td>NaN</td>\n",
              "      <td>0.0</td>\n",
              "      <td>NaN</td>\n",
              "      <td>NaN</td>\n",
              "      <td>NaN</td>\n",
              "    </tr>\n",
              "    <tr>\n",
              "      <th>264642</th>\n",
              "      <td>NaN</td>\n",
              "      <td>1.0</td>\n",
              "      <td>NaN</td>\n",
              "      <td>NaN</td>\n",
              "      <td>NaN</td>\n",
              "    </tr>\n",
              "    <tr>\n",
              "      <th>393587</th>\n",
              "      <td>NaN</td>\n",
              "      <td>0.0</td>\n",
              "      <td>NaN</td>\n",
              "      <td>NaN</td>\n",
              "      <td>NaN</td>\n",
              "    </tr>\n",
              "    <tr>\n",
              "      <th>295267</th>\n",
              "      <td>NaN</td>\n",
              "      <td>0.0</td>\n",
              "      <td>NaN</td>\n",
              "      <td>NaN</td>\n",
              "      <td>NaN</td>\n",
              "    </tr>\n",
              "    <tr>\n",
              "      <th>...</th>\n",
              "      <td>...</td>\n",
              "      <td>...</td>\n",
              "      <td>...</td>\n",
              "      <td>...</td>\n",
              "      <td>...</td>\n",
              "    </tr>\n",
              "    <tr>\n",
              "      <th>59392</th>\n",
              "      <td>NaN</td>\n",
              "      <td>0.0</td>\n",
              "      <td>NaN</td>\n",
              "      <td>NaN</td>\n",
              "      <td>NaN</td>\n",
              "    </tr>\n",
              "    <tr>\n",
              "      <th>263938</th>\n",
              "      <td>NaN</td>\n",
              "      <td>1.0</td>\n",
              "      <td>NaN</td>\n",
              "      <td>NaN</td>\n",
              "      <td>NaN</td>\n",
              "    </tr>\n",
              "    <tr>\n",
              "      <th>202985</th>\n",
              "      <td>NaN</td>\n",
              "      <td>2.0</td>\n",
              "      <td>NaN</td>\n",
              "      <td>NaN</td>\n",
              "      <td>NaN</td>\n",
              "    </tr>\n",
              "    <tr>\n",
              "      <th>302682</th>\n",
              "      <td>NaN</td>\n",
              "      <td>0.0</td>\n",
              "      <td>NaN</td>\n",
              "      <td>NaN</td>\n",
              "      <td>NaN</td>\n",
              "    </tr>\n",
              "    <tr>\n",
              "      <th>434303</th>\n",
              "      <td>NaN</td>\n",
              "      <td>0.0</td>\n",
              "      <td>NaN</td>\n",
              "      <td>NaN</td>\n",
              "      <td>NaN</td>\n",
              "    </tr>\n",
              "  </tbody>\n",
              "</table>\n",
              "<p>778 rows × 5 columns</p>\n",
              "</div>\n",
              "      <button class=\"colab-df-convert\" onclick=\"convertToInteractive('df-bba2f2d9-4b22-464e-9fb4-30a4b702e3f4')\"\n",
              "              title=\"Convert this dataframe to an interactive table.\"\n",
              "              style=\"display:none;\">\n",
              "        \n",
              "  <svg xmlns=\"http://www.w3.org/2000/svg\" height=\"24px\"viewBox=\"0 0 24 24\"\n",
              "       width=\"24px\">\n",
              "    <path d=\"M0 0h24v24H0V0z\" fill=\"none\"/>\n",
              "    <path d=\"M18.56 5.44l.94 2.06.94-2.06 2.06-.94-2.06-.94-.94-2.06-.94 2.06-2.06.94zm-11 1L8.5 8.5l.94-2.06 2.06-.94-2.06-.94L8.5 2.5l-.94 2.06-2.06.94zm10 10l.94 2.06.94-2.06 2.06-.94-2.06-.94-.94-2.06-.94 2.06-2.06.94z\"/><path d=\"M17.41 7.96l-1.37-1.37c-.4-.4-.92-.59-1.43-.59-.52 0-1.04.2-1.43.59L10.3 9.45l-7.72 7.72c-.78.78-.78 2.05 0 2.83L4 21.41c.39.39.9.59 1.41.59.51 0 1.02-.2 1.41-.59l7.78-7.78 2.81-2.81c.8-.78.8-2.07 0-2.86zM5.41 20L4 18.59l7.72-7.72 1.47 1.35L5.41 20z\"/>\n",
              "  </svg>\n",
              "      </button>\n",
              "      \n",
              "  <style>\n",
              "    .colab-df-container {\n",
              "      display:flex;\n",
              "      flex-wrap:wrap;\n",
              "      gap: 12px;\n",
              "    }\n",
              "\n",
              "    .colab-df-convert {\n",
              "      background-color: #E8F0FE;\n",
              "      border: none;\n",
              "      border-radius: 50%;\n",
              "      cursor: pointer;\n",
              "      display: none;\n",
              "      fill: #1967D2;\n",
              "      height: 32px;\n",
              "      padding: 0 0 0 0;\n",
              "      width: 32px;\n",
              "    }\n",
              "\n",
              "    .colab-df-convert:hover {\n",
              "      background-color: #E2EBFA;\n",
              "      box-shadow: 0px 1px 2px rgba(60, 64, 67, 0.3), 0px 1px 3px 1px rgba(60, 64, 67, 0.15);\n",
              "      fill: #174EA6;\n",
              "    }\n",
              "\n",
              "    [theme=dark] .colab-df-convert {\n",
              "      background-color: #3B4455;\n",
              "      fill: #D2E3FC;\n",
              "    }\n",
              "\n",
              "    [theme=dark] .colab-df-convert:hover {\n",
              "      background-color: #434B5C;\n",
              "      box-shadow: 0px 1px 3px 1px rgba(0, 0, 0, 0.15);\n",
              "      filter: drop-shadow(0px 1px 2px rgba(0, 0, 0, 0.3));\n",
              "      fill: #FFFFFF;\n",
              "    }\n",
              "  </style>\n",
              "\n",
              "      <script>\n",
              "        const buttonEl =\n",
              "          document.querySelector('#df-bba2f2d9-4b22-464e-9fb4-30a4b702e3f4 button.colab-df-convert');\n",
              "        buttonEl.style.display =\n",
              "          google.colab.kernel.accessAllowed ? 'block' : 'none';\n",
              "\n",
              "        async function convertToInteractive(key) {\n",
              "          const element = document.querySelector('#df-bba2f2d9-4b22-464e-9fb4-30a4b702e3f4');\n",
              "          const dataTable =\n",
              "            await google.colab.kernel.invokeFunction('convertToInteractive',\n",
              "                                                     [key], {});\n",
              "          if (!dataTable) return;\n",
              "\n",
              "          const docLinkHtml = 'Like what you see? Visit the ' +\n",
              "            '<a target=\"_blank\" href=https://colab.research.google.com/notebooks/data_table.ipynb>data table notebook</a>'\n",
              "            + ' to learn more about interactive tables.';\n",
              "          element.innerHTML = '';\n",
              "          dataTable['output_type'] = 'display_data';\n",
              "          await google.colab.output.renderOutput(dataTable, element);\n",
              "          const docLink = document.createElement('div');\n",
              "          docLink.innerHTML = docLinkHtml;\n",
              "          element.appendChild(docLink);\n",
              "        }\n",
              "      </script>\n",
              "    </div>\n",
              "  </div>\n",
              "  "
            ]
          },
          "metadata": {},
          "execution_count": 73
        }
      ]
    },
    {
      "cell_type": "code",
      "source": [
        "new_minqing_train.apply(pd.Series.value_counts)"
      ],
      "metadata": {
        "colab": {
          "base_uri": "https://localhost:8080/",
          "height": 0
        },
        "id": "gw_wt8b97Hnz",
        "outputId": "2b455c46-b6aa-47a6-f91e-238f0cbfa922"
      },
      "execution_count": 74,
      "outputs": [
        {
          "output_type": "execute_result",
          "data": {
            "text/plain": [
              "     ventanales  calidad  oportunidad  ubicacion  dimensiones\n",
              "0.0         NaN      492          483        511         26.0\n",
              "1.0         4.0      207           29        118        113.0\n",
              "2.0       262.0       74          212         13        110.0\n",
              "3.0        11.0        5           72          2          NaN"
            ],
            "text/html": [
              "\n",
              "  <div id=\"df-c32cd395-81a2-4289-a22f-f096683663b5\">\n",
              "    <div class=\"colab-df-container\">\n",
              "      <div>\n",
              "<style scoped>\n",
              "    .dataframe tbody tr th:only-of-type {\n",
              "        vertical-align: middle;\n",
              "    }\n",
              "\n",
              "    .dataframe tbody tr th {\n",
              "        vertical-align: top;\n",
              "    }\n",
              "\n",
              "    .dataframe thead th {\n",
              "        text-align: right;\n",
              "    }\n",
              "</style>\n",
              "<table border=\"1\" class=\"dataframe\">\n",
              "  <thead>\n",
              "    <tr style=\"text-align: right;\">\n",
              "      <th></th>\n",
              "      <th>ventanales</th>\n",
              "      <th>calidad</th>\n",
              "      <th>oportunidad</th>\n",
              "      <th>ubicacion</th>\n",
              "      <th>dimensiones</th>\n",
              "    </tr>\n",
              "  </thead>\n",
              "  <tbody>\n",
              "    <tr>\n",
              "      <th>0.0</th>\n",
              "      <td>NaN</td>\n",
              "      <td>492</td>\n",
              "      <td>483</td>\n",
              "      <td>511</td>\n",
              "      <td>26.0</td>\n",
              "    </tr>\n",
              "    <tr>\n",
              "      <th>1.0</th>\n",
              "      <td>4.0</td>\n",
              "      <td>207</td>\n",
              "      <td>29</td>\n",
              "      <td>118</td>\n",
              "      <td>113.0</td>\n",
              "    </tr>\n",
              "    <tr>\n",
              "      <th>2.0</th>\n",
              "      <td>262.0</td>\n",
              "      <td>74</td>\n",
              "      <td>212</td>\n",
              "      <td>13</td>\n",
              "      <td>110.0</td>\n",
              "    </tr>\n",
              "    <tr>\n",
              "      <th>3.0</th>\n",
              "      <td>11.0</td>\n",
              "      <td>5</td>\n",
              "      <td>72</td>\n",
              "      <td>2</td>\n",
              "      <td>NaN</td>\n",
              "    </tr>\n",
              "  </tbody>\n",
              "</table>\n",
              "</div>\n",
              "      <button class=\"colab-df-convert\" onclick=\"convertToInteractive('df-c32cd395-81a2-4289-a22f-f096683663b5')\"\n",
              "              title=\"Convert this dataframe to an interactive table.\"\n",
              "              style=\"display:none;\">\n",
              "        \n",
              "  <svg xmlns=\"http://www.w3.org/2000/svg\" height=\"24px\"viewBox=\"0 0 24 24\"\n",
              "       width=\"24px\">\n",
              "    <path d=\"M0 0h24v24H0V0z\" fill=\"none\"/>\n",
              "    <path d=\"M18.56 5.44l.94 2.06.94-2.06 2.06-.94-2.06-.94-.94-2.06-.94 2.06-2.06.94zm-11 1L8.5 8.5l.94-2.06 2.06-.94-2.06-.94L8.5 2.5l-.94 2.06-2.06.94zm10 10l.94 2.06.94-2.06 2.06-.94-2.06-.94-.94-2.06-.94 2.06-2.06.94z\"/><path d=\"M17.41 7.96l-1.37-1.37c-.4-.4-.92-.59-1.43-.59-.52 0-1.04.2-1.43.59L10.3 9.45l-7.72 7.72c-.78.78-.78 2.05 0 2.83L4 21.41c.39.39.9.59 1.41.59.51 0 1.02-.2 1.41-.59l7.78-7.78 2.81-2.81c.8-.78.8-2.07 0-2.86zM5.41 20L4 18.59l7.72-7.72 1.47 1.35L5.41 20z\"/>\n",
              "  </svg>\n",
              "      </button>\n",
              "      \n",
              "  <style>\n",
              "    .colab-df-container {\n",
              "      display:flex;\n",
              "      flex-wrap:wrap;\n",
              "      gap: 12px;\n",
              "    }\n",
              "\n",
              "    .colab-df-convert {\n",
              "      background-color: #E8F0FE;\n",
              "      border: none;\n",
              "      border-radius: 50%;\n",
              "      cursor: pointer;\n",
              "      display: none;\n",
              "      fill: #1967D2;\n",
              "      height: 32px;\n",
              "      padding: 0 0 0 0;\n",
              "      width: 32px;\n",
              "    }\n",
              "\n",
              "    .colab-df-convert:hover {\n",
              "      background-color: #E2EBFA;\n",
              "      box-shadow: 0px 1px 2px rgba(60, 64, 67, 0.3), 0px 1px 3px 1px rgba(60, 64, 67, 0.15);\n",
              "      fill: #174EA6;\n",
              "    }\n",
              "\n",
              "    [theme=dark] .colab-df-convert {\n",
              "      background-color: #3B4455;\n",
              "      fill: #D2E3FC;\n",
              "    }\n",
              "\n",
              "    [theme=dark] .colab-df-convert:hover {\n",
              "      background-color: #434B5C;\n",
              "      box-shadow: 0px 1px 3px 1px rgba(0, 0, 0, 0.15);\n",
              "      filter: drop-shadow(0px 1px 2px rgba(0, 0, 0, 0.3));\n",
              "      fill: #FFFFFF;\n",
              "    }\n",
              "  </style>\n",
              "\n",
              "      <script>\n",
              "        const buttonEl =\n",
              "          document.querySelector('#df-c32cd395-81a2-4289-a22f-f096683663b5 button.colab-df-convert');\n",
              "        buttonEl.style.display =\n",
              "          google.colab.kernel.accessAllowed ? 'block' : 'none';\n",
              "\n",
              "        async function convertToInteractive(key) {\n",
              "          const element = document.querySelector('#df-c32cd395-81a2-4289-a22f-f096683663b5');\n",
              "          const dataTable =\n",
              "            await google.colab.kernel.invokeFunction('convertToInteractive',\n",
              "                                                     [key], {});\n",
              "          if (!dataTable) return;\n",
              "\n",
              "          const docLinkHtml = 'Like what you see? Visit the ' +\n",
              "            '<a target=\"_blank\" href=https://colab.research.google.com/notebooks/data_table.ipynb>data table notebook</a>'\n",
              "            + ' to learn more about interactive tables.';\n",
              "          element.innerHTML = '';\n",
              "          dataTable['output_type'] = 'display_data';\n",
              "          await google.colab.output.renderOutput(dataTable, element);\n",
              "          const docLink = document.createElement('div');\n",
              "          docLink.innerHTML = docLinkHtml;\n",
              "          element.appendChild(docLink);\n",
              "        }\n",
              "      </script>\n",
              "    </div>\n",
              "  </div>\n",
              "  "
            ]
          },
          "metadata": {},
          "execution_count": 74
        }
      ]
    },
    {
      "cell_type": "markdown",
      "source": [
        "#### Repetir con test\n",
        "Usando el metodo new_col y los mismos candidatos y value_words que en train, obtenemos los datos en el mismo formato"
      ],
      "metadata": {
        "id": "XoR7M1nKSz5I"
      }
    },
    {
      "cell_type": "code",
      "execution_count": 75,
      "metadata": {
        "id": "wLAX_8NngC7F"
      },
      "outputs": [],
      "source": [
        "new_minqing_test = pd.DataFrame(index =test_limpio.index)\n",
        "descripciones_test = test_limpio.property_description"
      ]
    },
    {
      "cell_type": "code",
      "execution_count": 76,
      "metadata": {
        "id": "rXLxmWALgC7H"
      },
      "outputs": [],
      "source": [
        "for cand in candidates:\n",
        "  desc_con_candidatos_test = descripciones_test[descripciones_test.str.contains(cand, regex=False)]\n",
        "  col = new_col(cand, desc_con_candidatos_test)\n",
        "  new_minqing_test.insert(0, cand, np.nan)\n",
        "  new_minqing_test[cand].update(col)"
      ]
    },
    {
      "cell_type": "code",
      "source": [
        "new_minqing_test.ubicacion[new_minqing_test.ubicacion.notna()].value_counts()"
      ],
      "metadata": {
        "colab": {
          "base_uri": "https://localhost:8080/"
        },
        "outputId": "41fa5f56-03a5-4329-ed67-8b6c5484131d",
        "id": "6_tWaqCrgC7J"
      },
      "execution_count": 77,
      "outputs": [
        {
          "output_type": "execute_result",
          "data": {
            "text/plain": [
              "0.0    147\n",
              "1.0     25\n",
              "2.0      2\n",
              "3.0      1\n",
              "Name: ubicacion, dtype: int64"
            ]
          },
          "metadata": {},
          "execution_count": 77
        }
      ]
    },
    {
      "cell_type": "code",
      "source": [
        "new_minqing_test[new_minqing_test.calidad.notna()]"
      ],
      "metadata": {
        "outputId": "5f964c91-398f-40c8-bde3-3c630c664b54",
        "colab": {
          "base_uri": "https://localhost:8080/",
          "height": 0
        },
        "id": "_p-ZDgdCgC7K"
      },
      "execution_count": 78,
      "outputs": [
        {
          "output_type": "execute_result",
          "data": {
            "text/plain": [
              "        ventanales  calidad  oportunidad  ubicacion  dimensiones\n",
              "index                                                           \n",
              "55632          NaN      0.0          NaN        NaN          NaN\n",
              "243872         NaN      0.0          NaN        NaN          NaN\n",
              "176333         NaN      0.0          NaN        NaN          NaN\n",
              "411785         NaN      1.0          NaN        NaN          NaN\n",
              "459370         NaN      1.0          NaN        NaN          NaN\n",
              "...            ...      ...          ...        ...          ...\n",
              "314632         NaN      2.0          NaN        NaN          NaN\n",
              "352735         2.0      0.0          NaN        NaN          NaN\n",
              "79457          NaN      0.0          NaN        NaN          NaN\n",
              "50773          NaN      0.0          NaN        NaN          NaN\n",
              "187398         NaN      0.0          NaN        NaN          NaN\n",
              "\n",
              "[190 rows x 5 columns]"
            ],
            "text/html": [
              "\n",
              "  <div id=\"df-1fa27abc-7c99-4d80-8c05-e49d14d3ea1b\">\n",
              "    <div class=\"colab-df-container\">\n",
              "      <div>\n",
              "<style scoped>\n",
              "    .dataframe tbody tr th:only-of-type {\n",
              "        vertical-align: middle;\n",
              "    }\n",
              "\n",
              "    .dataframe tbody tr th {\n",
              "        vertical-align: top;\n",
              "    }\n",
              "\n",
              "    .dataframe thead th {\n",
              "        text-align: right;\n",
              "    }\n",
              "</style>\n",
              "<table border=\"1\" class=\"dataframe\">\n",
              "  <thead>\n",
              "    <tr style=\"text-align: right;\">\n",
              "      <th></th>\n",
              "      <th>ventanales</th>\n",
              "      <th>calidad</th>\n",
              "      <th>oportunidad</th>\n",
              "      <th>ubicacion</th>\n",
              "      <th>dimensiones</th>\n",
              "    </tr>\n",
              "    <tr>\n",
              "      <th>index</th>\n",
              "      <th></th>\n",
              "      <th></th>\n",
              "      <th></th>\n",
              "      <th></th>\n",
              "      <th></th>\n",
              "    </tr>\n",
              "  </thead>\n",
              "  <tbody>\n",
              "    <tr>\n",
              "      <th>55632</th>\n",
              "      <td>NaN</td>\n",
              "      <td>0.0</td>\n",
              "      <td>NaN</td>\n",
              "      <td>NaN</td>\n",
              "      <td>NaN</td>\n",
              "    </tr>\n",
              "    <tr>\n",
              "      <th>243872</th>\n",
              "      <td>NaN</td>\n",
              "      <td>0.0</td>\n",
              "      <td>NaN</td>\n",
              "      <td>NaN</td>\n",
              "      <td>NaN</td>\n",
              "    </tr>\n",
              "    <tr>\n",
              "      <th>176333</th>\n",
              "      <td>NaN</td>\n",
              "      <td>0.0</td>\n",
              "      <td>NaN</td>\n",
              "      <td>NaN</td>\n",
              "      <td>NaN</td>\n",
              "    </tr>\n",
              "    <tr>\n",
              "      <th>411785</th>\n",
              "      <td>NaN</td>\n",
              "      <td>1.0</td>\n",
              "      <td>NaN</td>\n",
              "      <td>NaN</td>\n",
              "      <td>NaN</td>\n",
              "    </tr>\n",
              "    <tr>\n",
              "      <th>459370</th>\n",
              "      <td>NaN</td>\n",
              "      <td>1.0</td>\n",
              "      <td>NaN</td>\n",
              "      <td>NaN</td>\n",
              "      <td>NaN</td>\n",
              "    </tr>\n",
              "    <tr>\n",
              "      <th>...</th>\n",
              "      <td>...</td>\n",
              "      <td>...</td>\n",
              "      <td>...</td>\n",
              "      <td>...</td>\n",
              "      <td>...</td>\n",
              "    </tr>\n",
              "    <tr>\n",
              "      <th>314632</th>\n",
              "      <td>NaN</td>\n",
              "      <td>2.0</td>\n",
              "      <td>NaN</td>\n",
              "      <td>NaN</td>\n",
              "      <td>NaN</td>\n",
              "    </tr>\n",
              "    <tr>\n",
              "      <th>352735</th>\n",
              "      <td>2.0</td>\n",
              "      <td>0.0</td>\n",
              "      <td>NaN</td>\n",
              "      <td>NaN</td>\n",
              "      <td>NaN</td>\n",
              "    </tr>\n",
              "    <tr>\n",
              "      <th>79457</th>\n",
              "      <td>NaN</td>\n",
              "      <td>0.0</td>\n",
              "      <td>NaN</td>\n",
              "      <td>NaN</td>\n",
              "      <td>NaN</td>\n",
              "    </tr>\n",
              "    <tr>\n",
              "      <th>50773</th>\n",
              "      <td>NaN</td>\n",
              "      <td>0.0</td>\n",
              "      <td>NaN</td>\n",
              "      <td>NaN</td>\n",
              "      <td>NaN</td>\n",
              "    </tr>\n",
              "    <tr>\n",
              "      <th>187398</th>\n",
              "      <td>NaN</td>\n",
              "      <td>0.0</td>\n",
              "      <td>NaN</td>\n",
              "      <td>NaN</td>\n",
              "      <td>NaN</td>\n",
              "    </tr>\n",
              "  </tbody>\n",
              "</table>\n",
              "<p>190 rows × 5 columns</p>\n",
              "</div>\n",
              "      <button class=\"colab-df-convert\" onclick=\"convertToInteractive('df-1fa27abc-7c99-4d80-8c05-e49d14d3ea1b')\"\n",
              "              title=\"Convert this dataframe to an interactive table.\"\n",
              "              style=\"display:none;\">\n",
              "        \n",
              "  <svg xmlns=\"http://www.w3.org/2000/svg\" height=\"24px\"viewBox=\"0 0 24 24\"\n",
              "       width=\"24px\">\n",
              "    <path d=\"M0 0h24v24H0V0z\" fill=\"none\"/>\n",
              "    <path d=\"M18.56 5.44l.94 2.06.94-2.06 2.06-.94-2.06-.94-.94-2.06-.94 2.06-2.06.94zm-11 1L8.5 8.5l.94-2.06 2.06-.94-2.06-.94L8.5 2.5l-.94 2.06-2.06.94zm10 10l.94 2.06.94-2.06 2.06-.94-2.06-.94-.94-2.06-.94 2.06-2.06.94z\"/><path d=\"M17.41 7.96l-1.37-1.37c-.4-.4-.92-.59-1.43-.59-.52 0-1.04.2-1.43.59L10.3 9.45l-7.72 7.72c-.78.78-.78 2.05 0 2.83L4 21.41c.39.39.9.59 1.41.59.51 0 1.02-.2 1.41-.59l7.78-7.78 2.81-2.81c.8-.78.8-2.07 0-2.86zM5.41 20L4 18.59l7.72-7.72 1.47 1.35L5.41 20z\"/>\n",
              "  </svg>\n",
              "      </button>\n",
              "      \n",
              "  <style>\n",
              "    .colab-df-container {\n",
              "      display:flex;\n",
              "      flex-wrap:wrap;\n",
              "      gap: 12px;\n",
              "    }\n",
              "\n",
              "    .colab-df-convert {\n",
              "      background-color: #E8F0FE;\n",
              "      border: none;\n",
              "      border-radius: 50%;\n",
              "      cursor: pointer;\n",
              "      display: none;\n",
              "      fill: #1967D2;\n",
              "      height: 32px;\n",
              "      padding: 0 0 0 0;\n",
              "      width: 32px;\n",
              "    }\n",
              "\n",
              "    .colab-df-convert:hover {\n",
              "      background-color: #E2EBFA;\n",
              "      box-shadow: 0px 1px 2px rgba(60, 64, 67, 0.3), 0px 1px 3px 1px rgba(60, 64, 67, 0.15);\n",
              "      fill: #174EA6;\n",
              "    }\n",
              "\n",
              "    [theme=dark] .colab-df-convert {\n",
              "      background-color: #3B4455;\n",
              "      fill: #D2E3FC;\n",
              "    }\n",
              "\n",
              "    [theme=dark] .colab-df-convert:hover {\n",
              "      background-color: #434B5C;\n",
              "      box-shadow: 0px 1px 3px 1px rgba(0, 0, 0, 0.15);\n",
              "      filter: drop-shadow(0px 1px 2px rgba(0, 0, 0, 0.3));\n",
              "      fill: #FFFFFF;\n",
              "    }\n",
              "  </style>\n",
              "\n",
              "      <script>\n",
              "        const buttonEl =\n",
              "          document.querySelector('#df-1fa27abc-7c99-4d80-8c05-e49d14d3ea1b button.colab-df-convert');\n",
              "        buttonEl.style.display =\n",
              "          google.colab.kernel.accessAllowed ? 'block' : 'none';\n",
              "\n",
              "        async function convertToInteractive(key) {\n",
              "          const element = document.querySelector('#df-1fa27abc-7c99-4d80-8c05-e49d14d3ea1b');\n",
              "          const dataTable =\n",
              "            await google.colab.kernel.invokeFunction('convertToInteractive',\n",
              "                                                     [key], {});\n",
              "          if (!dataTable) return;\n",
              "\n",
              "          const docLinkHtml = 'Like what you see? Visit the ' +\n",
              "            '<a target=\"_blank\" href=https://colab.research.google.com/notebooks/data_table.ipynb>data table notebook</a>'\n",
              "            + ' to learn more about interactive tables.';\n",
              "          element.innerHTML = '';\n",
              "          dataTable['output_type'] = 'display_data';\n",
              "          await google.colab.output.renderOutput(dataTable, element);\n",
              "          const docLink = document.createElement('div');\n",
              "          docLink.innerHTML = docLinkHtml;\n",
              "          element.appendChild(docLink);\n",
              "        }\n",
              "      </script>\n",
              "    </div>\n",
              "  </div>\n",
              "  "
            ]
          },
          "metadata": {},
          "execution_count": 78
        }
      ]
    },
    {
      "cell_type": "code",
      "source": [
        "new_minqing_test.apply(pd.Series.value_counts)"
      ],
      "metadata": {
        "colab": {
          "base_uri": "https://localhost:8080/",
          "height": 0
        },
        "outputId": "83aaf204-a2df-4684-940f-2259f8cefe8b",
        "id": "eXvUgs_qgC7L"
      },
      "execution_count": 79,
      "outputs": [
        {
          "output_type": "execute_result",
          "data": {
            "text/plain": [
              "     ventanales  calidad  oportunidad  ubicacion  dimensiones\n",
              "0.0         1.0    121.0          113        147          8.0\n",
              "1.0         1.0     49.0            8         25         32.0\n",
              "2.0        64.0     20.0           62          2         32.0\n",
              "3.0         NaN      NaN           15          1          NaN"
            ],
            "text/html": [
              "\n",
              "  <div id=\"df-af0115e8-318b-491c-ab29-e2ab4642adc4\">\n",
              "    <div class=\"colab-df-container\">\n",
              "      <div>\n",
              "<style scoped>\n",
              "    .dataframe tbody tr th:only-of-type {\n",
              "        vertical-align: middle;\n",
              "    }\n",
              "\n",
              "    .dataframe tbody tr th {\n",
              "        vertical-align: top;\n",
              "    }\n",
              "\n",
              "    .dataframe thead th {\n",
              "        text-align: right;\n",
              "    }\n",
              "</style>\n",
              "<table border=\"1\" class=\"dataframe\">\n",
              "  <thead>\n",
              "    <tr style=\"text-align: right;\">\n",
              "      <th></th>\n",
              "      <th>ventanales</th>\n",
              "      <th>calidad</th>\n",
              "      <th>oportunidad</th>\n",
              "      <th>ubicacion</th>\n",
              "      <th>dimensiones</th>\n",
              "    </tr>\n",
              "  </thead>\n",
              "  <tbody>\n",
              "    <tr>\n",
              "      <th>0.0</th>\n",
              "      <td>1.0</td>\n",
              "      <td>121.0</td>\n",
              "      <td>113</td>\n",
              "      <td>147</td>\n",
              "      <td>8.0</td>\n",
              "    </tr>\n",
              "    <tr>\n",
              "      <th>1.0</th>\n",
              "      <td>1.0</td>\n",
              "      <td>49.0</td>\n",
              "      <td>8</td>\n",
              "      <td>25</td>\n",
              "      <td>32.0</td>\n",
              "    </tr>\n",
              "    <tr>\n",
              "      <th>2.0</th>\n",
              "      <td>64.0</td>\n",
              "      <td>20.0</td>\n",
              "      <td>62</td>\n",
              "      <td>2</td>\n",
              "      <td>32.0</td>\n",
              "    </tr>\n",
              "    <tr>\n",
              "      <th>3.0</th>\n",
              "      <td>NaN</td>\n",
              "      <td>NaN</td>\n",
              "      <td>15</td>\n",
              "      <td>1</td>\n",
              "      <td>NaN</td>\n",
              "    </tr>\n",
              "  </tbody>\n",
              "</table>\n",
              "</div>\n",
              "      <button class=\"colab-df-convert\" onclick=\"convertToInteractive('df-af0115e8-318b-491c-ab29-e2ab4642adc4')\"\n",
              "              title=\"Convert this dataframe to an interactive table.\"\n",
              "              style=\"display:none;\">\n",
              "        \n",
              "  <svg xmlns=\"http://www.w3.org/2000/svg\" height=\"24px\"viewBox=\"0 0 24 24\"\n",
              "       width=\"24px\">\n",
              "    <path d=\"M0 0h24v24H0V0z\" fill=\"none\"/>\n",
              "    <path d=\"M18.56 5.44l.94 2.06.94-2.06 2.06-.94-2.06-.94-.94-2.06-.94 2.06-2.06.94zm-11 1L8.5 8.5l.94-2.06 2.06-.94-2.06-.94L8.5 2.5l-.94 2.06-2.06.94zm10 10l.94 2.06.94-2.06 2.06-.94-2.06-.94-.94-2.06-.94 2.06-2.06.94z\"/><path d=\"M17.41 7.96l-1.37-1.37c-.4-.4-.92-.59-1.43-.59-.52 0-1.04.2-1.43.59L10.3 9.45l-7.72 7.72c-.78.78-.78 2.05 0 2.83L4 21.41c.39.39.9.59 1.41.59.51 0 1.02-.2 1.41-.59l7.78-7.78 2.81-2.81c.8-.78.8-2.07 0-2.86zM5.41 20L4 18.59l7.72-7.72 1.47 1.35L5.41 20z\"/>\n",
              "  </svg>\n",
              "      </button>\n",
              "      \n",
              "  <style>\n",
              "    .colab-df-container {\n",
              "      display:flex;\n",
              "      flex-wrap:wrap;\n",
              "      gap: 12px;\n",
              "    }\n",
              "\n",
              "    .colab-df-convert {\n",
              "      background-color: #E8F0FE;\n",
              "      border: none;\n",
              "      border-radius: 50%;\n",
              "      cursor: pointer;\n",
              "      display: none;\n",
              "      fill: #1967D2;\n",
              "      height: 32px;\n",
              "      padding: 0 0 0 0;\n",
              "      width: 32px;\n",
              "    }\n",
              "\n",
              "    .colab-df-convert:hover {\n",
              "      background-color: #E2EBFA;\n",
              "      box-shadow: 0px 1px 2px rgba(60, 64, 67, 0.3), 0px 1px 3px 1px rgba(60, 64, 67, 0.15);\n",
              "      fill: #174EA6;\n",
              "    }\n",
              "\n",
              "    [theme=dark] .colab-df-convert {\n",
              "      background-color: #3B4455;\n",
              "      fill: #D2E3FC;\n",
              "    }\n",
              "\n",
              "    [theme=dark] .colab-df-convert:hover {\n",
              "      background-color: #434B5C;\n",
              "      box-shadow: 0px 1px 3px 1px rgba(0, 0, 0, 0.15);\n",
              "      filter: drop-shadow(0px 1px 2px rgba(0, 0, 0, 0.3));\n",
              "      fill: #FFFFFF;\n",
              "    }\n",
              "  </style>\n",
              "\n",
              "      <script>\n",
              "        const buttonEl =\n",
              "          document.querySelector('#df-af0115e8-318b-491c-ab29-e2ab4642adc4 button.colab-df-convert');\n",
              "        buttonEl.style.display =\n",
              "          google.colab.kernel.accessAllowed ? 'block' : 'none';\n",
              "\n",
              "        async function convertToInteractive(key) {\n",
              "          const element = document.querySelector('#df-af0115e8-318b-491c-ab29-e2ab4642adc4');\n",
              "          const dataTable =\n",
              "            await google.colab.kernel.invokeFunction('convertToInteractive',\n",
              "                                                     [key], {});\n",
              "          if (!dataTable) return;\n",
              "\n",
              "          const docLinkHtml = 'Like what you see? Visit the ' +\n",
              "            '<a target=\"_blank\" href=https://colab.research.google.com/notebooks/data_table.ipynb>data table notebook</a>'\n",
              "            + ' to learn more about interactive tables.';\n",
              "          element.innerHTML = '';\n",
              "          dataTable['output_type'] = 'display_data';\n",
              "          await google.colab.output.renderOutput(dataTable, element);\n",
              "          const docLink = document.createElement('div');\n",
              "          docLink.innerHTML = docLinkHtml;\n",
              "          element.appendChild(docLink);\n",
              "        }\n",
              "      </script>\n",
              "    </div>\n",
              "  </div>\n",
              "  "
            ]
          },
          "metadata": {},
          "execution_count": 79
        }
      ]
    },
    {
      "cell_type": "markdown",
      "source": [
        "#### Entrenar OneHotEncoder con datos de train"
      ],
      "metadata": {
        "id": "EaGRLEJy8FBU"
      }
    },
    {
      "cell_type": "markdown",
      "source": [
        "##### nombres de columnas"
      ],
      "metadata": {
        "id": "ZLxmLamHgeV5"
      }
    },
    {
      "cell_type": "code",
      "source": [
        "categories = [list(range(0, len(value_words)))]*k"
      ],
      "metadata": {
        "id": "2apx3KioLNOJ"
      },
      "execution_count": 80,
      "outputs": []
    },
    {
      "cell_type": "code",
      "source": [
        "categories"
      ],
      "metadata": {
        "colab": {
          "base_uri": "https://localhost:8080/"
        },
        "id": "-dtOf2WDM_fL",
        "outputId": "66145d03-22bc-49a0-e344-3fd2e71200ea"
      },
      "execution_count": 81,
      "outputs": [
        {
          "output_type": "execute_result",
          "data": {
            "text/plain": [
              "[[0, 1, 2, 3], [0, 1, 2, 3], [0, 1, 2, 3], [0, 1, 2, 3], [0, 1, 2, 3]]"
            ]
          },
          "metadata": {},
          "execution_count": 81
        }
      ]
    },
    {
      "cell_type": "code",
      "source": [
        "final_columns = []\n",
        "for i in range(0, len(categories)):\n",
        "  for index in categories[i]:\n",
        "    final_columns.append(value_words[index] + '_'+ candidates[i])"
      ],
      "metadata": {
        "id": "XkBcy7jRNw15"
      },
      "execution_count": 82,
      "outputs": []
    },
    {
      "cell_type": "code",
      "source": [
        "final_columns"
      ],
      "metadata": {
        "colab": {
          "base_uri": "https://localhost:8080/"
        },
        "id": "t68mEdlMR8ix",
        "outputId": "7f609bf8-e4e8-4e15-9916-1cf6a204fe7c"
      },
      "execution_count": 83,
      "outputs": [
        {
          "output_type": "execute_result",
          "data": {
            "text/plain": [
              "['excelente_dimensiones',\n",
              " 'buen_dimensiones',\n",
              " 'gran_dimensiones',\n",
              " 'hermos_dimensiones',\n",
              " 'excelente_ubicacion',\n",
              " 'buen_ubicacion',\n",
              " 'gran_ubicacion',\n",
              " 'hermos_ubicacion',\n",
              " 'excelente_oportunidad',\n",
              " 'buen_oportunidad',\n",
              " 'gran_oportunidad',\n",
              " 'hermos_oportunidad',\n",
              " 'excelente_calidad',\n",
              " 'buen_calidad',\n",
              " 'gran_calidad',\n",
              " 'hermos_calidad',\n",
              " 'excelente_ventanales',\n",
              " 'buen_ventanales',\n",
              " 'gran_ventanales',\n",
              " 'hermos_ventanales']"
            ]
          },
          "metadata": {},
          "execution_count": 83
        }
      ]
    },
    {
      "cell_type": "markdown",
      "source": [
        "##### Crear y entrenar encoder"
      ],
      "metadata": {
        "id": "aI1SyXvigi2F"
      }
    },
    {
      "cell_type": "code",
      "source": [
        "from sklearn.preprocessing import OneHotEncoder\n",
        "enc = OneHotEncoder(handle_unknown='ignore', categories=categories)"
      ],
      "metadata": {
        "id": "kh0pYEEe8Hy0"
      },
      "execution_count": 84,
      "outputs": []
    },
    {
      "cell_type": "code",
      "source": [
        "#toma alrededor de 10 minutos para 5 columnas\n",
        "enc.fit(new_minqing_train)"
      ],
      "metadata": {
        "colab": {
          "base_uri": "https://localhost:8080/"
        },
        "id": "VSTfzcD3GCeM",
        "outputId": "24a40d62-309c-4019-aa4f-a8cab06f31a4"
      },
      "execution_count": 85,
      "outputs": [
        {
          "output_type": "execute_result",
          "data": {
            "text/plain": [
              "OneHotEncoder(categories=[[0, 1, 2, 3], [0, 1, 2, 3], [0, 1, 2, 3],\n",
              "                          [0, 1, 2, 3], [0, 1, 2, 3]],\n",
              "              handle_unknown='ignore')"
            ]
          },
          "metadata": {},
          "execution_count": 85
        }
      ]
    },
    {
      "cell_type": "markdown",
      "source": [
        "##### Aplicar a train"
      ],
      "metadata": {
        "id": "jREk5_D4glJi"
      }
    },
    {
      "cell_type": "code",
      "source": [
        "t = enc.transform(new_minqing_train)"
      ],
      "metadata": {
        "id": "Vp-nMek5Kgm5"
      },
      "execution_count": 86,
      "outputs": []
    },
    {
      "cell_type": "code",
      "source": [
        "new_minqing_enc_train = pd.DataFrame(t.toarray(), index=new_minqing_train.index, columns=final_columns)"
      ],
      "metadata": {
        "id": "ItiYTuS1H9y0"
      },
      "execution_count": 87,
      "outputs": []
    },
    {
      "cell_type": "code",
      "source": [
        "new_minqing_enc_train.apply(pd.Series.value_counts)"
      ],
      "metadata": {
        "colab": {
          "base_uri": "https://localhost:8080/",
          "height": 0
        },
        "id": "6QdDalteNc9x",
        "outputId": "42aa0afd-9d63-4e19-b463-5d64242a96a3"
      },
      "execution_count": 88,
      "outputs": [
        {
          "output_type": "execute_result",
          "data": {
            "text/plain": [
              "     excelente_dimensiones  buen_dimensiones  gran_dimensiones  \\\n",
              "0.0                58676.0             58672             58414   \n",
              "1.0                    NaN                 4               262   \n",
              "\n",
              "     hermos_dimensiones  excelente_ubicacion  buen_ubicacion  gran_ubicacion  \\\n",
              "0.0               58665                58184           58469           58602   \n",
              "1.0                  11                  492             207              74   \n",
              "\n",
              "     hermos_ubicacion  excelente_oportunidad  buen_oportunidad  \\\n",
              "0.0             58671                  58193             58647   \n",
              "1.0                 5                    483                29   \n",
              "\n",
              "     gran_oportunidad  hermos_oportunidad  excelente_calidad  buen_calidad  \\\n",
              "0.0             58464               58604              58165         58558   \n",
              "1.0               212                  72                511           118   \n",
              "\n",
              "     gran_calidad  hermos_calidad  excelente_ventanales  buen_ventanales  \\\n",
              "0.0         58663           58674                 58650            58563   \n",
              "1.0            13               2                    26              113   \n",
              "\n",
              "     gran_ventanales  hermos_ventanales  \n",
              "0.0            58566            58676.0  \n",
              "1.0              110                NaN  "
            ],
            "text/html": [
              "\n",
              "  <div id=\"df-3c51ac46-a558-46e4-b474-52b3e69165af\">\n",
              "    <div class=\"colab-df-container\">\n",
              "      <div>\n",
              "<style scoped>\n",
              "    .dataframe tbody tr th:only-of-type {\n",
              "        vertical-align: middle;\n",
              "    }\n",
              "\n",
              "    .dataframe tbody tr th {\n",
              "        vertical-align: top;\n",
              "    }\n",
              "\n",
              "    .dataframe thead th {\n",
              "        text-align: right;\n",
              "    }\n",
              "</style>\n",
              "<table border=\"1\" class=\"dataframe\">\n",
              "  <thead>\n",
              "    <tr style=\"text-align: right;\">\n",
              "      <th></th>\n",
              "      <th>excelente_dimensiones</th>\n",
              "      <th>buen_dimensiones</th>\n",
              "      <th>gran_dimensiones</th>\n",
              "      <th>hermos_dimensiones</th>\n",
              "      <th>excelente_ubicacion</th>\n",
              "      <th>buen_ubicacion</th>\n",
              "      <th>gran_ubicacion</th>\n",
              "      <th>hermos_ubicacion</th>\n",
              "      <th>excelente_oportunidad</th>\n",
              "      <th>buen_oportunidad</th>\n",
              "      <th>gran_oportunidad</th>\n",
              "      <th>hermos_oportunidad</th>\n",
              "      <th>excelente_calidad</th>\n",
              "      <th>buen_calidad</th>\n",
              "      <th>gran_calidad</th>\n",
              "      <th>hermos_calidad</th>\n",
              "      <th>excelente_ventanales</th>\n",
              "      <th>buen_ventanales</th>\n",
              "      <th>gran_ventanales</th>\n",
              "      <th>hermos_ventanales</th>\n",
              "    </tr>\n",
              "  </thead>\n",
              "  <tbody>\n",
              "    <tr>\n",
              "      <th>0.0</th>\n",
              "      <td>58676.0</td>\n",
              "      <td>58672</td>\n",
              "      <td>58414</td>\n",
              "      <td>58665</td>\n",
              "      <td>58184</td>\n",
              "      <td>58469</td>\n",
              "      <td>58602</td>\n",
              "      <td>58671</td>\n",
              "      <td>58193</td>\n",
              "      <td>58647</td>\n",
              "      <td>58464</td>\n",
              "      <td>58604</td>\n",
              "      <td>58165</td>\n",
              "      <td>58558</td>\n",
              "      <td>58663</td>\n",
              "      <td>58674</td>\n",
              "      <td>58650</td>\n",
              "      <td>58563</td>\n",
              "      <td>58566</td>\n",
              "      <td>58676.0</td>\n",
              "    </tr>\n",
              "    <tr>\n",
              "      <th>1.0</th>\n",
              "      <td>NaN</td>\n",
              "      <td>4</td>\n",
              "      <td>262</td>\n",
              "      <td>11</td>\n",
              "      <td>492</td>\n",
              "      <td>207</td>\n",
              "      <td>74</td>\n",
              "      <td>5</td>\n",
              "      <td>483</td>\n",
              "      <td>29</td>\n",
              "      <td>212</td>\n",
              "      <td>72</td>\n",
              "      <td>511</td>\n",
              "      <td>118</td>\n",
              "      <td>13</td>\n",
              "      <td>2</td>\n",
              "      <td>26</td>\n",
              "      <td>113</td>\n",
              "      <td>110</td>\n",
              "      <td>NaN</td>\n",
              "    </tr>\n",
              "  </tbody>\n",
              "</table>\n",
              "</div>\n",
              "      <button class=\"colab-df-convert\" onclick=\"convertToInteractive('df-3c51ac46-a558-46e4-b474-52b3e69165af')\"\n",
              "              title=\"Convert this dataframe to an interactive table.\"\n",
              "              style=\"display:none;\">\n",
              "        \n",
              "  <svg xmlns=\"http://www.w3.org/2000/svg\" height=\"24px\"viewBox=\"0 0 24 24\"\n",
              "       width=\"24px\">\n",
              "    <path d=\"M0 0h24v24H0V0z\" fill=\"none\"/>\n",
              "    <path d=\"M18.56 5.44l.94 2.06.94-2.06 2.06-.94-2.06-.94-.94-2.06-.94 2.06-2.06.94zm-11 1L8.5 8.5l.94-2.06 2.06-.94-2.06-.94L8.5 2.5l-.94 2.06-2.06.94zm10 10l.94 2.06.94-2.06 2.06-.94-2.06-.94-.94-2.06-.94 2.06-2.06.94z\"/><path d=\"M17.41 7.96l-1.37-1.37c-.4-.4-.92-.59-1.43-.59-.52 0-1.04.2-1.43.59L10.3 9.45l-7.72 7.72c-.78.78-.78 2.05 0 2.83L4 21.41c.39.39.9.59 1.41.59.51 0 1.02-.2 1.41-.59l7.78-7.78 2.81-2.81c.8-.78.8-2.07 0-2.86zM5.41 20L4 18.59l7.72-7.72 1.47 1.35L5.41 20z\"/>\n",
              "  </svg>\n",
              "      </button>\n",
              "      \n",
              "  <style>\n",
              "    .colab-df-container {\n",
              "      display:flex;\n",
              "      flex-wrap:wrap;\n",
              "      gap: 12px;\n",
              "    }\n",
              "\n",
              "    .colab-df-convert {\n",
              "      background-color: #E8F0FE;\n",
              "      border: none;\n",
              "      border-radius: 50%;\n",
              "      cursor: pointer;\n",
              "      display: none;\n",
              "      fill: #1967D2;\n",
              "      height: 32px;\n",
              "      padding: 0 0 0 0;\n",
              "      width: 32px;\n",
              "    }\n",
              "\n",
              "    .colab-df-convert:hover {\n",
              "      background-color: #E2EBFA;\n",
              "      box-shadow: 0px 1px 2px rgba(60, 64, 67, 0.3), 0px 1px 3px 1px rgba(60, 64, 67, 0.15);\n",
              "      fill: #174EA6;\n",
              "    }\n",
              "\n",
              "    [theme=dark] .colab-df-convert {\n",
              "      background-color: #3B4455;\n",
              "      fill: #D2E3FC;\n",
              "    }\n",
              "\n",
              "    [theme=dark] .colab-df-convert:hover {\n",
              "      background-color: #434B5C;\n",
              "      box-shadow: 0px 1px 3px 1px rgba(0, 0, 0, 0.15);\n",
              "      filter: drop-shadow(0px 1px 2px rgba(0, 0, 0, 0.3));\n",
              "      fill: #FFFFFF;\n",
              "    }\n",
              "  </style>\n",
              "\n",
              "      <script>\n",
              "        const buttonEl =\n",
              "          document.querySelector('#df-3c51ac46-a558-46e4-b474-52b3e69165af button.colab-df-convert');\n",
              "        buttonEl.style.display =\n",
              "          google.colab.kernel.accessAllowed ? 'block' : 'none';\n",
              "\n",
              "        async function convertToInteractive(key) {\n",
              "          const element = document.querySelector('#df-3c51ac46-a558-46e4-b474-52b3e69165af');\n",
              "          const dataTable =\n",
              "            await google.colab.kernel.invokeFunction('convertToInteractive',\n",
              "                                                     [key], {});\n",
              "          if (!dataTable) return;\n",
              "\n",
              "          const docLinkHtml = 'Like what you see? Visit the ' +\n",
              "            '<a target=\"_blank\" href=https://colab.research.google.com/notebooks/data_table.ipynb>data table notebook</a>'\n",
              "            + ' to learn more about interactive tables.';\n",
              "          element.innerHTML = '';\n",
              "          dataTable['output_type'] = 'display_data';\n",
              "          await google.colab.output.renderOutput(dataTable, element);\n",
              "          const docLink = document.createElement('div');\n",
              "          docLink.innerHTML = docLinkHtml;\n",
              "          element.appendChild(docLink);\n",
              "        }\n",
              "      </script>\n",
              "    </div>\n",
              "  </div>\n",
              "  "
            ]
          },
          "metadata": {},
          "execution_count": 88
        }
      ]
    },
    {
      "cell_type": "markdown",
      "source": [
        "##### Aplicar a **test**"
      ],
      "metadata": {
        "id": "8_r6c89VgnaH"
      }
    },
    {
      "cell_type": "code",
      "source": [
        "t = enc.transform(new_minqing_test)"
      ],
      "metadata": {
        "id": "9oB9wKnIgqm3"
      },
      "execution_count": 89,
      "outputs": []
    },
    {
      "cell_type": "code",
      "source": [
        "new_minqing_enc_test = pd.DataFrame(t.toarray(), index=new_minqing_test.index, columns=final_columns)"
      ],
      "metadata": {
        "id": "w1TB6gGSgqm4"
      },
      "execution_count": 90,
      "outputs": []
    },
    {
      "cell_type": "code",
      "source": [
        "new_minqing_enc_test.apply(pd.Series.value_counts)"
      ],
      "metadata": {
        "colab": {
          "base_uri": "https://localhost:8080/",
          "height": 0
        },
        "outputId": "84c0e870-5c20-44f8-8f3c-b393146558a2",
        "id": "Nw-AvAy2gqm6"
      },
      "execution_count": 91,
      "outputs": [
        {
          "output_type": "execute_result",
          "data": {
            "text/plain": [
              "     excelente_dimensiones  buen_dimensiones  gran_dimensiones  \\\n",
              "0.0                  14513             14513             14450   \n",
              "1.0                      1                 1                64   \n",
              "\n",
              "     hermos_dimensiones  excelente_ubicacion  buen_ubicacion  gran_ubicacion  \\\n",
              "0.0             14514.0                14393           14465           14494   \n",
              "1.0                 NaN                  121              49              20   \n",
              "\n",
              "     hermos_ubicacion  excelente_oportunidad  buen_oportunidad  \\\n",
              "0.0           14514.0                  14401             14506   \n",
              "1.0               NaN                    113                 8   \n",
              "\n",
              "     gran_oportunidad  hermos_oportunidad  excelente_calidad  buen_calidad  \\\n",
              "0.0             14452               14499              14367         14489   \n",
              "1.0                62                  15                147            25   \n",
              "\n",
              "     gran_calidad  hermos_calidad  excelente_ventanales  buen_ventanales  \\\n",
              "0.0         14512           14513                 14506            14482   \n",
              "1.0             2               1                     8               32   \n",
              "\n",
              "     gran_ventanales  hermos_ventanales  \n",
              "0.0            14482            14514.0  \n",
              "1.0               32                NaN  "
            ],
            "text/html": [
              "\n",
              "  <div id=\"df-4317f982-241f-4a09-be6e-aeaf84dc5c14\">\n",
              "    <div class=\"colab-df-container\">\n",
              "      <div>\n",
              "<style scoped>\n",
              "    .dataframe tbody tr th:only-of-type {\n",
              "        vertical-align: middle;\n",
              "    }\n",
              "\n",
              "    .dataframe tbody tr th {\n",
              "        vertical-align: top;\n",
              "    }\n",
              "\n",
              "    .dataframe thead th {\n",
              "        text-align: right;\n",
              "    }\n",
              "</style>\n",
              "<table border=\"1\" class=\"dataframe\">\n",
              "  <thead>\n",
              "    <tr style=\"text-align: right;\">\n",
              "      <th></th>\n",
              "      <th>excelente_dimensiones</th>\n",
              "      <th>buen_dimensiones</th>\n",
              "      <th>gran_dimensiones</th>\n",
              "      <th>hermos_dimensiones</th>\n",
              "      <th>excelente_ubicacion</th>\n",
              "      <th>buen_ubicacion</th>\n",
              "      <th>gran_ubicacion</th>\n",
              "      <th>hermos_ubicacion</th>\n",
              "      <th>excelente_oportunidad</th>\n",
              "      <th>buen_oportunidad</th>\n",
              "      <th>gran_oportunidad</th>\n",
              "      <th>hermos_oportunidad</th>\n",
              "      <th>excelente_calidad</th>\n",
              "      <th>buen_calidad</th>\n",
              "      <th>gran_calidad</th>\n",
              "      <th>hermos_calidad</th>\n",
              "      <th>excelente_ventanales</th>\n",
              "      <th>buen_ventanales</th>\n",
              "      <th>gran_ventanales</th>\n",
              "      <th>hermos_ventanales</th>\n",
              "    </tr>\n",
              "  </thead>\n",
              "  <tbody>\n",
              "    <tr>\n",
              "      <th>0.0</th>\n",
              "      <td>14513</td>\n",
              "      <td>14513</td>\n",
              "      <td>14450</td>\n",
              "      <td>14514.0</td>\n",
              "      <td>14393</td>\n",
              "      <td>14465</td>\n",
              "      <td>14494</td>\n",
              "      <td>14514.0</td>\n",
              "      <td>14401</td>\n",
              "      <td>14506</td>\n",
              "      <td>14452</td>\n",
              "      <td>14499</td>\n",
              "      <td>14367</td>\n",
              "      <td>14489</td>\n",
              "      <td>14512</td>\n",
              "      <td>14513</td>\n",
              "      <td>14506</td>\n",
              "      <td>14482</td>\n",
              "      <td>14482</td>\n",
              "      <td>14514.0</td>\n",
              "    </tr>\n",
              "    <tr>\n",
              "      <th>1.0</th>\n",
              "      <td>1</td>\n",
              "      <td>1</td>\n",
              "      <td>64</td>\n",
              "      <td>NaN</td>\n",
              "      <td>121</td>\n",
              "      <td>49</td>\n",
              "      <td>20</td>\n",
              "      <td>NaN</td>\n",
              "      <td>113</td>\n",
              "      <td>8</td>\n",
              "      <td>62</td>\n",
              "      <td>15</td>\n",
              "      <td>147</td>\n",
              "      <td>25</td>\n",
              "      <td>2</td>\n",
              "      <td>1</td>\n",
              "      <td>8</td>\n",
              "      <td>32</td>\n",
              "      <td>32</td>\n",
              "      <td>NaN</td>\n",
              "    </tr>\n",
              "  </tbody>\n",
              "</table>\n",
              "</div>\n",
              "      <button class=\"colab-df-convert\" onclick=\"convertToInteractive('df-4317f982-241f-4a09-be6e-aeaf84dc5c14')\"\n",
              "              title=\"Convert this dataframe to an interactive table.\"\n",
              "              style=\"display:none;\">\n",
              "        \n",
              "  <svg xmlns=\"http://www.w3.org/2000/svg\" height=\"24px\"viewBox=\"0 0 24 24\"\n",
              "       width=\"24px\">\n",
              "    <path d=\"M0 0h24v24H0V0z\" fill=\"none\"/>\n",
              "    <path d=\"M18.56 5.44l.94 2.06.94-2.06 2.06-.94-2.06-.94-.94-2.06-.94 2.06-2.06.94zm-11 1L8.5 8.5l.94-2.06 2.06-.94-2.06-.94L8.5 2.5l-.94 2.06-2.06.94zm10 10l.94 2.06.94-2.06 2.06-.94-2.06-.94-.94-2.06-.94 2.06-2.06.94z\"/><path d=\"M17.41 7.96l-1.37-1.37c-.4-.4-.92-.59-1.43-.59-.52 0-1.04.2-1.43.59L10.3 9.45l-7.72 7.72c-.78.78-.78 2.05 0 2.83L4 21.41c.39.39.9.59 1.41.59.51 0 1.02-.2 1.41-.59l7.78-7.78 2.81-2.81c.8-.78.8-2.07 0-2.86zM5.41 20L4 18.59l7.72-7.72 1.47 1.35L5.41 20z\"/>\n",
              "  </svg>\n",
              "      </button>\n",
              "      \n",
              "  <style>\n",
              "    .colab-df-container {\n",
              "      display:flex;\n",
              "      flex-wrap:wrap;\n",
              "      gap: 12px;\n",
              "    }\n",
              "\n",
              "    .colab-df-convert {\n",
              "      background-color: #E8F0FE;\n",
              "      border: none;\n",
              "      border-radius: 50%;\n",
              "      cursor: pointer;\n",
              "      display: none;\n",
              "      fill: #1967D2;\n",
              "      height: 32px;\n",
              "      padding: 0 0 0 0;\n",
              "      width: 32px;\n",
              "    }\n",
              "\n",
              "    .colab-df-convert:hover {\n",
              "      background-color: #E2EBFA;\n",
              "      box-shadow: 0px 1px 2px rgba(60, 64, 67, 0.3), 0px 1px 3px 1px rgba(60, 64, 67, 0.15);\n",
              "      fill: #174EA6;\n",
              "    }\n",
              "\n",
              "    [theme=dark] .colab-df-convert {\n",
              "      background-color: #3B4455;\n",
              "      fill: #D2E3FC;\n",
              "    }\n",
              "\n",
              "    [theme=dark] .colab-df-convert:hover {\n",
              "      background-color: #434B5C;\n",
              "      box-shadow: 0px 1px 3px 1px rgba(0, 0, 0, 0.15);\n",
              "      filter: drop-shadow(0px 1px 2px rgba(0, 0, 0, 0.3));\n",
              "      fill: #FFFFFF;\n",
              "    }\n",
              "  </style>\n",
              "\n",
              "      <script>\n",
              "        const buttonEl =\n",
              "          document.querySelector('#df-4317f982-241f-4a09-be6e-aeaf84dc5c14 button.colab-df-convert');\n",
              "        buttonEl.style.display =\n",
              "          google.colab.kernel.accessAllowed ? 'block' : 'none';\n",
              "\n",
              "        async function convertToInteractive(key) {\n",
              "          const element = document.querySelector('#df-4317f982-241f-4a09-be6e-aeaf84dc5c14');\n",
              "          const dataTable =\n",
              "            await google.colab.kernel.invokeFunction('convertToInteractive',\n",
              "                                                     [key], {});\n",
              "          if (!dataTable) return;\n",
              "\n",
              "          const docLinkHtml = 'Like what you see? Visit the ' +\n",
              "            '<a target=\"_blank\" href=https://colab.research.google.com/notebooks/data_table.ipynb>data table notebook</a>'\n",
              "            + ' to learn more about interactive tables.';\n",
              "          element.innerHTML = '';\n",
              "          dataTable['output_type'] = 'display_data';\n",
              "          await google.colab.output.renderOutput(dataTable, element);\n",
              "          const docLink = document.createElement('div');\n",
              "          docLink.innerHTML = docLinkHtml;\n",
              "          element.appendChild(docLink);\n",
              "        }\n",
              "      </script>\n",
              "    </div>\n",
              "  </div>\n",
              "  "
            ]
          },
          "metadata": {},
          "execution_count": 91
        }
      ]
    },
    {
      "cell_type": "markdown",
      "metadata": {
        "id": "Glca6MhQ2nZd"
      },
      "source": [
        "### Nuevo Dataset Ampliado"
      ]
    },
    {
      "cell_type": "code",
      "execution_count": 92,
      "metadata": {
        "id": "8GXwwkCi2qkD"
      },
      "outputs": [],
      "source": [
        "df_ENCODED_AMPLIADO_train = pd.concat([df_ENCODED_train, nuevas_columnas_train, new_minqing_enc_train], axis = 1)\n",
        "df_ENCODED_AMPLIADO_test = pd.concat([df_ENCODED_test, nuevas_columnas_test, new_minqing_enc_test], axis = 1)"
      ]
    },
    {
      "cell_type": "code",
      "execution_count": 93,
      "metadata": {
        "colab": {
          "base_uri": "https://localhost:8080/",
          "height": 0
        },
        "id": "_90TAZAC34Nc",
        "outputId": "6cc683df-a3c7-49ba-dde4-905a33b3cf62"
      },
      "outputs": [
        {
          "output_type": "execute_result",
          "data": {
            "text/plain": [
              "          latitud   longitud  property_rooms  property_bedrooms  \\\n",
              "index                                                             \n",
              "352750 -34.557663 -58.462888             3.0                2.0   \n",
              "94517  -34.558780 -58.458498             3.0                2.0   \n",
              "\n",
              "        property_surface_total  property_surface_covered  comuna_2  comuna_3  \\\n",
              "index                                                                          \n",
              "352750                    65.0                      65.0         0         0   \n",
              "94517                     57.0                      49.0         0         0   \n",
              "\n",
              "        comuna_4  comuna_5  ...  gran_oportunidad  hermos_oportunidad  \\\n",
              "index                       ...                                         \n",
              "352750         0         0  ...               0.0                 0.0   \n",
              "94517          0         0  ...               0.0                 0.0   \n",
              "\n",
              "        excelente_calidad  buen_calidad  gran_calidad  hermos_calidad  \\\n",
              "index                                                                   \n",
              "352750                0.0           0.0           0.0             0.0   \n",
              "94517                 0.0           0.0           0.0             0.0   \n",
              "\n",
              "        excelente_ventanales  buen_ventanales  gran_ventanales  \\\n",
              "index                                                            \n",
              "352750                   0.0              0.0              0.0   \n",
              "94517                    0.0              0.0              0.0   \n",
              "\n",
              "        hermos_ventanales  \n",
              "index                      \n",
              "352750                0.0  \n",
              "94517                 0.0  \n",
              "\n",
              "[2 rows x 50 columns]"
            ],
            "text/html": [
              "\n",
              "  <div id=\"df-6af9942e-6443-4758-94dd-5e0bc354fbb7\">\n",
              "    <div class=\"colab-df-container\">\n",
              "      <div>\n",
              "<style scoped>\n",
              "    .dataframe tbody tr th:only-of-type {\n",
              "        vertical-align: middle;\n",
              "    }\n",
              "\n",
              "    .dataframe tbody tr th {\n",
              "        vertical-align: top;\n",
              "    }\n",
              "\n",
              "    .dataframe thead th {\n",
              "        text-align: right;\n",
              "    }\n",
              "</style>\n",
              "<table border=\"1\" class=\"dataframe\">\n",
              "  <thead>\n",
              "    <tr style=\"text-align: right;\">\n",
              "      <th></th>\n",
              "      <th>latitud</th>\n",
              "      <th>longitud</th>\n",
              "      <th>property_rooms</th>\n",
              "      <th>property_bedrooms</th>\n",
              "      <th>property_surface_total</th>\n",
              "      <th>property_surface_covered</th>\n",
              "      <th>comuna_2</th>\n",
              "      <th>comuna_3</th>\n",
              "      <th>comuna_4</th>\n",
              "      <th>comuna_5</th>\n",
              "      <th>...</th>\n",
              "      <th>gran_oportunidad</th>\n",
              "      <th>hermos_oportunidad</th>\n",
              "      <th>excelente_calidad</th>\n",
              "      <th>buen_calidad</th>\n",
              "      <th>gran_calidad</th>\n",
              "      <th>hermos_calidad</th>\n",
              "      <th>excelente_ventanales</th>\n",
              "      <th>buen_ventanales</th>\n",
              "      <th>gran_ventanales</th>\n",
              "      <th>hermos_ventanales</th>\n",
              "    </tr>\n",
              "    <tr>\n",
              "      <th>index</th>\n",
              "      <th></th>\n",
              "      <th></th>\n",
              "      <th></th>\n",
              "      <th></th>\n",
              "      <th></th>\n",
              "      <th></th>\n",
              "      <th></th>\n",
              "      <th></th>\n",
              "      <th></th>\n",
              "      <th></th>\n",
              "      <th></th>\n",
              "      <th></th>\n",
              "      <th></th>\n",
              "      <th></th>\n",
              "      <th></th>\n",
              "      <th></th>\n",
              "      <th></th>\n",
              "      <th></th>\n",
              "      <th></th>\n",
              "      <th></th>\n",
              "      <th></th>\n",
              "    </tr>\n",
              "  </thead>\n",
              "  <tbody>\n",
              "    <tr>\n",
              "      <th>352750</th>\n",
              "      <td>-34.557663</td>\n",
              "      <td>-58.462888</td>\n",
              "      <td>3.0</td>\n",
              "      <td>2.0</td>\n",
              "      <td>65.0</td>\n",
              "      <td>65.0</td>\n",
              "      <td>0</td>\n",
              "      <td>0</td>\n",
              "      <td>0</td>\n",
              "      <td>0</td>\n",
              "      <td>...</td>\n",
              "      <td>0.0</td>\n",
              "      <td>0.0</td>\n",
              "      <td>0.0</td>\n",
              "      <td>0.0</td>\n",
              "      <td>0.0</td>\n",
              "      <td>0.0</td>\n",
              "      <td>0.0</td>\n",
              "      <td>0.0</td>\n",
              "      <td>0.0</td>\n",
              "      <td>0.0</td>\n",
              "    </tr>\n",
              "    <tr>\n",
              "      <th>94517</th>\n",
              "      <td>-34.558780</td>\n",
              "      <td>-58.458498</td>\n",
              "      <td>3.0</td>\n",
              "      <td>2.0</td>\n",
              "      <td>57.0</td>\n",
              "      <td>49.0</td>\n",
              "      <td>0</td>\n",
              "      <td>0</td>\n",
              "      <td>0</td>\n",
              "      <td>0</td>\n",
              "      <td>...</td>\n",
              "      <td>0.0</td>\n",
              "      <td>0.0</td>\n",
              "      <td>0.0</td>\n",
              "      <td>0.0</td>\n",
              "      <td>0.0</td>\n",
              "      <td>0.0</td>\n",
              "      <td>0.0</td>\n",
              "      <td>0.0</td>\n",
              "      <td>0.0</td>\n",
              "      <td>0.0</td>\n",
              "    </tr>\n",
              "  </tbody>\n",
              "</table>\n",
              "<p>2 rows × 50 columns</p>\n",
              "</div>\n",
              "      <button class=\"colab-df-convert\" onclick=\"convertToInteractive('df-6af9942e-6443-4758-94dd-5e0bc354fbb7')\"\n",
              "              title=\"Convert this dataframe to an interactive table.\"\n",
              "              style=\"display:none;\">\n",
              "        \n",
              "  <svg xmlns=\"http://www.w3.org/2000/svg\" height=\"24px\"viewBox=\"0 0 24 24\"\n",
              "       width=\"24px\">\n",
              "    <path d=\"M0 0h24v24H0V0z\" fill=\"none\"/>\n",
              "    <path d=\"M18.56 5.44l.94 2.06.94-2.06 2.06-.94-2.06-.94-.94-2.06-.94 2.06-2.06.94zm-11 1L8.5 8.5l.94-2.06 2.06-.94-2.06-.94L8.5 2.5l-.94 2.06-2.06.94zm10 10l.94 2.06.94-2.06 2.06-.94-2.06-.94-.94-2.06-.94 2.06-2.06.94z\"/><path d=\"M17.41 7.96l-1.37-1.37c-.4-.4-.92-.59-1.43-.59-.52 0-1.04.2-1.43.59L10.3 9.45l-7.72 7.72c-.78.78-.78 2.05 0 2.83L4 21.41c.39.39.9.59 1.41.59.51 0 1.02-.2 1.41-.59l7.78-7.78 2.81-2.81c.8-.78.8-2.07 0-2.86zM5.41 20L4 18.59l7.72-7.72 1.47 1.35L5.41 20z\"/>\n",
              "  </svg>\n",
              "      </button>\n",
              "      \n",
              "  <style>\n",
              "    .colab-df-container {\n",
              "      display:flex;\n",
              "      flex-wrap:wrap;\n",
              "      gap: 12px;\n",
              "    }\n",
              "\n",
              "    .colab-df-convert {\n",
              "      background-color: #E8F0FE;\n",
              "      border: none;\n",
              "      border-radius: 50%;\n",
              "      cursor: pointer;\n",
              "      display: none;\n",
              "      fill: #1967D2;\n",
              "      height: 32px;\n",
              "      padding: 0 0 0 0;\n",
              "      width: 32px;\n",
              "    }\n",
              "\n",
              "    .colab-df-convert:hover {\n",
              "      background-color: #E2EBFA;\n",
              "      box-shadow: 0px 1px 2px rgba(60, 64, 67, 0.3), 0px 1px 3px 1px rgba(60, 64, 67, 0.15);\n",
              "      fill: #174EA6;\n",
              "    }\n",
              "\n",
              "    [theme=dark] .colab-df-convert {\n",
              "      background-color: #3B4455;\n",
              "      fill: #D2E3FC;\n",
              "    }\n",
              "\n",
              "    [theme=dark] .colab-df-convert:hover {\n",
              "      background-color: #434B5C;\n",
              "      box-shadow: 0px 1px 3px 1px rgba(0, 0, 0, 0.15);\n",
              "      filter: drop-shadow(0px 1px 2px rgba(0, 0, 0, 0.3));\n",
              "      fill: #FFFFFF;\n",
              "    }\n",
              "  </style>\n",
              "\n",
              "      <script>\n",
              "        const buttonEl =\n",
              "          document.querySelector('#df-6af9942e-6443-4758-94dd-5e0bc354fbb7 button.colab-df-convert');\n",
              "        buttonEl.style.display =\n",
              "          google.colab.kernel.accessAllowed ? 'block' : 'none';\n",
              "\n",
              "        async function convertToInteractive(key) {\n",
              "          const element = document.querySelector('#df-6af9942e-6443-4758-94dd-5e0bc354fbb7');\n",
              "          const dataTable =\n",
              "            await google.colab.kernel.invokeFunction('convertToInteractive',\n",
              "                                                     [key], {});\n",
              "          if (!dataTable) return;\n",
              "\n",
              "          const docLinkHtml = 'Like what you see? Visit the ' +\n",
              "            '<a target=\"_blank\" href=https://colab.research.google.com/notebooks/data_table.ipynb>data table notebook</a>'\n",
              "            + ' to learn more about interactive tables.';\n",
              "          element.innerHTML = '';\n",
              "          dataTable['output_type'] = 'display_data';\n",
              "          await google.colab.output.renderOutput(dataTable, element);\n",
              "          const docLink = document.createElement('div');\n",
              "          docLink.innerHTML = docLinkHtml;\n",
              "          element.appendChild(docLink);\n",
              "        }\n",
              "      </script>\n",
              "    </div>\n",
              "  </div>\n",
              "  "
            ]
          },
          "metadata": {},
          "execution_count": 93
        }
      ],
      "source": [
        "df_ENCODED_AMPLIADO_test.head(2)"
      ]
    },
    {
      "cell_type": "markdown",
      "metadata": {
        "id": "a03QarvGzng5"
      },
      "source": [
        "##b) Modelos"
      ]
    },
    {
      "cell_type": "markdown",
      "metadata": {
        "id": "bl_5LkSYzqGc"
      },
      "source": [
        "Entrenar un modelo XGBoost para regresión con el nuevo dataset ampliado\n",
        "considerando los siguientes escenarios"
      ]
    },
    {
      "cell_type": "code",
      "execution_count": 94,
      "metadata": {
        "id": "1w2MptoApfBC"
      },
      "outputs": [],
      "source": [
        "import sklearn as sk\n",
        "from sklearn.model_selection import GridSearchCV\n",
        "from sklearn.model_selection import StratifiedKFold, KFold\n",
        "from sklearn.metrics import make_scorer\n",
        "from sklearn.metrics import mean_squared_error\n",
        "import xgboost as xgb\n",
        "from sklearn import metrics"
      ]
    },
    {
      "cell_type": "markdown",
      "metadata": {
        "id": "1HnKQPUazsSK"
      },
      "source": [
        "###● Utilizar los mismos hiperparámetros seleccionados en el TP 1"
      ]
    },
    {
      "cell_type": "markdown",
      "metadata": {
        "id": "Q5JTMo_7plzM"
      },
      "source": [
        "En este inciso se toman los mejores hiperparametros obtenidos mediante Grid Search Cross Validation, utilizando XGBRegressor objective='reg:squarederror') como estimador: \n",
        "\n",
        "    'GridSearchCV(cv=KFold(n_splits=3, random_state=None, shuffle=False),\n",
        "             estimator=XGBRegressor(objective='reg:squarederror'),\n",
        "             param_grid={'colsample_bytree': [0.3, 0.4, 0.5],\n",
        "                         'gamma': [0.0, 0.2, 0.4],\n",
        "                         'learning_rate': (0.1, 0.2, 0.4),\n",
        "                         'max_depth': [8, 16, 32],\n",
        "                         'min_child_weight': [5, 10, 20]},\n",
        "             return_train_score='True',\n",
        "             scoring=make_scorer(mean_squared_error))'\n",
        "\n",
        "Se utilizó la estrategia Error cuadrático medio (Mean squared error) para evaluar el rendimiento del modelo de validación cruzada en el conjunto de prueba, obteniendo que los mejores parametros son: \n",
        "\n",
        "    {'colsample_bytree': 0.5, 'gamma': 0.0, 'learning_rate': 0.4, 'max_depth': 8, 'min_child_weight': 10} \n",
        "\n",
        "Con estos hiperparámetros se entrenó el modelo XGBRegressor en el TP1, obteniendo:\n",
        "\n",
        "    El error (mse) de train es: 1118917868.550943\n",
        "    El error (rmse) de train es: 33450.22972344051\n",
        "\n",
        "    El error (mse) de test es: 2136148658.8986006\n",
        "    El error (rmse) de test es: 46218.4882801093\n"
      ]
    },
    {
      "cell_type": "markdown",
      "metadata": {
        "id": "2xiu7OWNAh_G"
      },
      "source": [
        "A cuntinuación se entrena un nuevo modelo XGBoost Regressor utilizando los mismos hiperparámetros, pero en este caso se utiliza el nuevo dataset ampliado:"
      ]
    },
    {
      "cell_type": "code",
      "execution_count": 95,
      "metadata": {
        "colab": {
          "base_uri": "https://localhost:8080/",
          "height": 331
        },
        "id": "UkioepTF-iL7",
        "outputId": "add03714-f39c-499d-8be6-a50ceb8424ef"
      },
      "outputs": [
        {
          "output_type": "execute_result",
          "data": {
            "text/plain": [
              "          latitud   longitud  property_rooms  property_bedrooms  \\\n",
              "index                                                             \n",
              "321533 -34.599050 -58.431376             2.0                1.0   \n",
              "384158 -34.630538 -58.419221             2.0                1.0   \n",
              "301410 -34.600052 -58.393015             4.0                3.0   \n",
              "204257 -34.603159 -58.406324             2.0                1.0   \n",
              "263961 -34.597881 -58.428325             2.0                1.0   \n",
              "\n",
              "        property_surface_total  property_surface_covered  comuna_2  comuna_3  \\\n",
              "index                                                                          \n",
              "321533                    51.0                      46.0         0         0   \n",
              "384158                    44.0                      39.0         0         0   \n",
              "301410                   105.0                      96.0         1         0   \n",
              "204257                    40.0                      33.0         1         0   \n",
              "263961                    34.0                      34.0         0         0   \n",
              "\n",
              "        comuna_4  comuna_5  ...  gran_oportunidad  hermos_oportunidad  \\\n",
              "index                       ...                                         \n",
              "321533         0         0  ...               0.0                 0.0   \n",
              "384158         0         1  ...               0.0                 0.0   \n",
              "301410         0         0  ...               0.0                 0.0   \n",
              "204257         0         0  ...               0.0                 0.0   \n",
              "263961         0         0  ...               0.0                 0.0   \n",
              "\n",
              "        excelente_calidad  buen_calidad  gran_calidad  hermos_calidad  \\\n",
              "index                                                                   \n",
              "321533                0.0           0.0           0.0             0.0   \n",
              "384158                0.0           0.0           0.0             0.0   \n",
              "301410                0.0           0.0           0.0             0.0   \n",
              "204257                0.0           0.0           0.0             0.0   \n",
              "263961                0.0           0.0           0.0             0.0   \n",
              "\n",
              "        excelente_ventanales  buen_ventanales  gran_ventanales  \\\n",
              "index                                                            \n",
              "321533                   0.0              0.0              0.0   \n",
              "384158                   0.0              0.0              0.0   \n",
              "301410                   0.0              0.0              0.0   \n",
              "204257                   0.0              0.0              0.0   \n",
              "263961                   0.0              0.0              0.0   \n",
              "\n",
              "        hermos_ventanales  \n",
              "index                      \n",
              "321533                0.0  \n",
              "384158                0.0  \n",
              "301410                0.0  \n",
              "204257                0.0  \n",
              "263961                0.0  \n",
              "\n",
              "[5 rows x 50 columns]"
            ],
            "text/html": [
              "\n",
              "  <div id=\"df-b859a2a4-a4ce-46fa-858a-6ca96cb61bc0\">\n",
              "    <div class=\"colab-df-container\">\n",
              "      <div>\n",
              "<style scoped>\n",
              "    .dataframe tbody tr th:only-of-type {\n",
              "        vertical-align: middle;\n",
              "    }\n",
              "\n",
              "    .dataframe tbody tr th {\n",
              "        vertical-align: top;\n",
              "    }\n",
              "\n",
              "    .dataframe thead th {\n",
              "        text-align: right;\n",
              "    }\n",
              "</style>\n",
              "<table border=\"1\" class=\"dataframe\">\n",
              "  <thead>\n",
              "    <tr style=\"text-align: right;\">\n",
              "      <th></th>\n",
              "      <th>latitud</th>\n",
              "      <th>longitud</th>\n",
              "      <th>property_rooms</th>\n",
              "      <th>property_bedrooms</th>\n",
              "      <th>property_surface_total</th>\n",
              "      <th>property_surface_covered</th>\n",
              "      <th>comuna_2</th>\n",
              "      <th>comuna_3</th>\n",
              "      <th>comuna_4</th>\n",
              "      <th>comuna_5</th>\n",
              "      <th>...</th>\n",
              "      <th>gran_oportunidad</th>\n",
              "      <th>hermos_oportunidad</th>\n",
              "      <th>excelente_calidad</th>\n",
              "      <th>buen_calidad</th>\n",
              "      <th>gran_calidad</th>\n",
              "      <th>hermos_calidad</th>\n",
              "      <th>excelente_ventanales</th>\n",
              "      <th>buen_ventanales</th>\n",
              "      <th>gran_ventanales</th>\n",
              "      <th>hermos_ventanales</th>\n",
              "    </tr>\n",
              "    <tr>\n",
              "      <th>index</th>\n",
              "      <th></th>\n",
              "      <th></th>\n",
              "      <th></th>\n",
              "      <th></th>\n",
              "      <th></th>\n",
              "      <th></th>\n",
              "      <th></th>\n",
              "      <th></th>\n",
              "      <th></th>\n",
              "      <th></th>\n",
              "      <th></th>\n",
              "      <th></th>\n",
              "      <th></th>\n",
              "      <th></th>\n",
              "      <th></th>\n",
              "      <th></th>\n",
              "      <th></th>\n",
              "      <th></th>\n",
              "      <th></th>\n",
              "      <th></th>\n",
              "      <th></th>\n",
              "    </tr>\n",
              "  </thead>\n",
              "  <tbody>\n",
              "    <tr>\n",
              "      <th>321533</th>\n",
              "      <td>-34.599050</td>\n",
              "      <td>-58.431376</td>\n",
              "      <td>2.0</td>\n",
              "      <td>1.0</td>\n",
              "      <td>51.0</td>\n",
              "      <td>46.0</td>\n",
              "      <td>0</td>\n",
              "      <td>0</td>\n",
              "      <td>0</td>\n",
              "      <td>0</td>\n",
              "      <td>...</td>\n",
              "      <td>0.0</td>\n",
              "      <td>0.0</td>\n",
              "      <td>0.0</td>\n",
              "      <td>0.0</td>\n",
              "      <td>0.0</td>\n",
              "      <td>0.0</td>\n",
              "      <td>0.0</td>\n",
              "      <td>0.0</td>\n",
              "      <td>0.0</td>\n",
              "      <td>0.0</td>\n",
              "    </tr>\n",
              "    <tr>\n",
              "      <th>384158</th>\n",
              "      <td>-34.630538</td>\n",
              "      <td>-58.419221</td>\n",
              "      <td>2.0</td>\n",
              "      <td>1.0</td>\n",
              "      <td>44.0</td>\n",
              "      <td>39.0</td>\n",
              "      <td>0</td>\n",
              "      <td>0</td>\n",
              "      <td>0</td>\n",
              "      <td>1</td>\n",
              "      <td>...</td>\n",
              "      <td>0.0</td>\n",
              "      <td>0.0</td>\n",
              "      <td>0.0</td>\n",
              "      <td>0.0</td>\n",
              "      <td>0.0</td>\n",
              "      <td>0.0</td>\n",
              "      <td>0.0</td>\n",
              "      <td>0.0</td>\n",
              "      <td>0.0</td>\n",
              "      <td>0.0</td>\n",
              "    </tr>\n",
              "    <tr>\n",
              "      <th>301410</th>\n",
              "      <td>-34.600052</td>\n",
              "      <td>-58.393015</td>\n",
              "      <td>4.0</td>\n",
              "      <td>3.0</td>\n",
              "      <td>105.0</td>\n",
              "      <td>96.0</td>\n",
              "      <td>1</td>\n",
              "      <td>0</td>\n",
              "      <td>0</td>\n",
              "      <td>0</td>\n",
              "      <td>...</td>\n",
              "      <td>0.0</td>\n",
              "      <td>0.0</td>\n",
              "      <td>0.0</td>\n",
              "      <td>0.0</td>\n",
              "      <td>0.0</td>\n",
              "      <td>0.0</td>\n",
              "      <td>0.0</td>\n",
              "      <td>0.0</td>\n",
              "      <td>0.0</td>\n",
              "      <td>0.0</td>\n",
              "    </tr>\n",
              "    <tr>\n",
              "      <th>204257</th>\n",
              "      <td>-34.603159</td>\n",
              "      <td>-58.406324</td>\n",
              "      <td>2.0</td>\n",
              "      <td>1.0</td>\n",
              "      <td>40.0</td>\n",
              "      <td>33.0</td>\n",
              "      <td>1</td>\n",
              "      <td>0</td>\n",
              "      <td>0</td>\n",
              "      <td>0</td>\n",
              "      <td>...</td>\n",
              "      <td>0.0</td>\n",
              "      <td>0.0</td>\n",
              "      <td>0.0</td>\n",
              "      <td>0.0</td>\n",
              "      <td>0.0</td>\n",
              "      <td>0.0</td>\n",
              "      <td>0.0</td>\n",
              "      <td>0.0</td>\n",
              "      <td>0.0</td>\n",
              "      <td>0.0</td>\n",
              "    </tr>\n",
              "    <tr>\n",
              "      <th>263961</th>\n",
              "      <td>-34.597881</td>\n",
              "      <td>-58.428325</td>\n",
              "      <td>2.0</td>\n",
              "      <td>1.0</td>\n",
              "      <td>34.0</td>\n",
              "      <td>34.0</td>\n",
              "      <td>0</td>\n",
              "      <td>0</td>\n",
              "      <td>0</td>\n",
              "      <td>0</td>\n",
              "      <td>...</td>\n",
              "      <td>0.0</td>\n",
              "      <td>0.0</td>\n",
              "      <td>0.0</td>\n",
              "      <td>0.0</td>\n",
              "      <td>0.0</td>\n",
              "      <td>0.0</td>\n",
              "      <td>0.0</td>\n",
              "      <td>0.0</td>\n",
              "      <td>0.0</td>\n",
              "      <td>0.0</td>\n",
              "    </tr>\n",
              "  </tbody>\n",
              "</table>\n",
              "<p>5 rows × 50 columns</p>\n",
              "</div>\n",
              "      <button class=\"colab-df-convert\" onclick=\"convertToInteractive('df-b859a2a4-a4ce-46fa-858a-6ca96cb61bc0')\"\n",
              "              title=\"Convert this dataframe to an interactive table.\"\n",
              "              style=\"display:none;\">\n",
              "        \n",
              "  <svg xmlns=\"http://www.w3.org/2000/svg\" height=\"24px\"viewBox=\"0 0 24 24\"\n",
              "       width=\"24px\">\n",
              "    <path d=\"M0 0h24v24H0V0z\" fill=\"none\"/>\n",
              "    <path d=\"M18.56 5.44l.94 2.06.94-2.06 2.06-.94-2.06-.94-.94-2.06-.94 2.06-2.06.94zm-11 1L8.5 8.5l.94-2.06 2.06-.94-2.06-.94L8.5 2.5l-.94 2.06-2.06.94zm10 10l.94 2.06.94-2.06 2.06-.94-2.06-.94-.94-2.06-.94 2.06-2.06.94z\"/><path d=\"M17.41 7.96l-1.37-1.37c-.4-.4-.92-.59-1.43-.59-.52 0-1.04.2-1.43.59L10.3 9.45l-7.72 7.72c-.78.78-.78 2.05 0 2.83L4 21.41c.39.39.9.59 1.41.59.51 0 1.02-.2 1.41-.59l7.78-7.78 2.81-2.81c.8-.78.8-2.07 0-2.86zM5.41 20L4 18.59l7.72-7.72 1.47 1.35L5.41 20z\"/>\n",
              "  </svg>\n",
              "      </button>\n",
              "      \n",
              "  <style>\n",
              "    .colab-df-container {\n",
              "      display:flex;\n",
              "      flex-wrap:wrap;\n",
              "      gap: 12px;\n",
              "    }\n",
              "\n",
              "    .colab-df-convert {\n",
              "      background-color: #E8F0FE;\n",
              "      border: none;\n",
              "      border-radius: 50%;\n",
              "      cursor: pointer;\n",
              "      display: none;\n",
              "      fill: #1967D2;\n",
              "      height: 32px;\n",
              "      padding: 0 0 0 0;\n",
              "      width: 32px;\n",
              "    }\n",
              "\n",
              "    .colab-df-convert:hover {\n",
              "      background-color: #E2EBFA;\n",
              "      box-shadow: 0px 1px 2px rgba(60, 64, 67, 0.3), 0px 1px 3px 1px rgba(60, 64, 67, 0.15);\n",
              "      fill: #174EA6;\n",
              "    }\n",
              "\n",
              "    [theme=dark] .colab-df-convert {\n",
              "      background-color: #3B4455;\n",
              "      fill: #D2E3FC;\n",
              "    }\n",
              "\n",
              "    [theme=dark] .colab-df-convert:hover {\n",
              "      background-color: #434B5C;\n",
              "      box-shadow: 0px 1px 3px 1px rgba(0, 0, 0, 0.15);\n",
              "      filter: drop-shadow(0px 1px 2px rgba(0, 0, 0, 0.3));\n",
              "      fill: #FFFFFF;\n",
              "    }\n",
              "  </style>\n",
              "\n",
              "      <script>\n",
              "        const buttonEl =\n",
              "          document.querySelector('#df-b859a2a4-a4ce-46fa-858a-6ca96cb61bc0 button.colab-df-convert');\n",
              "        buttonEl.style.display =\n",
              "          google.colab.kernel.accessAllowed ? 'block' : 'none';\n",
              "\n",
              "        async function convertToInteractive(key) {\n",
              "          const element = document.querySelector('#df-b859a2a4-a4ce-46fa-858a-6ca96cb61bc0');\n",
              "          const dataTable =\n",
              "            await google.colab.kernel.invokeFunction('convertToInteractive',\n",
              "                                                     [key], {});\n",
              "          if (!dataTable) return;\n",
              "\n",
              "          const docLinkHtml = 'Like what you see? Visit the ' +\n",
              "            '<a target=\"_blank\" href=https://colab.research.google.com/notebooks/data_table.ipynb>data table notebook</a>'\n",
              "            + ' to learn more about interactive tables.';\n",
              "          element.innerHTML = '';\n",
              "          dataTable['output_type'] = 'display_data';\n",
              "          await google.colab.output.renderOutput(dataTable, element);\n",
              "          const docLink = document.createElement('div');\n",
              "          docLink.innerHTML = docLinkHtml;\n",
              "          element.appendChild(docLink);\n",
              "        }\n",
              "      </script>\n",
              "    </div>\n",
              "  </div>\n",
              "  "
            ]
          },
          "metadata": {},
          "execution_count": 95
        }
      ],
      "source": [
        "df_ENCODED_AMPLIADO_test.sample(n=5)"
      ]
    },
    {
      "cell_type": "code",
      "execution_count": 96,
      "metadata": {
        "colab": {
          "base_uri": "https://localhost:8080/"
        },
        "id": "QkGo2hbJzwEh",
        "outputId": "b3727059-0cce-49f4-a3d0-cf77d40bcab9"
      },
      "outputs": [
        {
          "output_type": "stream",
          "name": "stdout",
          "text": [
            "[22:41:08] WARNING: /workspace/src/objective/regression_obj.cu:152: reg:linear is now deprecated in favor of reg:squarederror.\n"
          ]
        },
        {
          "output_type": "execute_result",
          "data": {
            "text/plain": [
              "XGBRegressor(colsample_bytree=0.5, gamma=0.0, learning_rate=0.4, max_depth=8,\n",
              "             min_child_weight=10)"
            ]
          },
          "metadata": {},
          "execution_count": 96
        }
      ],
      "source": [
        "x_train = df_ENCODED_AMPLIADO_train.drop(['property_price', 'pxm2'], axis=1)\n",
        "y_train = df_ENCODED_AMPLIADO_train['property_price']\n",
        "\n",
        "x_test = df_ENCODED_AMPLIADO_test.drop(['property_price', 'pxm2'], axis=1)\n",
        "y_test = df_ENCODED_AMPLIADO_test['property_price']\n",
        "\n",
        "model_XGBRegressor =  xgb.XGBRegressor(**{'colsample_bytree': 0.5, 'gamma': 0.0, 'learning_rate': 0.4, 'max_depth': 8, 'min_child_weight': 10} )\n",
        "model_XGBRegressor.fit(x_train, y_train)"
      ]
    },
    {
      "cell_type": "code",
      "execution_count": 97,
      "metadata": {
        "colab": {
          "base_uri": "https://localhost:8080/"
        },
        "id": "5gvWFJJQ_JFd",
        "outputId": "a4c41424-8738-4c76-b47c-1a9a5ef3fa64"
      },
      "outputs": [
        {
          "output_type": "stream",
          "name": "stdout",
          "text": [
            "El error (mse) de train es: 366771767.0423513\n",
            "El error (rmse) de train es: 19151.286302552926\n"
          ]
        }
      ],
      "source": [
        "#Performance para datos de TRAIN\n",
        "y_pred = model_XGBRegressor.predict(x_train)\n",
        "\n",
        "mse = metrics.mean_squared_error(\n",
        "        y_true  = y_train,\n",
        "        y_pred  = y_pred,\n",
        "        squared = True\n",
        "       )\n",
        "\n",
        "print(f\"El error (mse) de train es: {mse}\")\n",
        "print(f\"El error (rmse) de train es: {np.sqrt(mse)}\")"
      ]
    },
    {
      "cell_type": "code",
      "source": [
        "#Performance para datos de TEST\n",
        "y_pred = model_XGBRegressor.predict(x_test)\n",
        "mse = metrics.mean_squared_error(\n",
        "        y_true  = y_test,\n",
        "        y_pred  = y_pred,\n",
        "        squared = True\n",
        "       )\n",
        "\n",
        "print(f\"El error (mse) de test es: {mse}\")\n",
        "print(f\"El error (rmse) de test es: {np.sqrt(mse)}\")"
      ],
      "metadata": {
        "colab": {
          "base_uri": "https://localhost:8080/"
        },
        "id": "RZN6laDViFS_",
        "outputId": "c1c419e4-a168-4f5f-95c2-9d7af0f99fd2"
      },
      "execution_count": 98,
      "outputs": [
        {
          "output_type": "stream",
          "name": "stdout",
          "text": [
            "El error (mse) de test es: 823276118.2381783\n",
            "El error (rmse) de test es: 28692.788610349086\n"
          ]
        }
      ]
    },
    {
      "cell_type": "markdown",
      "metadata": {
        "id": "vWppL2Pezwi1"
      },
      "source": [
        "###● Utilizar hiperparametros optimizados con el nuevo dataset ampliado."
      ]
    },
    {
      "cell_type": "code",
      "execution_count": 99,
      "metadata": {
        "id": "d4XfTpSXz818"
      },
      "outputs": [],
      "source": [
        "#Conjunto de parámetros que quiero usar\n",
        "params_grid = {\"learning_rate\": (0.1, 0.2, 0.4),\n",
        "                        \"max_depth\": [3, 4, 5, 8, 10],\n",
        "                        \"min_child_weight\": [4, 5, 10, 7, 9, 13, 20],\n",
        "                        \"gamma\":[ 0.0, 0.01, 0.1, 0.2, 0.4],\n",
        "                        \"colsample_bytree\":[ 0.3, 0.5, 0.8]}                    \n",
        "                \n",
        "#Cantidad de folds utilizados\n",
        "folds=5\n",
        "\n",
        "#KFold\n",
        "kfoldcv = KFold(n_splits=folds)\n",
        "\n",
        "#Modelo\n",
        "model =  xgb.XGBRegressor(objective = \"reg:squarederror\")\n",
        "\n",
        "#Usamos MSE como métrica para buscar hiperparámetros\n",
        "scorer_fn = make_scorer(sk.metrics.mean_squared_error)\n",
        "\n",
        "#GridSearch CV\n",
        "gridcv = GridSearchCV(estimator=model,param_grid=params_grid,scoring=scorer_fn,cv=kfoldcv,return_train_score='True')"
      ]
    },
    {
      "cell_type": "code",
      "execution_count": 100,
      "metadata": {
        "colab": {
          "base_uri": "https://localhost:8080/"
        },
        "id": "P0fFeU24B_Ha",
        "outputId": "79d28be2-3fab-4e5b-f76e-0cf741a0771d"
      },
      "outputs": [
        {
          "output_type": "execute_result",
          "data": {
            "text/plain": [
              "GridSearchCV(cv=KFold(n_splits=5, random_state=None, shuffle=False),\n",
              "             estimator=XGBRegressor(objective='reg:squarederror'),\n",
              "             param_grid={'colsample_bytree': [0.3, 0.5, 0.8],\n",
              "                         'gamma': [0.0, 0.01, 0.1, 0.2, 0.4],\n",
              "                         'learning_rate': (0.1, 0.2, 0.4),\n",
              "                         'max_depth': [3, 4, 5, 8, 10],\n",
              "                         'min_child_weight': [4, 5, 10, 7, 9, 13, 20]},\n",
              "             return_train_score='True',\n",
              "             scoring=make_scorer(mean_squared_error))"
            ]
          },
          "metadata": {},
          "execution_count": 100
        }
      ],
      "source": [
        "gridcv.fit(x_train[:100], y_train.values[:100])"
      ]
    },
    {
      "cell_type": "code",
      "execution_count": 101,
      "metadata": {
        "id": "9z0dzmQ6CBYU",
        "colab": {
          "base_uri": "https://localhost:8080/"
        },
        "outputId": "7ff13bd7-daf6-42d1-8059-ec27488cb2f3"
      },
      "outputs": [
        {
          "output_type": "stream",
          "name": "stdout",
          "text": [
            "{'colsample_bytree': 0.5, 'gamma': 0.0, 'learning_rate': 0.4, 'max_depth': 3, 'min_child_weight': 13}\n",
            "3705817739.256602\n"
          ]
        }
      ],
      "source": [
        "#Mejores hiperparametros del arbol\n",
        "print(gridcv.best_params_)\n",
        "#Mejor métrica\n",
        "print(gridcv.best_score_)"
      ]
    },
    {
      "cell_type": "markdown",
      "metadata": {
        "id": "G7mT_NU5KQdh"
      },
      "source": [
        "A partir de los hiperparametros optimizados con el nuevo dataset ampliado se entrena un nuevo modelo XGBoost Regressor"
      ]
    },
    {
      "cell_type": "code",
      "execution_count": 102,
      "metadata": {
        "id": "LtXyH2BSKMMk",
        "colab": {
          "base_uri": "https://localhost:8080/"
        },
        "outputId": "6e353913-5ec7-48a3-c30e-205401ad3874"
      },
      "outputs": [
        {
          "output_type": "stream",
          "name": "stdout",
          "text": [
            "[22:46:00] WARNING: /workspace/src/objective/regression_obj.cu:152: reg:linear is now deprecated in favor of reg:squarederror.\n"
          ]
        },
        {
          "output_type": "execute_result",
          "data": {
            "text/plain": [
              "XGBRegressor(colsample_bytree=0.5, gamma=0.0, learning_rate=0.4,\n",
              "             min_child_weight=13)"
            ]
          },
          "metadata": {},
          "execution_count": 102
        }
      ],
      "source": [
        "model_XGBRegressor_Optimizado =  xgb.XGBRegressor(**gridcv.best_params_)\n",
        "model_XGBRegressor_Optimizado.fit(x_train, y_train)"
      ]
    },
    {
      "cell_type": "code",
      "execution_count": 103,
      "metadata": {
        "id": "O1tN5imtKnDv",
        "colab": {
          "base_uri": "https://localhost:8080/"
        },
        "outputId": "496e610a-9822-48b7-eed1-893f8a31cfaa"
      },
      "outputs": [
        {
          "output_type": "stream",
          "name": "stdout",
          "text": [
            "El error (mse) de train es: 969922808.3101186\n",
            "El error (rmse) de train es: 31143.583742243256\n"
          ]
        }
      ],
      "source": [
        "#Performance para datos de TRAIN\n",
        "y_pred = model_XGBRegressor_Optimizado.predict(x_train)\n",
        "\n",
        "mse = metrics.mean_squared_error(\n",
        "        y_true  = y_train,\n",
        "        y_pred  = y_pred,\n",
        "        squared = True\n",
        "       )\n",
        "\n",
        "print(f\"El error (mse) de train es: {mse}\")\n",
        "print(f\"El error (rmse) de train es: {np.sqrt(mse)}\")\n"
      ]
    },
    {
      "cell_type": "code",
      "source": [
        "#Performance para datos de TEST\n",
        "y_pred = model_XGBRegressor_Optimizado.predict(x_test)\n",
        "mse = metrics.mean_squared_error(\n",
        "        y_true  = y_test,\n",
        "        y_pred  = y_pred,\n",
        "        squared = True\n",
        "       )\n",
        "\n",
        "print(f\"El error (mse) de test es: {mse}\")\n",
        "print(f\"El error (rmse) de test es: {np.sqrt(mse)}\")"
      ],
      "metadata": {
        "colab": {
          "base_uri": "https://localhost:8080/"
        },
        "id": "6We3lPP0jBIK",
        "outputId": "e8b6e2b0-b3ab-4a28-e378-f353aa5e49ac"
      },
      "execution_count": 104,
      "outputs": [
        {
          "output_type": "stream",
          "name": "stdout",
          "text": [
            "El error (mse) de test es: 1018051571.3193722\n",
            "El error (rmse) de test es: 31906.920429890633\n"
          ]
        }
      ]
    },
    {
      "cell_type": "markdown",
      "source": [
        "### Se guardan los nuevos modelos XGBRegressor entrenados "
      ],
      "metadata": {
        "id": "9kHcYCvbC1OC"
      }
    },
    {
      "cell_type": "code",
      "source": [
        "import joblib  \n",
        "\n",
        "try:\n",
        "  joblib.dump(model_XGBRegressor, 'drive/My Drive/tp1 datos grupal/ModelosTP2/XGBoostRegressor_TP2.pkl')\n",
        "  joblib.dump(model_XGBRegressor_Optimizado, 'drive/My Drive/tp1 datos grupal/ModelosTP2/XGBoostRegressor_TP2_OPTIMIZADO.pkl')\n",
        "except:\n",
        "  joblib.dump(model_XGBRegressor, 'XGBoostRegressor_TP2.pkl')\n",
        "  joblib.dump(model_XGBRegressor_Optimizado, 'XGBoostRegressor_TP2_OPTIMIZADO.pkl')"
      ],
      "metadata": {
        "id": "Ge1BbSfsC7xI"
      },
      "execution_count": 105,
      "outputs": []
    },
    {
      "cell_type": "markdown",
      "source": [
        "### Análisis de performance"
      ],
      "metadata": {
        "id": "DYnDLSM86DwL"
      }
    },
    {
      "cell_type": "markdown",
      "source": [
        "Con hiperparámetros optimizados para el dataset generado en el TP1 se entrenó el modelo XGBRegressor utilizando dicho dataset, obteniendo:\n",
        "\n",
        "    El error (mse) de train es: 1118917868.550943\n",
        "    El error (rmse) de train es: 33450.22972344051\n",
        "\n",
        "    El error (mse) de test es: 2136148658.8986006\n",
        "    El error (rmse) de test es: 46218.4882801093\n",
        "\n",
        "Se puede apreciar tomando la raíz del error cuadrático medio que la diferencia entre la performance de train y test es de aproximadamente 13k USD.\n",
        "\n",
        "Luego con los mismos hiperparámetros se entrenó un nuevo modelo XGBoost Regressor, pero en este caso se utilizó el nuevo dataset ampliado, obteniendo una performance que mejoró significativamente:\n",
        "\n",
        "    El error (mse) de train es: 366771767.0423513\n",
        "    El error (rmse) de train es: 19151.286302552926\n",
        "   \n",
        "    El error (mse) de test es: 823276118.2381783\n",
        "    El error (rmse) de test es: 28692.788610349086\n",
        "\n",
        "Con los nuevos aspectos obtenidos utilizando diversas técnicas de procesamiento del lenguaje natural sobre las descripciones de las propiedades se logró reducir el RMSE de test de 46218 USD a 28692 USD, es decir se predice con alrededor de 18k USD menos de RMSE. Se puede apreciar de todas formas que sigue habiendo una diferencia considerable entre la performance en train y test, en este caso de aproximadamente 10k USD\n",
        "\n",
        "Por último se hizo búsqueda de nuevos hiperparametros optimizados con el dataset ampliado, y se entrenó un nuevo modelo XGBoost Regressor que performó de la siguiente manera:\n",
        "\n",
        "    El error (mse) de train es: 969922808.3101186\n",
        "    El error (rmse) de train es: 31143.583742243256\n",
        "\n",
        "    El error (mse) de test es: 1018051571.3193722\n",
        "    El error (rmse) de test es: 31906.920429890633\n",
        "\n",
        "Si bien con los nuevos hiperparametros optimizados no se logró mejorar la performance en test, de hecho se obtuvo un RMSE aproximadamente 3k USD mayor que el obtenido utilizando los hiperparametros del TP1, se puede apreciar que a diferencia de los modelos anteriores, en este caso la performance en train y test fue muy pareja, esto puede deberse a que al agregar nuevos aspectos se logró reducir el sesgo por lo que este modelo performó mejor que los anteriores en datos no vistos, por ende puede decirse también que los modelos anteriores sobreajustaron más los datos de train."
      ],
      "metadata": {
        "id": "aM3I1Fo-6HIZ"
      }
    },
    {
      "cell_type": "markdown",
      "metadata": {
        "id": "Oqo_rA4YydnO"
      },
      "source": [
        "#**2. Redes Neuronales**"
      ]
    },
    {
      "cell_type": "markdown",
      "metadata": {
        "id": "5zasBQ-W0oQ6"
      },
      "source": [
        "Construir dos modelos de redes neuronales, uno para regresión y otro para clasificación,\n",
        "considerando los datasets creados en el TP1. Mejorar estos modelos de redes\n",
        "neuronales a través de la búsqueda de arquitectura e hiperparámetros adecuados. "
      ]
    },
    {
      "cell_type": "code",
      "execution_count": 279,
      "metadata": {
        "id": "TEPfRLkg4dS2"
      },
      "outputs": [],
      "source": [
        "# porción del dataset train usado para búsqueda de parámetros\n",
        "TUNER_PROPORTION=0.01\n",
        "#porción del dataset de búsqueda de parámetros usado para validar\n",
        "TUNER_TEST_PROPORTION = 0.2\n",
        "# Parámetros de training para todos los modelos\n",
        "max_trials=10\n",
        "executions_per_trial=2\n",
        "epochs = 24"
      ]
    },
    {
      "cell_type": "markdown",
      "metadata": {
        "id": "4LTepWxGk7mX"
      },
      "source": [
        "Usamos un diccionario para guardar la performance con cada dataset en regresión y clasificación"
      ]
    },
    {
      "cell_type": "code",
      "execution_count": 280,
      "metadata": {
        "id": "XM2M09A-k22I"
      },
      "outputs": [],
      "source": [
        "results_reg = {}\n",
        "results_clas = {}"
      ]
    },
    {
      "cell_type": "markdown",
      "metadata": {
        "id": "AD3UH9Rt0qhf"
      },
      "source": [
        "##● Regresión:"
      ]
    },
    {
      "cell_type": "markdown",
      "metadata": {
        "id": "0gkOGGj7H8J4"
      },
      "source": [
        "### Dataset normal"
      ]
    },
    {
      "cell_type": "markdown",
      "metadata": {
        "id": "z3zKkQ7KlKZJ"
      },
      "source": [
        "#### Crear modelo"
      ]
    },
    {
      "cell_type": "markdown",
      "metadata": {
        "id": "wuFk5xFo02TE"
      },
      "source": [
        "Predecir el precio de la propiedad y utilizar como métrica de\n",
        "evaluación el error cuadrático medio."
      ]
    },
    {
      "cell_type": "markdown",
      "metadata": {
        "id": "Om57WKUR5IoM"
      },
      "source": [
        "Defino conjuntos de train y test:"
      ]
    },
    {
      "cell_type": "code",
      "execution_count": 281,
      "metadata": {
        "id": "W6_OFe_nyo5w"
      },
      "outputs": [],
      "source": [
        "x_train = df_ENCODED_train.drop(['tipo_precio','property_price','pxm2'], axis=1).values\n",
        "y_train = df_ENCODED_train['property_price'].values\n",
        "\n",
        "x_test = df_ENCODED_test.drop(['tipo_precio','property_price','pxm2'], axis=1).values\n",
        "y_test = df_ENCODED_test['property_price'].values"
      ]
    },
    {
      "cell_type": "markdown",
      "metadata": {
        "id": "_RiHeQuj5Lqp"
      },
      "source": [
        "Escalo los datos usando MinMax:"
      ]
    },
    {
      "cell_type": "code",
      "execution_count": 282,
      "metadata": {
        "id": "nAI5LStu29pK"
      },
      "outputs": [],
      "source": [
        "scaler = MinMaxScaler()\n",
        "scaler.fit(x_train)\n",
        "x_train = scaler.transform(x_train)\n",
        "x_test = scaler.transform(x_test)"
      ]
    },
    {
      "cell_type": "markdown",
      "metadata": {
        "id": "aBnb9OGz5OGd"
      },
      "source": [
        "'build_model_from_parameters' crea y compila un modelo keras basado en los hiperparámetros:\n",
        "- units: neuronas en una capa\n",
        "- activation: función de activación\n",
        "- dropout: booleano para hacer o no dropout\n",
        "- lr: el learning rate del modelo.\n",
        "- num_layers: capas del modelo\n",
        "\n",
        "Luego build_model usa la utilidad HyperParameters() para crear un espacio de búsqueda de hiperparámetros"
      ]
    },
    {
      "cell_type": "code",
      "execution_count": 283,
      "metadata": {
        "id": "NTYG4yJkCS78"
      },
      "outputs": [],
      "source": [
        "# def hiperparams\n",
        "def build_model_from_parameters(units, activation, dropout, lr, num_layers):\n",
        "    model = keras.Sequential()\n",
        "    for i in range(0,num_layers):\n",
        "        model.add(layers.Dense(units=units, activation=activation))\n",
        "    if dropout:\n",
        "        model.add(layers.Dropout(rate=0.25))\n",
        "    model.add(layers.Dense(1))\n",
        "    \n",
        "    model.compile(\n",
        "        optimizer=keras.optimizers.Adam(learning_rate=lr),\n",
        "        loss = 'mae',\n",
        "        metrics = ['mse']\n",
        "    )\n",
        "    return model\n",
        "\n",
        "def build_model(hp):\n",
        "    units = hp.Int(\"units\", min_value=4, max_value=16, step=8)\n",
        "    activation = hp.Choice(\"activation\", [\"relu\", \"tanh\", \"linear\"])\n",
        "    dropout = hp.Boolean(\"dropout\")\n",
        "    learn_rate = hp.Float(\"lr\", min_value=1e-4, max_value=1e-2, sampling=\"log\")\n",
        "    layers = hp.Int(\"units\", min_value=2, max_value=4, step=1)\n",
        "    model = build_model_from_parameters(\n",
        "        units=units, \n",
        "        activation=activation, \n",
        "        dropout=dropout, \n",
        "        lr=learn_rate, \n",
        "        num_layers = layers\n",
        "    )\n",
        "    return model\n"
      ]
    },
    {
      "cell_type": "code",
      "execution_count": 284,
      "metadata": {
        "id": "Ii6Io3lXbSxz"
      },
      "outputs": [],
      "source": [
        "import keras_tuner"
      ]
    },
    {
      "cell_type": "markdown",
      "metadata": {
        "id": "AMROMbp96aZZ"
      },
      "source": [
        "Creamos el tuner con el método build_model, e imprimimos el espacio de búsqueda creado"
      ]
    },
    {
      "cell_type": "code",
      "execution_count": 285,
      "metadata": {
        "id": "77qdwDLCESxm",
        "colab": {
          "base_uri": "https://localhost:8080/"
        },
        "outputId": "a90fb296-fc32-4864-f2dc-1ac936915bf2"
      },
      "outputs": [
        {
          "output_type": "stream",
          "name": "stdout",
          "text": [
            "Search space summary\n",
            "Default search space size: 4\n",
            "units (Int)\n",
            "{'default': None, 'conditions': [], 'min_value': 4, 'max_value': 16, 'step': 8, 'sampling': None}\n",
            "activation (Choice)\n",
            "{'default': 'relu', 'conditions': [], 'values': ['relu', 'tanh', 'linear'], 'ordered': False}\n",
            "dropout (Boolean)\n",
            "{'default': False, 'conditions': []}\n",
            "lr (Float)\n",
            "{'default': 0.0001, 'conditions': [], 'min_value': 0.0001, 'max_value': 0.01, 'step': None, 'sampling': 'log'}\n"
          ]
        }
      ],
      "source": [
        "tuner = keras_tuner.RandomSearch(\n",
        "    seed = 0,\n",
        "    hypermodel=build_model,\n",
        "    objective='mse',\n",
        "    max_trials=max_trials,\n",
        "    executions_per_trial=executions_per_trial,\n",
        "    overwrite=True,\n",
        "    directory=\".\",\n",
        "    project_name=\"helloworld\",\n",
        ")\n",
        "tuner.search_space_summary()"
      ]
    },
    {
      "cell_type": "markdown",
      "metadata": {
        "id": "hfuCDZPw-kC0"
      },
      "source": [
        "Seleccionamos un subconjunto del conjunto train, para hacer tuning de hiperparámetros. Este se divide en una parte train y una parte de validación"
      ]
    },
    {
      "cell_type": "code",
      "execution_count": 286,
      "metadata": {
        "id": "gwV_slVBBLLx"
      },
      "outputs": [],
      "source": [
        "from sklearn.model_selection import train_test_split\n",
        "train_size = TUNER_PROPORTION*(1-TUNER_TEST_PROPORTION)\n",
        "test_size = TUNER_PROPORTION*TUNER_TEST_PROPORTION\n",
        "X_train_, X_eval = train_test_split(x_train, train_size = train_size, test_size=test_size, random_state=0)\n",
        "y_train_, y_eval = train_test_split(y_train, train_size = train_size, test_size=test_size, random_state=0)"
      ]
    },
    {
      "cell_type": "code",
      "execution_count": 287,
      "metadata": {
        "id": "KP91sCp_FDyZ",
        "colab": {
          "base_uri": "https://localhost:8080/"
        },
        "outputId": "430b8ee7-73bf-45f2-a521-718dcf2f1613"
      },
      "outputs": [
        {
          "output_type": "stream",
          "name": "stdout",
          "text": [
            "Trial 10 Complete [00h 00m 03s]\n",
            "mse: 67456468992.0\n",
            "\n",
            "Best mse So Far: 67448250368.0\n",
            "Total elapsed time: 00h 00m 32s\n"
          ]
        }
      ],
      "source": [
        "tuner.search(X_train_, y_train_, epochs=2, validation_data=(X_eval, y_eval))"
      ]
    },
    {
      "cell_type": "markdown",
      "metadata": {
        "id": "fZyYsWw0_PwJ"
      },
      "source": [
        "Armamos el mejor modelo e imprimimos un resumen de sus capas"
      ]
    },
    {
      "cell_type": "code",
      "execution_count": 288,
      "metadata": {
        "id": "RDT-jDFqFH-X",
        "colab": {
          "base_uri": "https://localhost:8080/"
        },
        "outputId": "1205fbb6-e474-4a18-f0ee-65886ce1e6d0"
      },
      "outputs": [
        {
          "output_type": "stream",
          "name": "stdout",
          "text": [
            "Model: \"sequential\"\n",
            "_________________________________________________________________\n",
            " Layer (type)                Output Shape              Param #   \n",
            "=================================================================\n",
            " dense (Dense)               (None, 4)                 92        \n",
            "                                                                 \n",
            " dense_1 (Dense)             (None, 4)                 20        \n",
            "                                                                 \n",
            " dense_2 (Dense)             (None, 4)                 20        \n",
            "                                                                 \n",
            " dense_3 (Dense)             (None, 4)                 20        \n",
            "                                                                 \n",
            " dropout (Dropout)           (None, 4)                 0         \n",
            "                                                                 \n",
            " dense_4 (Dense)             (None, 1)                 5         \n",
            "                                                                 \n",
            "=================================================================\n",
            "Total params: 157\n",
            "Trainable params: 157\n",
            "Non-trainable params: 0\n",
            "_________________________________________________________________\n"
          ]
        }
      ],
      "source": [
        "# Get the top model.\n",
        "models = tuner.get_best_models(num_models=1)\n",
        "best_model = models[0]\n",
        "# Build the model.\n",
        "best_model.build((None, x_train.shape[1]))\n",
        "best_model.summary()\n"
      ]
    },
    {
      "cell_type": "code",
      "execution_count": 289,
      "metadata": {
        "id": "-9sLW4tOFJjs",
        "colab": {
          "base_uri": "https://localhost:8080/"
        },
        "outputId": "58f8b7cf-b8ac-422b-da43-38551e2c44eb"
      },
      "outputs": [
        {
          "output_type": "stream",
          "name": "stdout",
          "text": [
            "Results summary\n",
            "Results in ./helloworld\n",
            "Showing 10 best trials\n",
            "<keras_tuner.engine.objective.Objective object at 0x7f5d57a3c0a0>\n",
            "Trial summary\n",
            "Hyperparameters:\n",
            "units: 4\n",
            "activation: linear\n",
            "dropout: True\n",
            "lr: 0.008405929459905032\n",
            "Score: 67448250368.0\n",
            "Trial summary\n",
            "Hyperparameters:\n",
            "units: 12\n",
            "activation: tanh\n",
            "dropout: True\n",
            "lr: 0.004225151089377672\n",
            "Score: 67454785536.0\n",
            "Trial summary\n",
            "Hyperparameters:\n",
            "units: 12\n",
            "activation: linear\n",
            "dropout: True\n",
            "lr: 0.00019629629306016258\n",
            "Score: 67455782912.0\n",
            "Trial summary\n",
            "Hyperparameters:\n",
            "units: 12\n",
            "activation: tanh\n",
            "dropout: False\n",
            "lr: 0.0007321845733528145\n",
            "Score: 67455991808.0\n",
            "Trial summary\n",
            "Hyperparameters:\n",
            "units: 4\n",
            "activation: linear\n",
            "dropout: True\n",
            "lr: 0.0010481568787078452\n",
            "Score: 67456227328.0\n",
            "Trial summary\n",
            "Hyperparameters:\n",
            "units: 4\n",
            "activation: relu\n",
            "dropout: True\n",
            "lr: 0.0004176533732789332\n",
            "Score: 67456401408.0\n",
            "Trial summary\n",
            "Hyperparameters:\n",
            "units: 12\n",
            "activation: relu\n",
            "dropout: True\n",
            "lr: 0.0002607860606751251\n",
            "Score: 67456407552.0\n",
            "Trial summary\n",
            "Hyperparameters:\n",
            "units: 4\n",
            "activation: relu\n",
            "dropout: False\n",
            "lr: 0.0001097893053558189\n",
            "Score: 67456415744.0\n",
            "Trial summary\n",
            "Hyperparameters:\n",
            "units: 4\n",
            "activation: linear\n",
            "dropout: True\n",
            "lr: 0.0001187481804474869\n",
            "Score: 67456468992.0\n",
            "Trial summary\n",
            "Hyperparameters:\n",
            "units: 4\n",
            "activation: tanh\n",
            "dropout: True\n",
            "lr: 0.00025880925342103354\n",
            "Score: 67456524288.0\n"
          ]
        }
      ],
      "source": [
        "tuner.results_summary()"
      ]
    },
    {
      "cell_type": "code",
      "execution_count": 290,
      "metadata": {
        "id": "yibfdTxMG9wy",
        "colab": {
          "base_uri": "https://localhost:8080/"
        },
        "outputId": "242cccd5-c2cf-45e9-d785-67b23155db41"
      },
      "outputs": [
        {
          "output_type": "stream",
          "name": "stdout",
          "text": [
            "Model: \"sequential\"\n",
            "_________________________________________________________________\n",
            " Layer (type)                Output Shape              Param #   \n",
            "=================================================================\n",
            " dense (Dense)               (None, 4)                 92        \n",
            "                                                                 \n",
            " dense_1 (Dense)             (None, 4)                 20        \n",
            "                                                                 \n",
            " dense_2 (Dense)             (None, 4)                 20        \n",
            "                                                                 \n",
            " dense_3 (Dense)             (None, 4)                 20        \n",
            "                                                                 \n",
            " dropout (Dropout)           (None, 4)                 0         \n",
            "                                                                 \n",
            " dense_4 (Dense)             (None, 1)                 5         \n",
            "                                                                 \n",
            "=================================================================\n",
            "Total params: 157\n",
            "Trainable params: 157\n",
            "Non-trainable params: 0\n",
            "_________________________________________________________________\n"
          ]
        }
      ],
      "source": [
        "best_model.summary()"
      ]
    },
    {
      "cell_type": "markdown",
      "metadata": {
        "id": "GzrjD5tMCFHY"
      },
      "source": [
        "#### Entrenar"
      ]
    },
    {
      "cell_type": "code",
      "execution_count": 291,
      "metadata": {
        "id": "hZh9Tdcf4BzW",
        "colab": {
          "base_uri": "https://localhost:8080/"
        },
        "outputId": "e5d136a8-03a9-41ac-df36-115ebb5d3d01"
      },
      "outputs": [
        {
          "output_type": "stream",
          "name": "stdout",
          "text": [
            "Epoch 1/24\n",
            "1651/1651 [==============================] - 6s 3ms/step - loss: 72798.6797 - mse: 14922683392.0000 - val_loss: 44049.0703 - val_mse: 6940418048.0000\n",
            "Epoch 2/24\n",
            "1651/1651 [==============================] - 3s 2ms/step - loss: 59151.5781 - mse: 9795593216.0000 - val_loss: 42324.6719 - val_mse: 6462645760.0000\n",
            "Epoch 3/24\n",
            "1651/1651 [==============================] - 3s 2ms/step - loss: 58099.8320 - mse: 9225388032.0000 - val_loss: 42761.6914 - val_mse: 6406047744.0000\n",
            "Epoch 4/24\n",
            "1651/1651 [==============================] - 3s 2ms/step - loss: 58044.1992 - mse: 9213030400.0000 - val_loss: 42072.1211 - val_mse: 6146726400.0000\n",
            "Epoch 5/24\n",
            "1651/1651 [==============================] - 3s 2ms/step - loss: 58398.8398 - mse: 9347416064.0000 - val_loss: 42333.9883 - val_mse: 6338819072.0000\n",
            "Epoch 6/24\n",
            "1651/1651 [==============================] - 3s 2ms/step - loss: 57850.5430 - mse: 9230665728.0000 - val_loss: 41871.7109 - val_mse: 5986722816.0000\n",
            "Epoch 7/24\n",
            "1651/1651 [==============================] - 3s 2ms/step - loss: 58122.6562 - mse: 9185475584.0000 - val_loss: 41182.1641 - val_mse: 5910977536.0000\n",
            "Epoch 8/24\n",
            "1651/1651 [==============================] - 4s 2ms/step - loss: 57801.4297 - mse: 9128723456.0000 - val_loss: 41203.6758 - val_mse: 5886584320.0000\n",
            "Epoch 9/24\n",
            "1651/1651 [==============================] - 3s 2ms/step - loss: 57642.7227 - mse: 8948136960.0000 - val_loss: 41027.0664 - val_mse: 5854500352.0000\n",
            "Epoch 10/24\n",
            "1651/1651 [==============================] - 3s 2ms/step - loss: 58093.1055 - mse: 9296012288.0000 - val_loss: 42830.5430 - val_mse: 6203943936.0000\n",
            "Epoch 11/24\n",
            "1651/1651 [==============================] - 3s 2ms/step - loss: 57704.8711 - mse: 9003544576.0000 - val_loss: 41673.9766 - val_mse: 5890461184.0000\n",
            "Epoch 12/24\n",
            "1651/1651 [==============================] - 3s 2ms/step - loss: 57718.9727 - mse: 9046727680.0000 - val_loss: 41906.0000 - val_mse: 6255638016.0000\n",
            "Epoch 13/24\n",
            "1651/1651 [==============================] - 3s 2ms/step - loss: 58181.6758 - mse: 9292259328.0000 - val_loss: 42704.7578 - val_mse: 6349690880.0000\n",
            "Epoch 14/24\n",
            "1651/1651 [==============================] - 3s 2ms/step - loss: 57668.7734 - mse: 9019814912.0000 - val_loss: 40808.6406 - val_mse: 5673544192.0000\n",
            "Epoch 15/24\n",
            "1651/1651 [==============================] - 3s 2ms/step - loss: 57270.7031 - mse: 8980774912.0000 - val_loss: 40466.4766 - val_mse: 5596811264.0000\n",
            "Epoch 16/24\n",
            "1651/1651 [==============================] - 3s 2ms/step - loss: 57807.9766 - mse: 9066192896.0000 - val_loss: 41127.6914 - val_mse: 5879805952.0000\n",
            "Epoch 17/24\n",
            "1651/1651 [==============================] - 5s 3ms/step - loss: 57637.5273 - mse: 9055696896.0000 - val_loss: 40502.1211 - val_mse: 5608903680.0000\n",
            "Epoch 18/24\n",
            "1651/1651 [==============================] - 3s 2ms/step - loss: 57597.0820 - mse: 8926811136.0000 - val_loss: 41194.9141 - val_mse: 5906441216.0000\n",
            "Epoch 19/24\n",
            "1651/1651 [==============================] - 3s 2ms/step - loss: 57838.0117 - mse: 9159785472.0000 - val_loss: 41961.2617 - val_mse: 6153478656.0000\n",
            "Epoch 20/24\n",
            "1651/1651 [==============================] - 3s 2ms/step - loss: 57501.0781 - mse: 8961090560.0000 - val_loss: 41032.9062 - val_mse: 5820370944.0000\n",
            "Epoch 21/24\n",
            "1651/1651 [==============================] - 3s 2ms/step - loss: 57940.1328 - mse: 9158771712.0000 - val_loss: 44162.8398 - val_mse: 6632141312.0000\n",
            "Epoch 22/24\n",
            "1651/1651 [==============================] - 3s 2ms/step - loss: 57699.3555 - mse: 8858874880.0000 - val_loss: 42285.5039 - val_mse: 6181989376.0000\n",
            "Epoch 23/24\n",
            "1651/1651 [==============================] - 3s 2ms/step - loss: 57512.1289 - mse: 9065556992.0000 - val_loss: 40611.9297 - val_mse: 5678723072.0000\n",
            "Epoch 24/24\n",
            "1651/1651 [==============================] - 3s 2ms/step - loss: 57719.5820 - mse: 9080521728.0000 - val_loss: 41185.3477 - val_mse: 5775153664.0000\n"
          ]
        }
      ],
      "source": [
        "his = best_model.fit(\n",
        " x_train, y_train,\n",
        " batch_size = 32,\n",
        " epochs = epochs,\n",
        " verbose = 1,\n",
        " validation_split = 0.1)"
      ]
    },
    {
      "cell_type": "markdown",
      "metadata": {
        "id": "gu51ZuvJlGfB"
      },
      "source": [
        "#### Evaluar"
      ]
    },
    {
      "cell_type": "markdown",
      "metadata": {
        "id": "foQcre4ZleB2"
      },
      "source": [
        "Evaluamos el modelo final y guardamos el MSE:"
      ]
    },
    {
      "cell_type": "code",
      "execution_count": 292,
      "metadata": {
        "id": "jfgyaoRY5xfS",
        "colab": {
          "base_uri": "https://localhost:8080/"
        },
        "outputId": "3f937645-aa78-4d16-f8df-0d9bfcf4c541"
      },
      "outputs": [
        {
          "output_type": "stream",
          "name": "stdout",
          "text": [
            "454/454 [==============================] - 1s 2ms/step\n"
          ]
        }
      ],
      "source": [
        "y_pred = best_model.predict(\n",
        " x_test)"
      ]
    },
    {
      "cell_type": "code",
      "execution_count": 293,
      "metadata": {
        "id": "Nj_5oM7I-1WN",
        "colab": {
          "base_uri": "https://localhost:8080/"
        },
        "outputId": "126bf1e5-0b5e-4c0e-eabb-09df02cdd8aa"
      },
      "outputs": [
        {
          "output_type": "stream",
          "name": "stdout",
          "text": [
            "El error (mse) de test es: 5560621568.0\n",
            "El error (rmse) de test es: 74569.578125\n"
          ]
        }
      ],
      "source": [
        "m = tf.keras.metrics.MeanSquaredError()\n",
        "m.update_state(y_test, y_pred)\n",
        "\n",
        "print(f\"El error (mse) de test es: {m.result().numpy()}\")\n",
        "print(f\"El error (rmse) de test es: {np.sqrt(m.result().numpy())}\")"
      ]
    },
    {
      "cell_type": "code",
      "execution_count": 294,
      "metadata": {
        "id": "LTaFsCE9liPs"
      },
      "outputs": [],
      "source": [
        "results_reg['normal'] = m.result().numpy()"
      ]
    },
    {
      "cell_type": "markdown",
      "metadata": {
        "id": "KvgF3tpc7TsP"
      },
      "source": [
        "Además veo el MAPE:"
      ]
    },
    {
      "cell_type": "code",
      "execution_count": 295,
      "metadata": {
        "id": "aQS6O_pp6jCP",
        "colab": {
          "base_uri": "https://localhost:8080/"
        },
        "outputId": "042757d1-4053-49b1-b027-0ace5ec2981e"
      },
      "outputs": [
        {
          "output_type": "execute_result",
          "data": {
            "text/plain": [
              "21.357111"
            ]
          },
          "metadata": {},
          "execution_count": 295
        }
      ],
      "source": [
        "m = tf.keras.metrics.MeanAbsolutePercentageError()\n",
        "m.update_state(y_test, y_pred)\n",
        "m.result().numpy()"
      ]
    },
    {
      "cell_type": "markdown",
      "source": [
        "### Se guarda el modelo de redes neuronales para regresión entrenado con el dataset obtenido en el TP1"
      ],
      "metadata": {
        "id": "t9oMm2xZHxWr"
      }
    },
    {
      "cell_type": "code",
      "source": [
        "import joblib  \n",
        "\n",
        "try:\n",
        "  joblib.dump(best_model, 'drive/My Drive/tp1 datos grupal/ModelosTP2/RedNeuronalRegresion.pkl')\n",
        "except:\n",
        "  joblib.dump(best_model, 'RedNeuronalRegresion.pkl')"
      ],
      "metadata": {
        "id": "OKorpO1aH0CW"
      },
      "execution_count": 296,
      "outputs": []
    },
    {
      "cell_type": "markdown",
      "metadata": {
        "id": "2_DscI3a9Anq"
      },
      "source": [
        "### Dataset PCA"
      ]
    },
    {
      "cell_type": "markdown",
      "metadata": {
        "id": "LM_MCidrlMzr"
      },
      "source": [
        "#### Crear modelo"
      ]
    },
    {
      "cell_type": "code",
      "execution_count": 297,
      "metadata": {
        "id": "wUEzrKfB9CQc"
      },
      "outputs": [],
      "source": [
        "x_train = df_PCA_ENCODED_train.drop(['tipo_precio','property_price','pxm2'], axis=1).values\n",
        "y_train = df_PCA_ENCODED_train['property_price'].values\n",
        "\n",
        "x_test = df_PCA_ENCODED_test.drop(['tipo_precio','property_price','pxm2'], axis=1).values\n",
        "y_test = df_PCA_ENCODED_test['property_price'].values"
      ]
    },
    {
      "cell_type": "code",
      "execution_count": 298,
      "metadata": {
        "id": "qor-Qjx99JFJ"
      },
      "outputs": [],
      "source": [
        "scaler = MinMaxScaler()\n",
        "scaler.fit(x_train)\n",
        "x_train = scaler.transform(x_train)\n",
        "x_test = scaler.transform(x_test)"
      ]
    },
    {
      "cell_type": "markdown",
      "metadata": {
        "id": "NeizTgpjH4g6"
      },
      "source": [
        "Creamos el tuner e imprimimos el espacio de búsqueda creado"
      ]
    },
    {
      "cell_type": "code",
      "execution_count": 299,
      "metadata": {
        "id": "RG5zd3uRH4g7",
        "colab": {
          "base_uri": "https://localhost:8080/"
        },
        "outputId": "d37f3193-285b-4e9c-8351-d43522f7e8b7"
      },
      "outputs": [
        {
          "output_type": "stream",
          "name": "stdout",
          "text": [
            "Search space summary\n",
            "Default search space size: 4\n",
            "units (Int)\n",
            "{'default': None, 'conditions': [], 'min_value': 4, 'max_value': 16, 'step': 8, 'sampling': None}\n",
            "activation (Choice)\n",
            "{'default': 'relu', 'conditions': [], 'values': ['relu', 'tanh', 'linear'], 'ordered': False}\n",
            "dropout (Boolean)\n",
            "{'default': False, 'conditions': []}\n",
            "lr (Float)\n",
            "{'default': 0.0001, 'conditions': [], 'min_value': 0.0001, 'max_value': 0.01, 'step': None, 'sampling': 'log'}\n"
          ]
        }
      ],
      "source": [
        "tuner = keras_tuner.RandomSearch(\n",
        "    seed = 0,\n",
        "    hypermodel=build_model,\n",
        "    objective='mse',\n",
        "    max_trials=max_trials,\n",
        "    executions_per_trial=executions_per_trial,\n",
        "    overwrite=True,\n",
        "    directory=\".\",\n",
        "    project_name=\"helloworld\",\n",
        ")\n",
        "tuner.search_space_summary()"
      ]
    },
    {
      "cell_type": "markdown",
      "metadata": {
        "id": "qdomMIS9H4g8"
      },
      "source": [
        "Seleccionamos un subconjunto del conjunto train, para hacer tuning de hiperparámetros. Este se divide en una parte train y una parte de validación"
      ]
    },
    {
      "cell_type": "code",
      "execution_count": 300,
      "metadata": {
        "id": "xk6kqprVH4g9"
      },
      "outputs": [],
      "source": [
        "from sklearn.model_selection import train_test_split\n",
        "train_size = TUNER_PROPORTION*(1-TUNER_TEST_PROPORTION)\n",
        "test_size = TUNER_PROPORTION*TUNER_TEST_PROPORTION\n",
        "X_train_, X_eval = train_test_split(x_train, train_size = train_size, test_size=test_size, random_state=0)\n",
        "y_train_, y_eval = train_test_split(y_train, train_size = train_size, test_size=test_size, random_state=0)"
      ]
    },
    {
      "cell_type": "code",
      "execution_count": 301,
      "metadata": {
        "id": "sYDBOqazH4g-",
        "colab": {
          "base_uri": "https://localhost:8080/"
        },
        "outputId": "f512a1ea-950f-4c25-e8b2-741760925b08"
      },
      "outputs": [
        {
          "output_type": "stream",
          "name": "stdout",
          "text": [
            "Trial 10 Complete [00h 00m 03s]\n",
            "mse: 67455553536.0\n",
            "\n",
            "Best mse So Far: 62581620736.0\n",
            "Total elapsed time: 00h 00m 34s\n"
          ]
        }
      ],
      "source": [
        "tuner.search(X_train_, y_train_, epochs=2, validation_data=(X_eval, y_eval))"
      ]
    },
    {
      "cell_type": "markdown",
      "metadata": {
        "id": "ZjJwG-wVH4hA"
      },
      "source": [
        "Armamos el mejor modelo e imprimimos un resumen de sus capas"
      ]
    },
    {
      "cell_type": "code",
      "execution_count": 302,
      "metadata": {
        "id": "KZfykt-DH4hB",
        "colab": {
          "base_uri": "https://localhost:8080/"
        },
        "outputId": "6615331c-6f3c-41a5-c7c3-c0c0868a51bc"
      },
      "outputs": [
        {
          "output_type": "stream",
          "name": "stdout",
          "text": [
            "Model: \"sequential\"\n",
            "_________________________________________________________________\n",
            " Layer (type)                Output Shape              Param #   \n",
            "=================================================================\n",
            " dense (Dense)               (None, 12)                240       \n",
            "                                                                 \n",
            " dense_1 (Dense)             (None, 12)                156       \n",
            "                                                                 \n",
            " dense_2 (Dense)             (None, 12)                156       \n",
            "                                                                 \n",
            " dense_3 (Dense)             (None, 12)                156       \n",
            "                                                                 \n",
            " dense_4 (Dense)             (None, 12)                156       \n",
            "                                                                 \n",
            " dense_5 (Dense)             (None, 12)                156       \n",
            "                                                                 \n",
            " dense_6 (Dense)             (None, 12)                156       \n",
            "                                                                 \n",
            " dense_7 (Dense)             (None, 12)                156       \n",
            "                                                                 \n",
            " dense_8 (Dense)             (None, 12)                156       \n",
            "                                                                 \n",
            " dense_9 (Dense)             (None, 12)                156       \n",
            "                                                                 \n",
            " dense_10 (Dense)            (None, 12)                156       \n",
            "                                                                 \n",
            " dense_11 (Dense)            (None, 12)                156       \n",
            "                                                                 \n",
            " dropout (Dropout)           (None, 12)                0         \n",
            "                                                                 \n",
            " dense_12 (Dense)            (None, 1)                 13        \n",
            "                                                                 \n",
            "=================================================================\n",
            "Total params: 1,969\n",
            "Trainable params: 1,969\n",
            "Non-trainable params: 0\n",
            "_________________________________________________________________\n"
          ]
        }
      ],
      "source": [
        "# Get the top model.\n",
        "models = tuner.get_best_models(num_models=1)\n",
        "best_model = models[0]\n",
        "# Build the model.\n",
        "best_model.build((None, x_train.shape[1]))\n",
        "best_model.summary()\n"
      ]
    },
    {
      "cell_type": "code",
      "execution_count": 303,
      "metadata": {
        "id": "CwIJ2ofWH4hD",
        "colab": {
          "base_uri": "https://localhost:8080/"
        },
        "outputId": "d5a1430f-26c8-4e79-f6e1-481ab53a446a"
      },
      "outputs": [
        {
          "output_type": "stream",
          "name": "stdout",
          "text": [
            "Results summary\n",
            "Results in ./helloworld\n",
            "Showing 10 best trials\n",
            "<keras_tuner.engine.objective.Objective object at 0x7f5d555e6c70>\n",
            "Trial summary\n",
            "Hyperparameters:\n",
            "units: 12\n",
            "activation: linear\n",
            "dropout: True\n",
            "lr: 0.00514372526116168\n",
            "Score: 62581620736.0\n",
            "Trial summary\n",
            "Hyperparameters:\n",
            "units: 12\n",
            "activation: linear\n",
            "dropout: True\n",
            "lr: 0.0031469711550408935\n",
            "Score: 67338381312.0\n",
            "Trial summary\n",
            "Hyperparameters:\n",
            "units: 12\n",
            "activation: linear\n",
            "dropout: True\n",
            "lr: 0.0026187837487828816\n",
            "Score: 67343169536.0\n",
            "Trial summary\n",
            "Hyperparameters:\n",
            "units: 12\n",
            "activation: tanh\n",
            "dropout: True\n",
            "lr: 0.001937538890824708\n",
            "Score: 67455512576.0\n",
            "Trial summary\n",
            "Hyperparameters:\n",
            "units: 4\n",
            "activation: relu\n",
            "dropout: True\n",
            "lr: 0.006461395303882178\n",
            "Score: 67455553536.0\n",
            "Trial summary\n",
            "Hyperparameters:\n",
            "units: 12\n",
            "activation: tanh\n",
            "dropout: False\n",
            "lr: 0.001020044518434461\n",
            "Score: 67455754240.0\n",
            "Trial summary\n",
            "Hyperparameters:\n",
            "units: 4\n",
            "activation: relu\n",
            "dropout: False\n",
            "lr: 0.00828879749889784\n",
            "Score: 67455959040.0\n",
            "Trial summary\n",
            "Hyperparameters:\n",
            "units: 12\n",
            "activation: linear\n",
            "dropout: False\n",
            "lr: 0.00011119654026749021\n",
            "Score: 67456272384.0\n",
            "Trial summary\n",
            "Hyperparameters:\n",
            "units: 4\n",
            "activation: tanh\n",
            "dropout: True\n",
            "lr: 0.0006982658253988871\n",
            "Score: 67456350208.0\n",
            "Trial summary\n",
            "Hyperparameters:\n",
            "units: 12\n",
            "activation: relu\n",
            "dropout: False\n",
            "lr: 0.00010622813894476952\n",
            "Score: 67456425984.0\n"
          ]
        }
      ],
      "source": [
        "tuner.results_summary()"
      ]
    },
    {
      "cell_type": "code",
      "execution_count": 304,
      "metadata": {
        "id": "nbvVBWy5H4hD",
        "colab": {
          "base_uri": "https://localhost:8080/"
        },
        "outputId": "0b489c0c-35ab-428e-c128-1041a00c1aa5"
      },
      "outputs": [
        {
          "output_type": "execute_result",
          "data": {
            "text/plain": [
              "array([245000.,  90000., 450000., ...,  82000., 140000., 119000.])"
            ]
          },
          "metadata": {},
          "execution_count": 304
        }
      ],
      "source": [
        "y_train"
      ]
    },
    {
      "cell_type": "code",
      "execution_count": 305,
      "metadata": {
        "id": "wIo1o-a5H4hE",
        "colab": {
          "base_uri": "https://localhost:8080/"
        },
        "outputId": "151168da-a205-4d81-857c-51986ac7811d"
      },
      "outputs": [
        {
          "output_type": "stream",
          "name": "stdout",
          "text": [
            "Model: \"sequential\"\n",
            "_________________________________________________________________\n",
            " Layer (type)                Output Shape              Param #   \n",
            "=================================================================\n",
            " dense (Dense)               (None, 12)                240       \n",
            "                                                                 \n",
            " dense_1 (Dense)             (None, 12)                156       \n",
            "                                                                 \n",
            " dense_2 (Dense)             (None, 12)                156       \n",
            "                                                                 \n",
            " dense_3 (Dense)             (None, 12)                156       \n",
            "                                                                 \n",
            " dense_4 (Dense)             (None, 12)                156       \n",
            "                                                                 \n",
            " dense_5 (Dense)             (None, 12)                156       \n",
            "                                                                 \n",
            " dense_6 (Dense)             (None, 12)                156       \n",
            "                                                                 \n",
            " dense_7 (Dense)             (None, 12)                156       \n",
            "                                                                 \n",
            " dense_8 (Dense)             (None, 12)                156       \n",
            "                                                                 \n",
            " dense_9 (Dense)             (None, 12)                156       \n",
            "                                                                 \n",
            " dense_10 (Dense)            (None, 12)                156       \n",
            "                                                                 \n",
            " dense_11 (Dense)            (None, 12)                156       \n",
            "                                                                 \n",
            " dropout (Dropout)           (None, 12)                0         \n",
            "                                                                 \n",
            " dense_12 (Dense)            (None, 1)                 13        \n",
            "                                                                 \n",
            "=================================================================\n",
            "Total params: 1,969\n",
            "Trainable params: 1,969\n",
            "Non-trainable params: 0\n",
            "_________________________________________________________________\n"
          ]
        }
      ],
      "source": [
        "best_model.summary()"
      ]
    },
    {
      "cell_type": "markdown",
      "metadata": {
        "id": "oxYYVeWGCMbg"
      },
      "source": [
        "#### Entrenar"
      ]
    },
    {
      "cell_type": "code",
      "execution_count": 306,
      "metadata": {
        "id": "gwbyWM55H4hF",
        "colab": {
          "base_uri": "https://localhost:8080/"
        },
        "outputId": "55103b0f-457c-45f0-ed17-ee4a76a7a269"
      },
      "outputs": [
        {
          "output_type": "stream",
          "name": "stdout",
          "text": [
            "Epoch 1/24\n",
            "1651/1651 [==============================] - 6s 3ms/step - loss: 57413.9414 - mse: 9681047552.0000 - val_loss: 48340.2500 - val_mse: 7938155008.0000\n",
            "Epoch 2/24\n",
            "1651/1651 [==============================] - 5s 3ms/step - loss: 55523.1289 - mse: 9114240000.0000 - val_loss: 48778.2461 - val_mse: 8250462720.0000\n",
            "Epoch 3/24\n",
            "1651/1651 [==============================] - 5s 3ms/step - loss: 55220.3398 - mse: 8964935680.0000 - val_loss: 54885.1523 - val_mse: 7169493504.0000\n",
            "Epoch 4/24\n",
            "1651/1651 [==============================] - 4s 3ms/step - loss: 55339.1992 - mse: 9049595904.0000 - val_loss: 50414.5898 - val_mse: 9010089984.0000\n",
            "Epoch 5/24\n",
            "1651/1651 [==============================] - 5s 3ms/step - loss: 55309.7227 - mse: 9010768896.0000 - val_loss: 52268.3438 - val_mse: 9293489152.0000\n",
            "Epoch 6/24\n",
            "1651/1651 [==============================] - 5s 3ms/step - loss: 55081.4219 - mse: 9009351680.0000 - val_loss: 47842.6758 - val_mse: 7721458688.0000\n",
            "Epoch 7/24\n",
            "1651/1651 [==============================] - 5s 3ms/step - loss: 55043.4844 - mse: 8880382976.0000 - val_loss: 48367.8438 - val_mse: 7094528512.0000\n",
            "Epoch 8/24\n",
            "1651/1651 [==============================] - 4s 3ms/step - loss: 54970.7461 - mse: 8948094976.0000 - val_loss: 50560.6602 - val_mse: 9304539136.0000\n",
            "Epoch 9/24\n",
            "1651/1651 [==============================] - 4s 3ms/step - loss: 54863.2617 - mse: 8910698496.0000 - val_loss: 50794.2070 - val_mse: 9093564416.0000\n",
            "Epoch 10/24\n",
            "1651/1651 [==============================] - 5s 3ms/step - loss: 54933.0312 - mse: 8907492352.0000 - val_loss: 47813.1094 - val_mse: 7055728128.0000\n",
            "Epoch 11/24\n",
            "1651/1651 [==============================] - 7s 4ms/step - loss: 54686.2773 - mse: 8857240576.0000 - val_loss: 47637.3633 - val_mse: 8017560576.0000\n",
            "Epoch 12/24\n",
            "1651/1651 [==============================] - 5s 3ms/step - loss: 54867.2070 - mse: 8923918336.0000 - val_loss: 48400.3672 - val_mse: 7135628800.0000\n",
            "Epoch 13/24\n",
            "1651/1651 [==============================] - 5s 3ms/step - loss: 54617.1719 - mse: 8908400640.0000 - val_loss: 47809.1758 - val_mse: 7796051968.0000\n",
            "Epoch 14/24\n",
            "1651/1651 [==============================] - 5s 3ms/step - loss: 54582.2891 - mse: 8825334784.0000 - val_loss: 51289.0977 - val_mse: 6915016704.0000\n",
            "Epoch 15/24\n",
            "1651/1651 [==============================] - 5s 3ms/step - loss: 55239.6992 - mse: 9088251904.0000 - val_loss: 47875.4961 - val_mse: 7998222336.0000\n",
            "Epoch 16/24\n",
            "1651/1651 [==============================] - 5s 3ms/step - loss: 54534.4258 - mse: 8921462784.0000 - val_loss: 50415.8516 - val_mse: 9414304768.0000\n",
            "Epoch 17/24\n",
            "1651/1651 [==============================] - 4s 3ms/step - loss: 54592.6445 - mse: 8935836672.0000 - val_loss: 48236.7461 - val_mse: 7826505728.0000\n",
            "Epoch 18/24\n",
            "1651/1651 [==============================] - 5s 3ms/step - loss: 54450.4570 - mse: 8789088256.0000 - val_loss: 47691.0664 - val_mse: 7178915328.0000\n",
            "Epoch 19/24\n",
            "1651/1651 [==============================] - 5s 3ms/step - loss: 54753.3945 - mse: 8923479040.0000 - val_loss: 47702.9727 - val_mse: 6913858048.0000\n",
            "Epoch 20/24\n",
            "1651/1651 [==============================] - 5s 3ms/step - loss: 54504.6797 - mse: 8959818752.0000 - val_loss: 48517.0820 - val_mse: 8732563456.0000\n",
            "Epoch 21/24\n",
            "1651/1651 [==============================] - 5s 3ms/step - loss: 54488.3086 - mse: 8873491456.0000 - val_loss: 49346.1172 - val_mse: 8611401728.0000\n",
            "Epoch 22/24\n",
            "1651/1651 [==============================] - 4s 3ms/step - loss: 54615.5664 - mse: 8845274112.0000 - val_loss: 49875.8633 - val_mse: 8715225088.0000\n",
            "Epoch 23/24\n",
            "1651/1651 [==============================] - 4s 3ms/step - loss: 54391.8750 - mse: 8821805056.0000 - val_loss: 47633.6914 - val_mse: 7828245504.0000\n",
            "Epoch 24/24\n",
            "1651/1651 [==============================] - 4s 3ms/step - loss: 54431.8594 - mse: 8910904320.0000 - val_loss: 47495.5117 - val_mse: 7247078400.0000\n"
          ]
        }
      ],
      "source": [
        "his = best_model.fit(\n",
        " x_train, y_train,\n",
        " batch_size = 32,\n",
        " epochs = epochs,\n",
        " verbose = 1,\n",
        " validation_split = 0.1)"
      ]
    },
    {
      "cell_type": "markdown",
      "metadata": {
        "id": "ycY1G27qlOtL"
      },
      "source": [
        "#### Evaluar"
      ]
    },
    {
      "cell_type": "code",
      "execution_count": 307,
      "metadata": {
        "id": "Ez4td614H4hF",
        "colab": {
          "base_uri": "https://localhost:8080/"
        },
        "outputId": "7fb08043-3e0d-4f67-f2fe-c75d5272b104"
      },
      "outputs": [
        {
          "output_type": "stream",
          "name": "stdout",
          "text": [
            "454/454 [==============================] - 1s 2ms/step\n"
          ]
        }
      ],
      "source": [
        "y_pred = best_model.predict(\n",
        " x_test)"
      ]
    },
    {
      "cell_type": "code",
      "execution_count": 308,
      "metadata": {
        "id": "b4IsXN0cH4hG",
        "colab": {
          "base_uri": "https://localhost:8080/"
        },
        "outputId": "1ee7c767-1041-4e8b-9656-026680fa4511"
      },
      "outputs": [
        {
          "output_type": "stream",
          "name": "stdout",
          "text": [
            "El error (mse) de test es: 18127949824.0\n",
            "El error (rmse) de test es: 134640.078125\n"
          ]
        }
      ],
      "source": [
        "m = tf.keras.metrics.MeanSquaredError()\n",
        "m.update_state(y_test, y_pred)\n",
        "\n",
        "print(f\"El error (mse) de test es: {m.result().numpy()}\")\n",
        "print(f\"El error (rmse) de test es: {np.sqrt(m.result().numpy())}\")"
      ]
    },
    {
      "cell_type": "code",
      "execution_count": 309,
      "metadata": {
        "id": "VJNJI4DKlqUQ"
      },
      "outputs": [],
      "source": [
        "results_reg['pca'] = m.result().numpy()"
      ]
    },
    {
      "cell_type": "markdown",
      "metadata": {
        "id": "n_gX7PFDH4hH"
      },
      "source": [
        "Además veo el MAPE:"
      ]
    },
    {
      "cell_type": "code",
      "execution_count": 310,
      "metadata": {
        "id": "4UM1hEMzH4hH",
        "colab": {
          "base_uri": "https://localhost:8080/"
        },
        "outputId": "b73240e6-86f6-4e56-d41c-0f73dd45de26"
      },
      "outputs": [
        {
          "output_type": "execute_result",
          "data": {
            "text/plain": [
              "55.757732"
            ]
          },
          "metadata": {},
          "execution_count": 310
        }
      ],
      "source": [
        "m = tf.keras.metrics.MeanAbsolutePercentageError()\n",
        "m.update_state(y_test, y_pred)\n",
        "m.result().numpy()"
      ]
    },
    {
      "cell_type": "markdown",
      "source": [
        "### Se guarda el modelo de redes neuronales para regresión entrenado con el dataset del TP1 con la reducción de dimensionalidad aplicada"
      ],
      "metadata": {
        "id": "pl_lTjg4Eefy"
      }
    },
    {
      "cell_type": "code",
      "source": [
        "import joblib  \n",
        "\n",
        "try:\n",
        "  joblib.dump(best_model, 'drive/My Drive/tp1 datos grupal/ModelosTP2/RedNeuronalRegresion_PCA.pkl')\n",
        "except:\n",
        "  joblib.dump(best_model, 'RedNeuronalRegresion_PCA.pkl')"
      ],
      "metadata": {
        "id": "ERr-Y5HSEr5P"
      },
      "execution_count": 311,
      "outputs": []
    },
    {
      "cell_type": "markdown",
      "metadata": {
        "id": "IFEdnoDVhqJX"
      },
      "source": [
        "### Conclusiones"
      ]
    },
    {
      "cell_type": "code",
      "execution_count": 312,
      "metadata": {
        "id": "dTH_WSwJhuzi",
        "colab": {
          "base_uri": "https://localhost:8080/",
          "height": 296
        },
        "outputId": "67267212-df90-4632-8c95-bd203c1ef7ea"
      },
      "outputs": [
        {
          "output_type": "display_data",
          "data": {
            "text/plain": [
              "<Figure size 432x288 with 1 Axes>"
            ],
            "image/png": "[encoded data removed]"
          },
          "metadata": {
            "needs_background": "light"
          }
        }
      ],
      "source": [
        "pairs = results_reg.items()\n",
        "keys = list(map(lambda pair: pair[0], pairs))\n",
        "values = list(map(lambda pair: pair[1], pairs))\n",
        "bp = sns.barplot(x = keys, y=np.sqrt(values))\n",
        "plt.xlabel('Dataset utilizado para entrenar el modelo de red neuronal de regresión')\n",
        "plt.ylabel('RMSE')\n",
        "plt.title('Raíz del error cuadrático medio en función del Dataset utilizado')\n",
        "plt.show()"
      ]
    },
    {
      "cell_type": "markdown",
      "metadata": {
        "id": "isvdzbnmhyRo"
      },
      "source": [
        "La red entrenada utilizando el dataset con PCA dejó mucho mayor error cuadrático medio por lo que el modelo es inutil, predice con un error similar a lo que podría tranquilamente ser el precio de una propiedad, dejando ver claramente que el dataset sin aplicar PCA tuvo mucha mejor performance. Además, el dataset normal tuvo un error MAPE del 20% que es aceptable considerando el target de precios de propiedad.\n",
        "\n",
        "De todos modos si comparamos el RMSE con el modelo XGBRegressor del TP1 la performance en test no es del todo buena para la red ya que se obtuvo al rededor de 25k USD más de RMSE:\n",
        "\n",
        "    Modelo XGBRegressor del TP1:\n",
        "    El error (rmse) de test es: 46218.4882801093\n",
        "\n",
        "    Red Neuronal de Regresion:\n",
        "    El error (rmse) de test es: 70746.2421875\n",
        "\n",
        "A su vez si comparamos la performance de la red con el modelo XGBRegressor entrenado con el dataset ampliado analizado anteriormente se puede ver que con la diferencia de RMSE es en este caso cercana a los 40k USD:\n",
        "\n",
        "    Modelo XGBRegressor optimizado y entrenado con dataset ampliado:\n",
        "    El error (rmse) de test es: 31906.920429890633\n",
        "\n",
        "    Red Neuronal de Regresion:\n",
        "    El error (rmse) de test es: 70746.2421875\n"
      ]
    },
    {
      "cell_type": "markdown",
      "metadata": {
        "id": "vvUwxfVU0t6R"
      },
      "source": [
        "##● Clasificación:"
      ]
    },
    {
      "cell_type": "markdown",
      "metadata": {
        "id": "k8gaBDuKgtea"
      },
      "source": [
        "### Dataset normal"
      ]
    },
    {
      "cell_type": "markdown",
      "metadata": {
        "id": "r0-rgs1llsnC"
      },
      "source": [
        "#### Crear modelo"
      ]
    },
    {
      "cell_type": "markdown",
      "metadata": {
        "id": "-9GKng4fgteb"
      },
      "source": [
        "Predecir el precio de la propiedad y utilizar como métrica de\n",
        "evaluación el error cuadrático medio."
      ]
    },
    {
      "cell_type": "markdown",
      "metadata": {
        "id": "QTQX-eojgted"
      },
      "source": [
        "Defino conjuntos de train y test:"
      ]
    },
    {
      "cell_type": "code",
      "execution_count": 313,
      "metadata": {
        "id": "TFyY2x-tgtee"
      },
      "outputs": [],
      "source": [
        "x_train = df_ENCODED_train.drop(['tipo_precio','property_price','pxm2'], axis=1).values\n",
        "x_test = df_ENCODED_test.drop(['tipo_precio','property_price','pxm2'], axis=1).values\n",
        "\n",
        "num_classes = 3\n",
        "y_train = df_ENCODED_train['tipo_precio'].values\n",
        "y_train = keras.utils.to_categorical(y_train, num_classes)\n",
        "y_test = df_ENCODED_test['tipo_precio'].values\n",
        "y_test = keras.utils.to_categorical(y_test, num_classes)"
      ]
    },
    {
      "cell_type": "markdown",
      "metadata": {
        "id": "IRO_2EI1gtee"
      },
      "source": [
        "Escalo los datos de entrada usando MinMax:"
      ]
    },
    {
      "cell_type": "code",
      "execution_count": 314,
      "metadata": {
        "id": "lvWtEMm7gtef"
      },
      "outputs": [],
      "source": [
        "scaler = MinMaxScaler()\n",
        "scaler.fit(x_train)\n",
        "x_train = scaler.transform(x_train)\n",
        "x_test = scaler.transform(x_test)"
      ]
    },
    {
      "cell_type": "markdown",
      "metadata": {
        "id": "FTmtF_Fagteg"
      },
      "source": [
        "'build_model_from_parameters' crea y compila un modelo keras basado en los hiperparámetros:\n",
        "- units: neuronas en una capa\n",
        "- activation: función de activación\n",
        "- dropout: booleano para hacer o no dropout\n",
        "- lr: el learning rate del modelo.\n",
        "- num_layers: capas del modelo\n",
        "\n",
        "Luego build_model usa la utilidad HyperParameters() para crear un espacio de búsqueda de hiperparámetros"
      ]
    },
    {
      "cell_type": "code",
      "execution_count": 315,
      "metadata": {
        "id": "nLS4Ike8gteg"
      },
      "outputs": [],
      "source": [
        "# def hiperparams\n",
        "def build_model_from_parameters(units, activation, dropout, lr, num_layers):\n",
        "    model = keras.Sequential()\n",
        "    for i in range(0,num_layers):\n",
        "        model.add(layers.Dense(units=units, activation=activation))\n",
        "    if dropout:\n",
        "        model.add(layers.Dropout(rate=0.25))\n",
        "    model.add(layers.Dense(3, activation=\"softmax\"))\n",
        "    model.compile(loss=\"categorical_crossentropy\", optimizer=\"adam\", metrics=[tf.keras.metrics.Recall(), tf.keras.metrics.Precision()])\n",
        "    return model\n",
        "\n",
        "def build_model(hp):\n",
        "    units = hp.Int(\"units\", min_value=4, max_value=16, step=8)\n",
        "    activation = hp.Choice(\"activation\", [\"relu\", \"tanh\", \"linear\"])\n",
        "    dropout = hp.Boolean(\"dropout\")\n",
        "    learn_rate = hp.Float(\"lr\", min_value=1e-4, max_value=1e-2, sampling=\"log\")\n",
        "    layers = hp.Int(\"units\", min_value=4, max_value=5, step=1)\n",
        "    model = build_model_from_parameters(\n",
        "        units=units, \n",
        "        activation=activation, \n",
        "        dropout=dropout, \n",
        "        lr=learn_rate, \n",
        "        num_layers = layers\n",
        "    )\n",
        "    return model\n"
      ]
    },
    {
      "cell_type": "code",
      "execution_count": 316,
      "metadata": {
        "id": "kYpQF4jTgteh"
      },
      "outputs": [],
      "source": [
        "import keras_tuner"
      ]
    },
    {
      "cell_type": "markdown",
      "metadata": {
        "id": "KcRrLDrTgtej"
      },
      "source": [
        "Creamos el tuner e imprimimos el espacio de búsqueda creado"
      ]
    },
    {
      "cell_type": "code",
      "execution_count": 317,
      "metadata": {
        "id": "qTc0nzAugtej",
        "colab": {
          "base_uri": "https://localhost:8080/"
        },
        "outputId": "280b8fac-39cd-4a87-9d02-6838078a3aba"
      },
      "outputs": [
        {
          "output_type": "stream",
          "name": "stdout",
          "text": [
            "Search space summary\n",
            "Default search space size: 4\n",
            "units (Int)\n",
            "{'default': None, 'conditions': [], 'min_value': 4, 'max_value': 16, 'step': 8, 'sampling': None}\n",
            "activation (Choice)\n",
            "{'default': 'relu', 'conditions': [], 'values': ['relu', 'tanh', 'linear'], 'ordered': False}\n",
            "dropout (Boolean)\n",
            "{'default': False, 'conditions': []}\n",
            "lr (Float)\n",
            "{'default': 0.0001, 'conditions': [], 'min_value': 0.0001, 'max_value': 0.01, 'step': None, 'sampling': 'log'}\n"
          ]
        }
      ],
      "source": [
        "tuner = keras_tuner.RandomSearch(\n",
        "    seed = 0,\n",
        "    hypermodel=build_model,\n",
        "    objective=keras_tuner.Objective(\"recall\", direction=\"min\"),\n",
        "    max_trials=max_trials,\n",
        "    executions_per_trial=executions_per_trial,\n",
        "    overwrite=True,\n",
        "    directory=\".\",\n",
        "    project_name=\"helloworld\",\n",
        ")\n",
        "tuner.search_space_summary()"
      ]
    },
    {
      "cell_type": "markdown",
      "metadata": {
        "id": "ToThX4IMgtek"
      },
      "source": [
        "Seleccionamos un subconjunto del conjunto train, para hacer tuning de hiperparámetros. Este se divide en una parte train y una parte de validación"
      ]
    },
    {
      "cell_type": "code",
      "execution_count": 318,
      "metadata": {
        "id": "yt8chR6qgtel"
      },
      "outputs": [],
      "source": [
        "from sklearn.model_selection import train_test_split\n",
        "train_size = TUNER_PROPORTION*(1-TUNER_TEST_PROPORTION)\n",
        "test_size = TUNER_PROPORTION*TUNER_TEST_PROPORTION\n",
        "X_train_, X_eval = train_test_split(x_train, train_size = train_size, test_size=test_size, random_state=0)\n",
        "y_train_, y_eval = train_test_split(y_train, train_size = train_size, test_size=test_size, random_state=0)"
      ]
    },
    {
      "cell_type": "code",
      "execution_count": 319,
      "metadata": {
        "id": "y2jJR3nHgtel",
        "colab": {
          "base_uri": "https://localhost:8080/"
        },
        "outputId": "f15f4838-9596-4da0-8655-358bd503f562"
      },
      "outputs": [
        {
          "output_type": "stream",
          "name": "stdout",
          "text": [
            "Trial 10 Complete [00h 00m 03s]\n",
            "recall: 0.0\n",
            "\n",
            "Best recall So Far: 0.0\n",
            "Total elapsed time: 00h 00m 44s\n"
          ]
        }
      ],
      "source": [
        "tuner.search(X_train_, y_train_, epochs=2, validation_data=(X_eval, y_eval))"
      ]
    },
    {
      "cell_type": "markdown",
      "metadata": {
        "id": "WgQucASJgtem"
      },
      "source": [
        "Armamos el mejor modelo e imprimimos un resumen de sus capas"
      ]
    },
    {
      "cell_type": "code",
      "execution_count": 320,
      "metadata": {
        "id": "XTGeha6ygtem",
        "colab": {
          "base_uri": "https://localhost:8080/"
        },
        "outputId": "ddfc89f9-c2a9-4f27-d636-a3d76007223b"
      },
      "outputs": [
        {
          "output_type": "stream",
          "name": "stdout",
          "text": [
            "Model: \"sequential\"\n",
            "_________________________________________________________________\n",
            " Layer (type)                Output Shape              Param #   \n",
            "=================================================================\n",
            " dense (Dense)               (None, 4)                 92        \n",
            "                                                                 \n",
            " dense_1 (Dense)             (None, 4)                 20        \n",
            "                                                                 \n",
            " dense_2 (Dense)             (None, 4)                 20        \n",
            "                                                                 \n",
            " dense_3 (Dense)             (None, 4)                 20        \n",
            "                                                                 \n",
            " dense_4 (Dense)             (None, 3)                 15        \n",
            "                                                                 \n",
            "=================================================================\n",
            "Total params: 167\n",
            "Trainable params: 167\n",
            "Non-trainable params: 0\n",
            "_________________________________________________________________\n"
          ]
        }
      ],
      "source": [
        "# Get the top model.\n",
        "models = tuner.get_best_models(num_models=1)\n",
        "best_model = models[0]\n",
        "# Build the model.\n",
        "best_model.build((None, x_train.shape[1]))\n",
        "best_model.summary()\n"
      ]
    },
    {
      "cell_type": "code",
      "execution_count": 321,
      "metadata": {
        "id": "APWo3aVSgten",
        "colab": {
          "base_uri": "https://localhost:8080/"
        },
        "outputId": "cfe879d3-4a96-461e-96b5-f02c96f29a3d"
      },
      "outputs": [
        {
          "output_type": "stream",
          "name": "stdout",
          "text": [
            "Results summary\n",
            "Results in ./helloworld\n",
            "Showing 10 best trials\n",
            "<keras_tuner.engine.objective.Objective object at 0x7f5d58175790>\n",
            "Trial summary\n",
            "Hyperparameters:\n",
            "units: 4\n",
            "activation: relu\n",
            "dropout: False\n",
            "lr: 0.0019779296003476373\n",
            "Score: 0.0\n",
            "Trial summary\n",
            "Hyperparameters:\n",
            "units: 12\n",
            "activation: relu\n",
            "dropout: False\n",
            "lr: 0.0013649679576430186\n",
            "Score: 0.0\n",
            "Trial summary\n",
            "Hyperparameters:\n",
            "units: 12\n",
            "activation: relu\n",
            "dropout: False\n",
            "lr: 0.007368471951434973\n",
            "Score: 0.0\n",
            "Trial summary\n",
            "Hyperparameters:\n",
            "units: 12\n",
            "activation: relu\n",
            "dropout: False\n",
            "lr: 0.0002329641541284472\n",
            "Score: 0.0\n",
            "Trial summary\n",
            "Hyperparameters:\n",
            "units: 12\n",
            "activation: tanh\n",
            "dropout: False\n",
            "lr: 0.0023648890851369585\n",
            "Score: 0.0\n",
            "Trial summary\n",
            "Hyperparameters:\n",
            "units: 4\n",
            "activation: relu\n",
            "dropout: False\n",
            "lr: 0.0054020687227606555\n",
            "Score: 0.0\n",
            "Trial summary\n",
            "Hyperparameters:\n",
            "units: 4\n",
            "activation: relu\n",
            "dropout: False\n",
            "lr: 0.0004950730368708272\n",
            "Score: 0.0\n",
            "Trial summary\n",
            "Hyperparameters:\n",
            "units: 4\n",
            "activation: linear\n",
            "dropout: False\n",
            "lr: 0.000582968539368285\n",
            "Score: 0.03198294201865792\n",
            "Trial summary\n",
            "Hyperparameters:\n",
            "units: 12\n",
            "activation: tanh\n",
            "dropout: False\n",
            "lr: 0.0008414829567986681\n",
            "Score: 0.07249467121437192\n",
            "Trial summary\n",
            "Hyperparameters:\n",
            "units: 12\n",
            "activation: linear\n",
            "dropout: False\n",
            "lr: 0.0025068885098483685\n",
            "Score: 0.13113006064668298\n"
          ]
        }
      ],
      "source": [
        "tuner.results_summary()"
      ]
    },
    {
      "cell_type": "code",
      "execution_count": 322,
      "metadata": {
        "id": "GoRNzrFQgteo",
        "colab": {
          "base_uri": "https://localhost:8080/"
        },
        "outputId": "fedec1e0-7a6a-4b9a-969f-698a22b23f4a"
      },
      "outputs": [
        {
          "output_type": "stream",
          "name": "stdout",
          "text": [
            "Model: \"sequential\"\n",
            "_________________________________________________________________\n",
            " Layer (type)                Output Shape              Param #   \n",
            "=================================================================\n",
            " dense (Dense)               (None, 4)                 92        \n",
            "                                                                 \n",
            " dense_1 (Dense)             (None, 4)                 20        \n",
            "                                                                 \n",
            " dense_2 (Dense)             (None, 4)                 20        \n",
            "                                                                 \n",
            " dense_3 (Dense)             (None, 4)                 20        \n",
            "                                                                 \n",
            " dense_4 (Dense)             (None, 3)                 15        \n",
            "                                                                 \n",
            "=================================================================\n",
            "Total params: 167\n",
            "Trainable params: 167\n",
            "Non-trainable params: 0\n",
            "_________________________________________________________________\n"
          ]
        }
      ],
      "source": [
        "best_model.summary()"
      ]
    },
    {
      "cell_type": "markdown",
      "metadata": {
        "id": "ZKnPiwDFCTDN"
      },
      "source": [
        "#### Entrenar"
      ]
    },
    {
      "cell_type": "code",
      "execution_count": 323,
      "metadata": {
        "id": "Qh3VirgIgtep"
      },
      "outputs": [],
      "source": [
        "his = best_model.fit(\n",
        " x_train, y_train,\n",
        " batch_size = 32,\n",
        " epochs = epochs,\n",
        " verbose = 0,\n",
        " validation_split = 0.1)"
      ]
    },
    {
      "cell_type": "markdown",
      "metadata": {
        "id": "n1KG8Q6LmUI9"
      },
      "source": [
        "#### Evaluar"
      ]
    },
    {
      "cell_type": "code",
      "execution_count": 324,
      "metadata": {
        "id": "ZTa08X4rgtep",
        "colab": {
          "base_uri": "https://localhost:8080/"
        },
        "outputId": "97c789d8-e7d4-4b02-be91-2d4d9bfac0fa"
      },
      "outputs": [
        {
          "output_type": "stream",
          "name": "stdout",
          "text": [
            "454/454 [==============================] - 1s 1ms/step\n"
          ]
        }
      ],
      "source": [
        "y_pred = best_model.predict(\n",
        " x_test)"
      ]
    },
    {
      "cell_type": "code",
      "execution_count": 325,
      "metadata": {
        "id": "uw6zZwSnmzyH"
      },
      "outputs": [],
      "source": [
        "y_test_list = list(map(lambda cats: np.argmax(cats), y_test))"
      ]
    },
    {
      "cell_type": "code",
      "execution_count": 326,
      "metadata": {
        "id": "GuH6nHMpmzyH"
      },
      "outputs": [],
      "source": [
        "y_guesses = list(map(lambda cats: np.argmax(cats), y_pred))"
      ]
    },
    {
      "cell_type": "code",
      "execution_count": 327,
      "metadata": {
        "id": "zSkQLApjC_Gt"
      },
      "outputs": [],
      "source": [
        "from sklearn.metrics import f1_score\n",
        "from sklearn.metrics import precision_score\n",
        "from sklearn.metrics import recall_score"
      ]
    },
    {
      "cell_type": "code",
      "execution_count": 328,
      "metadata": {
        "id": "fpy3G9DCmzyI",
        "colab": {
          "base_uri": "https://localhost:8080/"
        },
        "outputId": "921df3fc-3f19-482a-e3ac-7ede94376222"
      },
      "outputs": [
        {
          "output_type": "execute_result",
          "data": {
            "text/plain": [
              "0.5771668733636489"
            ]
          },
          "metadata": {},
          "execution_count": 328
        }
      ],
      "source": [
        "f1_score(y_guesses, y_test_list, average = 'micro')"
      ]
    },
    {
      "cell_type": "code",
      "execution_count": 329,
      "metadata": {
        "id": "RzpMCbK9LqSp",
        "colab": {
          "base_uri": "https://localhost:8080/"
        },
        "outputId": "fd70d5ea-608e-4693-f868-1113c1bca0dd"
      },
      "outputs": [
        {
          "output_type": "execute_result",
          "data": {
            "text/plain": [
              "array([0.60690943, 0.56537841, 0.60999457])"
            ]
          },
          "metadata": {},
          "execution_count": 329
        }
      ],
      "source": [
        "recall_score(y_guesses, y_test_list,  average = None)\n"
      ]
    },
    {
      "cell_type": "code",
      "execution_count": 330,
      "metadata": {
        "id": "qyFCYz3cLtvm",
        "colab": {
          "base_uri": "https://localhost:8080/"
        },
        "outputId": "ee0c6cbf-5c0a-462d-e881-97ae26a071ed"
      },
      "outputs": [
        {
          "output_type": "execute_result",
          "data": {
            "text/plain": [
              "array([0.36827195, 0.81305476, 0.30674679])"
            ]
          },
          "metadata": {},
          "execution_count": 330
        }
      ],
      "source": [
        "precision_score(y_guesses, y_test_list,  average = None)"
      ]
    },
    {
      "cell_type": "code",
      "execution_count": 331,
      "metadata": {
        "id": "1MwyArfzMOEr"
      },
      "outputs": [],
      "source": [
        "results_clas['normal'] = f1_score(y_guesses, y_test_list, average = 'micro')"
      ]
    },
    {
      "cell_type": "markdown",
      "metadata": {
        "id": "4MlRnnUk_cmB"
      },
      "source": [
        "Graficamos la matriz de confusión-"
      ]
    },
    {
      "cell_type": "code",
      "execution_count": 332,
      "metadata": {
        "id": "bFDCOt7K5ipa",
        "colab": {
          "base_uri": "https://localhost:8080/",
          "height": 513
        },
        "outputId": "2e3e58e2-5553-465b-da04-90186b83be7d"
      },
      "outputs": [
        {
          "output_type": "display_data",
          "data": {
            "text/plain": [
              "<Figure size 720x576 with 2 Axes>"
            ],
            "image/png": "[encoded data removed]"
          },
          "metadata": {
            "needs_background": "light"
          }
        }
      ],
      "source": [
        "from sklearn.metrics import confusion_matrix\n",
        "cm = confusion_matrix(y_guesses, y_test_list)\n",
        "cm_df = pd.DataFrame(cm,\n",
        "                     index = ['Alto','Medio','Bajo'], \n",
        "                     columns = ['Alto','Medio','Bajo'])\n",
        "\n",
        "plt.figure(figsize=(10,8))\n",
        "sns.heatmap(cm_df, cmap='Blues', annot=True, fmt='g')\n",
        "plt.title('Confusion Matrix')\n",
        "plt.ylabel('Actual Values')\n",
        "plt.xlabel('Predicted Values')\n",
        "plt.show()"
      ]
    },
    {
      "cell_type": "markdown",
      "source": [
        "### Se guarda el modelo de redes neuronales para clasificación entrenado con el dataset obtenido en el TP1"
      ],
      "metadata": {
        "id": "Eov9hrjsNsrl"
      }
    },
    {
      "cell_type": "code",
      "source": [
        "import joblib  \n",
        "\n",
        "try:\n",
        "  joblib.dump(best_model, 'drive/My Drive/tp1 datos grupal/ModelosTP2/RedNeuronalClasificacion.pkl')\n",
        "except:\n",
        "  joblib.dump(best_model, 'RedNeuronalClasificacion.pkl')"
      ],
      "metadata": {
        "id": "SjJdsVD4NuXX"
      },
      "execution_count": 333,
      "outputs": []
    },
    {
      "cell_type": "markdown",
      "metadata": {
        "id": "aNEz5U2wgtes"
      },
      "source": [
        "### Dataset PCA"
      ]
    },
    {
      "cell_type": "markdown",
      "metadata": {
        "id": "xGzZ3AAymaG6"
      },
      "source": [
        "#### Crear modelo"
      ]
    },
    {
      "cell_type": "code",
      "execution_count": 334,
      "metadata": {
        "id": "ON_MVKQZgtet"
      },
      "outputs": [],
      "source": [
        "x_train = df_PCA_ENCODED_train.drop(['tipo_precio','property_price','pxm2'], axis=1).values\n",
        "x_test = df_PCA_ENCODED_test.drop(['tipo_precio','property_price','pxm2'], axis=1).values\n",
        "\n",
        "num_classes = 3\n",
        "y_train = df_PCA_ENCODED_train['tipo_precio'].values\n",
        "y_train = keras.utils.to_categorical(y_train, num_classes)\n",
        "y_test = df_PCA_ENCODED_test['tipo_precio'].values\n",
        "y_test = keras.utils.to_categorical(y_test, num_classes)"
      ]
    },
    {
      "cell_type": "code",
      "execution_count": 335,
      "metadata": {
        "id": "ybZIu_sdgtet"
      },
      "outputs": [],
      "source": [
        "scaler = MinMaxScaler()\n",
        "scaler.fit(x_train)\n",
        "x_train = scaler.transform(x_train)\n",
        "x_test = scaler.transform(x_test)"
      ]
    },
    {
      "cell_type": "markdown",
      "metadata": {
        "id": "rLxzfyfCgtet"
      },
      "source": [
        "Creamos el tuner e imprimimos el espacio de búsqueda creado"
      ]
    },
    {
      "cell_type": "code",
      "execution_count": 336,
      "metadata": {
        "id": "qaw53PXLgteu",
        "colab": {
          "base_uri": "https://localhost:8080/"
        },
        "outputId": "76dcba8a-3eaf-421b-9c84-9f7f0c6b7741"
      },
      "outputs": [
        {
          "output_type": "stream",
          "name": "stdout",
          "text": [
            "Search space summary\n",
            "Default search space size: 4\n",
            "units (Int)\n",
            "{'default': None, 'conditions': [], 'min_value': 4, 'max_value': 16, 'step': 8, 'sampling': None}\n",
            "activation (Choice)\n",
            "{'default': 'relu', 'conditions': [], 'values': ['relu', 'tanh', 'linear'], 'ordered': False}\n",
            "dropout (Boolean)\n",
            "{'default': False, 'conditions': []}\n",
            "lr (Float)\n",
            "{'default': 0.0001, 'conditions': [], 'min_value': 0.0001, 'max_value': 0.01, 'step': None, 'sampling': 'log'}\n"
          ]
        }
      ],
      "source": [
        "tuner = keras_tuner.RandomSearch(\n",
        "    seed = 0,\n",
        "    hypermodel=build_model,\n",
        "    objective=keras_tuner.Objective(\"recall\", direction=\"max\"),\n",
        "    max_trials=max_trials,\n",
        "    executions_per_trial=executions_per_trial,\n",
        "    overwrite=True,\n",
        "    directory=\".\",\n",
        "    project_name=\"helloworld\",\n",
        ")\n",
        "tuner.search_space_summary()"
      ]
    },
    {
      "cell_type": "markdown",
      "metadata": {
        "id": "fqtcmo59gteu"
      },
      "source": [
        "Seleccionamos un subconjunto del conjunto train, para hacer tuning de hiperparámetros. Este se divide en una parte train y una parte de validación"
      ]
    },
    {
      "cell_type": "code",
      "execution_count": 337,
      "metadata": {
        "id": "Owmcn7Chgteu"
      },
      "outputs": [],
      "source": [
        "from sklearn.model_selection import train_test_split\n",
        "train_size = TUNER_PROPORTION*(1-TUNER_TEST_PROPORTION)\n",
        "test_size = TUNER_PROPORTION*TUNER_TEST_PROPORTION\n",
        "X_train_, X_eval = train_test_split(x_train, train_size = train_size, test_size=test_size, random_state=0)\n",
        "y_train_, y_eval = train_test_split(y_train, train_size = train_size, test_size=test_size, random_state=0)"
      ]
    },
    {
      "cell_type": "code",
      "execution_count": 338,
      "metadata": {
        "id": "6yFgs0uYgtev",
        "colab": {
          "base_uri": "https://localhost:8080/"
        },
        "outputId": "d732e4f2-418d-4b5c-9e0f-0129d31a8a97"
      },
      "outputs": [
        {
          "output_type": "stream",
          "name": "stdout",
          "text": [
            "Trial 10 Complete [00h 00m 06s]\n",
            "recall: 0.14498934149742126\n",
            "\n",
            "Best recall So Far: 0.25479744374752045\n",
            "Total elapsed time: 00h 00m 45s\n"
          ]
        }
      ],
      "source": [
        "tuner.search(X_train_, y_train_, epochs=2, validation_data=(X_eval, y_eval))"
      ]
    },
    {
      "cell_type": "markdown",
      "metadata": {
        "id": "lKdO-57bgtev"
      },
      "source": [
        "Armamos el mejor modelo e imprimimos un resumen de sus capas"
      ]
    },
    {
      "cell_type": "code",
      "execution_count": 339,
      "metadata": {
        "id": "1vIJ-9j0gtev",
        "colab": {
          "base_uri": "https://localhost:8080/"
        },
        "outputId": "eda4178b-1ba4-4c29-bb0a-7f68c789f6a3"
      },
      "outputs": [
        {
          "output_type": "stream",
          "name": "stdout",
          "text": [
            "Model: \"sequential\"\n",
            "_________________________________________________________________\n",
            " Layer (type)                Output Shape              Param #   \n",
            "=================================================================\n",
            " dense (Dense)               (None, 12)                240       \n",
            "                                                                 \n",
            " dense_1 (Dense)             (None, 12)                156       \n",
            "                                                                 \n",
            " dense_2 (Dense)             (None, 12)                156       \n",
            "                                                                 \n",
            " dense_3 (Dense)             (None, 12)                156       \n",
            "                                                                 \n",
            " dense_4 (Dense)             (None, 12)                156       \n",
            "                                                                 \n",
            " dense_5 (Dense)             (None, 12)                156       \n",
            "                                                                 \n",
            " dense_6 (Dense)             (None, 12)                156       \n",
            "                                                                 \n",
            " dense_7 (Dense)             (None, 12)                156       \n",
            "                                                                 \n",
            " dense_8 (Dense)             (None, 12)                156       \n",
            "                                                                 \n",
            " dense_9 (Dense)             (None, 12)                156       \n",
            "                                                                 \n",
            " dense_10 (Dense)            (None, 12)                156       \n",
            "                                                                 \n",
            " dense_11 (Dense)            (None, 12)                156       \n",
            "                                                                 \n",
            " dropout (Dropout)           (None, 12)                0         \n",
            "                                                                 \n",
            " dense_12 (Dense)            (None, 3)                 39        \n",
            "                                                                 \n",
            "=================================================================\n",
            "Total params: 1,995\n",
            "Trainable params: 1,995\n",
            "Non-trainable params: 0\n",
            "_________________________________________________________________\n"
          ]
        }
      ],
      "source": [
        "# Get the top model.\n",
        "models = tuner.get_best_models(num_models=1)\n",
        "best_model = models[0]\n",
        "# Build the model.\n",
        "best_model.build((None, x_train.shape[1]))\n",
        "best_model.summary()\n"
      ]
    },
    {
      "cell_type": "code",
      "execution_count": 340,
      "metadata": {
        "id": "Y5Ynbqhagtev",
        "colab": {
          "base_uri": "https://localhost:8080/"
        },
        "outputId": "14c50f73-4746-42e2-936c-854e62621d75"
      },
      "outputs": [
        {
          "output_type": "stream",
          "name": "stdout",
          "text": [
            "Results summary\n",
            "Results in ./helloworld\n",
            "Showing 10 best trials\n",
            "<keras_tuner.engine.objective.Objective object at 0x7f5d57fc47c0>\n",
            "Trial summary\n",
            "Hyperparameters:\n",
            "units: 12\n",
            "activation: linear\n",
            "dropout: True\n",
            "lr: 0.0028727886699530594\n",
            "Score: 0.25479744374752045\n",
            "Trial summary\n",
            "Hyperparameters:\n",
            "units: 12\n",
            "activation: linear\n",
            "dropout: True\n",
            "lr: 0.00030201655847076974\n",
            "Score: 0.2398720681667328\n",
            "Trial summary\n",
            "Hyperparameters:\n",
            "units: 4\n",
            "activation: linear\n",
            "dropout: False\n",
            "lr: 0.00369718480748867\n",
            "Score: 0.21321962028741837\n",
            "Trial summary\n",
            "Hyperparameters:\n",
            "units: 12\n",
            "activation: tanh\n",
            "dropout: True\n",
            "lr: 0.005229719005846043\n",
            "Score: 0.19616204127669334\n",
            "Trial summary\n",
            "Hyperparameters:\n",
            "units: 12\n",
            "activation: tanh\n",
            "dropout: False\n",
            "lr: 0.006038754607580714\n",
            "Score: 0.14498934149742126\n",
            "Trial summary\n",
            "Hyperparameters:\n",
            "units: 4\n",
            "activation: linear\n",
            "dropout: True\n",
            "lr: 0.0013842259699198398\n",
            "Score: 0.1268656700849533\n",
            "Trial summary\n",
            "Hyperparameters:\n",
            "units: 4\n",
            "activation: tanh\n",
            "dropout: False\n",
            "lr: 0.00013515514857868552\n",
            "Score: 0.02771855052560568\n",
            "Trial summary\n",
            "Hyperparameters:\n",
            "units: 4\n",
            "activation: relu\n",
            "dropout: True\n",
            "lr: 0.001143448498353399\n",
            "Score: 0.0\n",
            "Trial summary\n",
            "Hyperparameters:\n",
            "units: 4\n",
            "activation: relu\n",
            "dropout: False\n",
            "lr: 0.0022570414025931407\n",
            "Score: 0.0\n",
            "Trial summary\n",
            "Hyperparameters:\n",
            "units: 12\n",
            "activation: relu\n",
            "dropout: False\n",
            "lr: 0.009221840725015822\n",
            "Score: 0.0\n"
          ]
        }
      ],
      "source": [
        "tuner.results_summary()"
      ]
    },
    {
      "cell_type": "code",
      "execution_count": 341,
      "metadata": {
        "id": "Q0k-lhVXgtex",
        "colab": {
          "base_uri": "https://localhost:8080/"
        },
        "outputId": "0d9d01a8-a6a5-448b-f447-31d28f4aabeb"
      },
      "outputs": [
        {
          "output_type": "execute_result",
          "data": {
            "text/plain": [
              "array([[1., 0., 0.],\n",
              "       [0., 1., 0.],\n",
              "       [0., 1., 0.],\n",
              "       ...,\n",
              "       [0., 1., 0.],\n",
              "       [0., 1., 0.],\n",
              "       [0., 1., 0.]], dtype=float32)"
            ]
          },
          "metadata": {},
          "execution_count": 341
        }
      ],
      "source": [
        "y_train"
      ]
    },
    {
      "cell_type": "code",
      "execution_count": 342,
      "metadata": {
        "id": "uKyz3CAvgtey",
        "colab": {
          "base_uri": "https://localhost:8080/"
        },
        "outputId": "27b434a9-e597-47bc-f5f2-808361255e05"
      },
      "outputs": [
        {
          "output_type": "stream",
          "name": "stdout",
          "text": [
            "Model: \"sequential\"\n",
            "_________________________________________________________________\n",
            " Layer (type)                Output Shape              Param #   \n",
            "=================================================================\n",
            " dense (Dense)               (None, 12)                240       \n",
            "                                                                 \n",
            " dense_1 (Dense)             (None, 12)                156       \n",
            "                                                                 \n",
            " dense_2 (Dense)             (None, 12)                156       \n",
            "                                                                 \n",
            " dense_3 (Dense)             (None, 12)                156       \n",
            "                                                                 \n",
            " dense_4 (Dense)             (None, 12)                156       \n",
            "                                                                 \n",
            " dense_5 (Dense)             (None, 12)                156       \n",
            "                                                                 \n",
            " dense_6 (Dense)             (None, 12)                156       \n",
            "                                                                 \n",
            " dense_7 (Dense)             (None, 12)                156       \n",
            "                                                                 \n",
            " dense_8 (Dense)             (None, 12)                156       \n",
            "                                                                 \n",
            " dense_9 (Dense)             (None, 12)                156       \n",
            "                                                                 \n",
            " dense_10 (Dense)            (None, 12)                156       \n",
            "                                                                 \n",
            " dense_11 (Dense)            (None, 12)                156       \n",
            "                                                                 \n",
            " dropout (Dropout)           (None, 12)                0         \n",
            "                                                                 \n",
            " dense_12 (Dense)            (None, 3)                 39        \n",
            "                                                                 \n",
            "=================================================================\n",
            "Total params: 1,995\n",
            "Trainable params: 1,995\n",
            "Non-trainable params: 0\n",
            "_________________________________________________________________\n"
          ]
        }
      ],
      "source": [
        "best_model.summary()"
      ]
    },
    {
      "cell_type": "markdown",
      "metadata": {
        "id": "Wlypbdc4CYJW"
      },
      "source": [
        "#### Entrenar"
      ]
    },
    {
      "cell_type": "code",
      "execution_count": 343,
      "metadata": {
        "id": "92FV4GJGgtey"
      },
      "outputs": [],
      "source": [
        "his = best_model.fit(\n",
        " x_train, y_train,\n",
        " batch_size = 32,\n",
        " epochs = epochs,\n",
        " verbose = 0,\n",
        " validation_split = 0.1)"
      ]
    },
    {
      "cell_type": "markdown",
      "metadata": {
        "id": "mC4oKArsmeE_"
      },
      "source": [
        "#### Evaluar"
      ]
    },
    {
      "cell_type": "code",
      "execution_count": 344,
      "metadata": {
        "id": "LPV1FwmSMJUx",
        "colab": {
          "base_uri": "https://localhost:8080/"
        },
        "outputId": "d15b090b-49e3-45ef-8e1f-d999c91b19c3"
      },
      "outputs": [
        {
          "output_type": "stream",
          "name": "stdout",
          "text": [
            "454/454 [==============================] - 1s 2ms/step\n"
          ]
        }
      ],
      "source": [
        "y_pred = best_model.predict(\n",
        " x_test)"
      ]
    },
    {
      "cell_type": "code",
      "execution_count": 345,
      "metadata": {
        "id": "_t0B0eIjMJU4"
      },
      "outputs": [],
      "source": [
        "y_test_list = list(map(lambda cats: np.argmax(cats), y_test))"
      ]
    },
    {
      "cell_type": "code",
      "execution_count": 346,
      "metadata": {
        "id": "zg2gqkSGMJU7"
      },
      "outputs": [],
      "source": [
        "y_guesses = list(map(lambda cats: np.argmax(cats), y_pred))"
      ]
    },
    {
      "cell_type": "code",
      "execution_count": 347,
      "metadata": {
        "id": "BglFL7vGMJU_"
      },
      "outputs": [],
      "source": [
        "from sklearn.metrics import f1_score\n",
        "from sklearn.metrics import precision_score\n",
        "from sklearn.metrics import recall_score"
      ]
    },
    {
      "cell_type": "code",
      "execution_count": 348,
      "metadata": {
        "id": "5hTqZLDIMJVC",
        "colab": {
          "base_uri": "https://localhost:8080/"
        },
        "outputId": "ad3761ae-c6f1-440e-8d75-b40f85b81df2"
      },
      "outputs": [
        {
          "output_type": "execute_result",
          "data": {
            "text/plain": [
              "0.5279040926002481"
            ]
          },
          "metadata": {},
          "execution_count": 348
        }
      ],
      "source": [
        "f1_score(y_guesses, y_test_list, average = 'micro')"
      ]
    },
    {
      "cell_type": "code",
      "execution_count": 349,
      "metadata": {
        "id": "LVly-fO7MJVG",
        "colab": {
          "base_uri": "https://localhost:8080/"
        },
        "outputId": "cc5959a3-72da-4fe6-bef2-da89237f6ef9"
      },
      "outputs": [
        {
          "output_type": "execute_result",
          "data": {
            "text/plain": [
              "array([0.56374086, 0.52792395, 0.44376528])"
            ]
          },
          "metadata": {},
          "execution_count": 349
        }
      ],
      "source": [
        "recall_score(y_guesses, y_test_list,  average = None)\n"
      ]
    },
    {
      "cell_type": "code",
      "execution_count": 350,
      "metadata": {
        "id": "s7iTEk0cMJVJ",
        "colab": {
          "base_uri": "https://localhost:8080/"
        },
        "outputId": "3616ef27-141f-43ad-a395-f02a1cc5a71a"
      },
      "outputs": [
        {
          "output_type": "execute_result",
          "data": {
            "text/plain": [
              "array([0.30566572, 0.84937867, 0.09915324])"
            ]
          },
          "metadata": {},
          "execution_count": 350
        }
      ],
      "source": [
        "precision_score(y_guesses, y_test_list,  average = None)"
      ]
    },
    {
      "cell_type": "code",
      "execution_count": 351,
      "metadata": {
        "id": "6KKQ_VI8MTHo"
      },
      "outputs": [],
      "source": [
        "results_clas['pca'] = f1_score(y_guesses, y_test_list, average = 'micro')"
      ]
    },
    {
      "cell_type": "markdown",
      "metadata": {
        "id": "t6iPmpQu_4QU"
      },
      "source": [
        "Vemos la matriz de confusión"
      ]
    },
    {
      "cell_type": "code",
      "execution_count": 352,
      "metadata": {
        "id": "uS7vKL9l_6v9",
        "colab": {
          "base_uri": "https://localhost:8080/",
          "height": 513
        },
        "outputId": "0b745727-71d8-411d-d290-798a48f7c56b"
      },
      "outputs": [
        {
          "output_type": "display_data",
          "data": {
            "text/plain": [
              "<Figure size 720x576 with 2 Axes>"
            ],
            "image/png": "[encoded data removed]"
          },
          "metadata": {
            "needs_background": "light"
          }
        }
      ],
      "source": [
        "from sklearn.metrics import confusion_matrix\n",
        "cm = confusion_matrix(y_guesses, y_test_list)\n",
        "cm_df = pd.DataFrame(cm,\n",
        "                     index = ['Alto','Medio','Bajo'], \n",
        "                     columns = ['Alto','Medio','Bajo'])\n",
        "\n",
        "plt.figure(figsize=(10,8))\n",
        "sns.heatmap(cm_df, cmap='Blues', annot=True, fmt='g')\n",
        "plt.title('Confusion Matrix')\n",
        "plt.ylabel('Actual Values')\n",
        "plt.xlabel('Predicted Values')\n",
        "plt.show()"
      ]
    },
    {
      "cell_type": "markdown",
      "source": [
        "### Se guarda el modelo de redes neuronales para clasificación entrenado con el dataset obtenido en el TP1"
      ],
      "metadata": {
        "id": "uzqpnHD-OiO8"
      }
    },
    {
      "cell_type": "code",
      "source": [
        "import joblib  \n",
        "\n",
        "try:\n",
        "  joblib.dump(best_model, 'drive/My Drive/tp1 datos grupal/ModelosTP2/RedNeuronalClasificacion_PCA.pkl')\n",
        "except:\n",
        "  joblib.dump(best_model, 'RedNeuronalClasificacion_PCA.pkl')"
      ],
      "metadata": {
        "id": "S5Sm0ooqOjM-"
      },
      "execution_count": 353,
      "outputs": []
    },
    {
      "cell_type": "markdown",
      "metadata": {
        "id": "DG9RrfL3MVx7"
      },
      "source": [
        "### Conclusiones"
      ]
    },
    {
      "cell_type": "markdown",
      "metadata": {
        "id": "cfpz3zRChMJa"
      },
      "source": [
        "Al igual que con la red neuronal de regresión, la red neuronal de clasificación performó mejor cuando se entrenó utilizando el dataset normal. Se toma como referencia el F1 score debido a que fue la metrica tomada para evaluar performance en el TP1:\n",
        "\n",
        "    Red Neuronal de clasificación entrenada con dataset normal:\n",
        "    F1-score test: 0.5932892379771255\n",
        "\n",
        "    Red Neuronal de clasificación entrenada con dataset con PCA:\n",
        "    F1-score test: 0.48718478710210833\n",
        "\n"
      ]
    },
    {
      "cell_type": "code",
      "execution_count": 354,
      "metadata": {
        "id": "SGHCD4Hdg7QT",
        "colab": {
          "base_uri": "https://localhost:8080/",
          "height": 296
        },
        "outputId": "9bb7fdca-e880-4034-ad26-18845dcc7639"
      },
      "outputs": [
        {
          "output_type": "display_data",
          "data": {
            "text/plain": [
              "<Figure size 432x288 with 1 Axes>"
            ],
            "image/png": "[encoded data removed]"
          },
          "metadata": {
            "needs_background": "light"
          }
        }
      ],
      "source": [
        "pairs = results_clas.items()\n",
        "keys = list(map(lambda pair: pair[0], pairs))\n",
        "values = list(map(lambda pair: pair[1], pairs))\n",
        "bp = sns.barplot(x = keys, y=values)\n",
        "plt.xlabel('Dataset utilizado para entrenar el modelo de red neuronal de clasificación')\n",
        "plt.ylabel('F1-score')\n",
        "plt.title('F1-score en función del Dataset utilizado')\n",
        "plt.show()"
      ]
    },
    {
      "cell_type": "markdown",
      "source": [
        "Al igual que con los modelos entrenados en el TP1, vemos que la red entrenada con el dataset normal tuvo mejor performance en general, por lo que se realiza el análisis/ comparación sobre este modelo.\n",
        "\n",
        "El F1-score para el dataset normal fue aproximadamente 0.59, comparable a la performance de los modelos Árbol de decisión y Random Forest entrenados en el TP1 para el mismo dataset, pero de todos modos considerablemente menor a la performance de CatBoostClassifier y XGBoostClassifier ambos con F1-score cercano a 0.68. \n",
        "\n",
        "En general al igual que en el TP1, el modelo identifica incorrectamente valores medios como altos, valores bajos como medios, y valores medio como bajos, el f1 score es mediocre como en el TP1. \n",
        "\n",
        "Comparando con la matriz de confusión, los valores predichos como altos ahora son en su mayoría de valor verdadero 'medio'. También como antes, no se suelen confundir valores bajos con altos y viceversa.\n",
        "\n",
        "La mala performance a través de modelos distintos puede que indique una pobre técnica de discretización de los precios de las propiedades, ya que los modelos predicen la mayoría de las veces que el tipo de precio es 'medio'."
      ],
      "metadata": {
        "id": "iOgCC9Q1U6LX"
      }
    },
    {
      "cell_type": "markdown",
      "metadata": {
        "id": "fGUenThwyiDu"
      },
      "source": [
        "#**3. Ensamble de modelos**"
      ]
    },
    {
      "cell_type": "markdown",
      "source": [
        "En la siguiente sección se utilizarán técnicas de ensamble de modelos de Machine Learning con el objetivo de mejorar la performance obtenida utilizando un único modelo débil para resolver problemas de clasificación y/o regresión."
      ],
      "metadata": {
        "id": "_e8Bt5P3gA8r"
      }
    },
    {
      "cell_type": "markdown",
      "metadata": {
        "id": "ap6K767q1B0I"
      },
      "source": [
        "A continuación se construyen dos ensambles de modelos de tipo híbridos, esto significa que combinan clasificadores de distinto tipo."
      ]
    },
    {
      "cell_type": "markdown",
      "metadata": {
        "id": "zx3hUJK11Cf_"
      },
      "source": [
        "##● Ensamble 1:"
      ]
    },
    {
      "cell_type": "markdown",
      "metadata": {
        "id": "bI6hlNw71FMJ"
      },
      "source": [
        "**Ensamble tipo Voting para el conjunto de datos de clasificación:**\n",
        "\n",
        "  Al realizar este tipo de ensamble se tienen diferentes algoritmos/modelos y todos se entrenan con los mismos datos. En los problemas de clasificación existen dos variantes: Hard Voting y Soft Voting.\n",
        "\n",
        "  En el esquema de **Hard Voting** la clase final es la que tenga mayor cantidad de votos. Es un sistema democrático.\n",
        "\n",
        "En cambio cuando se hace uso de **Soft Voting** lo que se toma en cuenta son las probabilidades de cada clase. Para cada clasificador se obtiene la probabilidad de la clase1, clase2, etc. Luego se promedian los valores de probabilidad de cada clase y se selecciona la que tenga el mayor valor promedio."
      ]
    },
    {
      "cell_type": "markdown",
      "source": [
        "El target en este problema de clasificación será el 'tipo_precio' de una propiedad, que tiene tres categorías: alto, medio, bajo. \n",
        "\n",
        "Se utiliza el preprocesamiento y encoding de datos realizado en el TP1. A continuación se seleccionan los datos de train y test."
      ],
      "metadata": {
        "id": "jokGo-DSl6XV"
      }
    },
    {
      "cell_type": "code",
      "execution_count": 355,
      "metadata": {
        "id": "cjnCPCx9BbdC"
      },
      "outputs": [],
      "source": [
        "#Se descarta el target y las variables directamente relacionadas con el\n",
        "x_train = df_ENCODED_train.drop(['tipo_precio','property_price','pxm2'], axis=1).values\n",
        "x_test = df_ENCODED_test.drop(['tipo_precio','property_price','pxm2'], axis=1).values\n",
        "\n",
        "num_classes = 3\n",
        "\n",
        "y_train = df_ENCODED_train['tipo_precio'].values\n",
        "y_test = df_ENCODED_test['tipo_precio'].values"
      ]
    },
    {
      "cell_type": "markdown",
      "metadata": {
        "id": "o9PmzNHBBbdE"
      },
      "source": [
        "Se escalan los datos usando MinMaxScaler:"
      ]
    },
    {
      "cell_type": "code",
      "execution_count": 356,
      "metadata": {
        "id": "4wl1er6MBbdH"
      },
      "outputs": [],
      "source": [
        "scaler = MinMaxScaler()\n",
        "scaler.fit(x_train)\n",
        "x_train = scaler.transform(x_train)\n",
        "x_test = scaler.transform(x_test)"
      ]
    },
    {
      "cell_type": "markdown",
      "metadata": {
        "id": "hMfFOHn-nlTZ"
      },
      "source": [
        "### Modelos elegidos\n",
        "Siendo un ensamble de tipo híbrido, se escogieron los siguientes clasificadores para el ensemble:\n",
        "- Random Forest\n",
        "- AdaBoost\n",
        "- Gradient Boost\n",
        "- XGBoost\n",
        "- Decision Tree"
      ]
    },
    {
      "cell_type": "code",
      "execution_count": 357,
      "metadata": {
        "id": "Yt6PiZI2QeyD"
      },
      "outputs": [],
      "source": [
        "from sklearn.ensemble import AdaBoostClassifier\n",
        "from sklearn.ensemble import RandomForestClassifier\n",
        "from sklearn.ensemble import GradientBoostingClassifier\n",
        "from sklearn.tree import DecisionTreeClassifier\n",
        "import xgboost as xgb\n",
        "\n",
        "from sklearn.model_selection import cross_val_score\n",
        "from sklearn.metrics import f1_score, accuracy_score\n",
        "import joblib  "
      ]
    },
    {
      "cell_type": "code",
      "execution_count": 358,
      "metadata": {
        "id": "jNLzOinA1Lxi"
      },
      "outputs": [],
      "source": [
        "#Se crean los clasificadores, Se utilizan algunos modelos con hiperparámetros optimizados en el TP1 mediante GSCV\n",
        "clf1 = AdaBoostClassifier()\n",
        "clf2 = joblib.load('drive/My Drive/tp1 datos grupal/Modelos/RandomForest.pkl')\n",
        "clf3 = GradientBoostingClassifier()\n",
        "clf4 = joblib.load('drive/My Drive/tp1 datos grupal/Modelos/XGBoostClassifier.pkl')\n",
        "clf5 = joblib.load('drive/My Drive/tp1 datos grupal/Modelos/ArbolDeDecision.pkl')"
      ]
    },
    {
      "cell_type": "markdown",
      "source": [
        "El clasificador de votaciones tiene dos hiperparámetros básicos: estimadores y votaciones.\n",
        "\n",
        "El hiperparámetro estimators crea una lista los clasificadores y les asigna nombres.\n",
        "\n",
        "El hiperparámetro de votación se establece en \"hard\" o \"soft\"."
      ],
      "metadata": {
        "id": "2H4u91sgpVnk"
      }
    },
    {
      "cell_type": "code",
      "execution_count": 359,
      "metadata": {
        "id": "VcrL1l6jS2n2"
      },
      "outputs": [],
      "source": [
        "from sklearn.ensemble import VotingClassifier"
      ]
    },
    {
      "cell_type": "markdown",
      "source": [
        "#### Hard Voting"
      ],
      "metadata": {
        "id": "bKrIvLpbohCF"
      }
    },
    {
      "cell_type": "code",
      "execution_count": 360,
      "metadata": {
        "id": "7iz9W8SrSZ7x"
      },
      "outputs": [],
      "source": [
        "#Se crea el ensemble de Votación\n",
        "eclf = VotingClassifier(\n",
        "    estimators=[('ada', clf1), ('rf', clf2), ('gb', clf3), ('xgb', clf4), ('dt', clf5)],\n",
        "    voting='hard')"
      ]
    },
    {
      "cell_type": "code",
      "execution_count": 361,
      "metadata": {
        "id": "NqZt2EevVxGd"
      },
      "outputs": [],
      "source": [
        "#Se entrena el ensamble\n",
        "eclf = eclf.fit(x_train, y_train)"
      ]
    },
    {
      "cell_type": "code",
      "source": [
        "result_clasif_hardv = {}"
      ],
      "metadata": {
        "id": "I-H_Oyf2WSRU"
      },
      "execution_count": 362,
      "outputs": []
    },
    {
      "cell_type": "code",
      "execution_count": 363,
      "metadata": {
        "id": "Jt-5hISHS5TK",
        "colab": {
          "base_uri": "https://localhost:8080/"
        },
        "outputId": "774d0336-5a9b-4737-e4fe-287c923c6670"
      },
      "outputs": [
        {
          "output_type": "stream",
          "name": "stdout",
          "text": [
            "F1-Score: 0.57 (+/- 0.01) [ada]\n",
            "F1-Score: 0.55 (+/- 0.01) [rf]\n",
            "F1-Score: 0.62 (+/- 0.01) [gb]\n",
            "F1-Score: 0.64 (+/- 0.00) [xgb]\n",
            "F1-Score: 0.60 (+/- 0.00) [dt]\n",
            "F1-Score: 0.61 (+/- 0.00) [Ensemble Hard Voting]\n"
          ]
        }
      ],
      "source": [
        "#Y se evalúa la performance sobre datos de Test\n",
        "for clf, label in zip([clf1, clf2, clf3, clf4, clf5, eclf], ['ada', 'rf', 'gb', 'xgb', 'dt', 'Ensemble Hard Voting']):\n",
        "    scores = cross_val_score(clf, x_test, y_test, scoring='f1_micro', cv=5)\n",
        "    result_clasif_hardv[label] = scores.mean()\n",
        "    print(\"F1-Score: %0.2f (+/- %0.2f) [%s]\" % (scores.mean(), scores.std(), label))"
      ]
    },
    {
      "cell_type": "code",
      "source": [
        "# Get predictions for TEST\n",
        "y_pred = eclf.predict(x_test)\n",
        "\n",
        "from sklearn.metrics import confusion_matrix, f1_score\n",
        "print('F1-Score: {}'.format(f1_score(y_test, y_pred, average='micro')))"
      ],
      "metadata": {
        "colab": {
          "base_uri": "https://localhost:8080/"
        },
        "id": "q0EoW-7S7q6-",
        "outputId": "54508d70-ac24-4656-dc92-887c2e328ffb"
      },
      "execution_count": 364,
      "outputs": [
        {
          "output_type": "stream",
          "name": "stdout",
          "text": [
            "F1-Score: 0.6236047953699876\n"
          ]
        }
      ]
    },
    {
      "cell_type": "code",
      "source": [
        "pairs = result_clasif_hardv.items()\n",
        "keys = list(map(lambda pair: pair[0], pairs))\n",
        "values = list(map(lambda pair: pair[1], pairs))\n",
        "bp = sns.barplot(x = keys, y=values)\n",
        "plt.xlabel('Modelo')\n",
        "plt.ylabel('F1-score')\n",
        "plt.title('F1-score en función del modelo predictor')\n",
        "plt.show()"
      ],
      "metadata": {
        "colab": {
          "base_uri": "https://localhost:8080/",
          "height": 295
        },
        "id": "EBIscEQdXUee",
        "outputId": "e96fd1b7-d987-4e6c-ce0e-7a34fd512574"
      },
      "execution_count": 365,
      "outputs": [
        {
          "output_type": "display_data",
          "data": {
            "text/plain": [
              "<Figure size 432x288 with 1 Axes>"
            ],
            "image/png": "[encoded data removed]"
          },
          "metadata": {
            "needs_background": "light"
          }
        }
      ]
    },
    {
      "cell_type": "markdown",
      "source": [
        "#### Se guarda el modelo de Ensamble Hard Voting de clasificación"
      ],
      "metadata": {
        "id": "DcjQgS0Adjf0"
      }
    },
    {
      "cell_type": "code",
      "source": [
        "import joblib  \n",
        "\n",
        "try:\n",
        "  joblib.dump(eclf, 'drive/My Drive/tp1 datos grupal/ModelosTP2/EnsambleHardVotingClasificacion.pkl')\n",
        "except:\n",
        "  joblib.dump(eclf, 'EnsambleHardVotingClasificacion.pkl')"
      ],
      "metadata": {
        "id": "2stlvxEfdnKu"
      },
      "execution_count": 366,
      "outputs": []
    },
    {
      "cell_type": "markdown",
      "source": [
        "#### Soft Voting"
      ],
      "metadata": {
        "id": "ac7DiIX1onQx"
      }
    },
    {
      "cell_type": "code",
      "source": [
        "eclf2 = VotingClassifier(\n",
        "    estimators=[('ada', clf1), ('rf', clf2), ('gb', clf3), ('xgb', clf4), ('dt', clf5)],\n",
        "    voting='soft')"
      ],
      "metadata": {
        "id": "98gnpoMLNnoG"
      },
      "execution_count": 367,
      "outputs": []
    },
    {
      "cell_type": "code",
      "source": [
        "eclf2 = eclf2.fit(x_train, y_train)"
      ],
      "metadata": {
        "id": "vqqCzJbgNrjj"
      },
      "execution_count": 368,
      "outputs": []
    },
    {
      "cell_type": "code",
      "source": [
        "result_clasif_softv = {}"
      ],
      "metadata": {
        "id": "yORIxy4gX09A"
      },
      "execution_count": 369,
      "outputs": []
    },
    {
      "cell_type": "code",
      "source": [
        "for clf, label in zip([clf1, clf2, clf3, clf4, clf5, eclf2], ['ada', 'rf', 'gb', 'xgb', 'dt', 'Ensemble Soft Voting']):\n",
        "    scores = cross_val_score(clf, x_test, y_test, scoring='f1_micro', cv=5)\n",
        "    result_clasif_softv[label] = scores.mean()\n",
        "    print(\"F1-Score: %0.2f (+/- %0.2f) [%s]\" % (scores.mean(), scores.std(), label))"
      ],
      "metadata": {
        "colab": {
          "base_uri": "https://localhost:8080/"
        },
        "id": "2uQUzrhXNpzE",
        "outputId": "70a92c04-c5e2-4240-88ec-651b66f24b43"
      },
      "execution_count": 370,
      "outputs": [
        {
          "output_type": "stream",
          "name": "stdout",
          "text": [
            "F1-Score: 0.57 (+/- 0.01) [ada]\n",
            "F1-Score: 0.56 (+/- 0.01) [rf]\n",
            "F1-Score: 0.62 (+/- 0.01) [gb]\n",
            "F1-Score: 0.64 (+/- 0.00) [xgb]\n",
            "F1-Score: 0.60 (+/- 0.00) [dt]\n",
            "F1-Score: 0.62 (+/- 0.00) [Ensemble Soft Voting]\n"
          ]
        }
      ]
    },
    {
      "cell_type": "code",
      "source": [
        "# Get predictions for TEST\n",
        "y_pred = eclf2.predict(x_test)\n",
        "\n",
        "from sklearn.metrics import confusion_matrix, f1_score\n",
        "print('F1-Score: {}'.format(f1_score(y_test, y_pred, average='micro')))"
      ],
      "metadata": {
        "colab": {
          "base_uri": "https://localhost:8080/"
        },
        "id": "BsaeJ2Ux7k0T",
        "outputId": "bc7c429d-cf17-40de-c006-0b76cc7dd987"
      },
      "execution_count": 371,
      "outputs": [
        {
          "output_type": "stream",
          "name": "stdout",
          "text": [
            "F1-Score: 0.6397960589775389\n"
          ]
        }
      ]
    },
    {
      "cell_type": "code",
      "source": [
        "pairs = result_clasif_softv.items()\n",
        "keys = list(map(lambda pair: pair[0], pairs))\n",
        "values = list(map(lambda pair: pair[1], pairs))\n",
        "bp = sns.barplot(x = keys, y=values)\n",
        "plt.xlabel('Modelo')\n",
        "plt.ylabel('F1-score')\n",
        "plt.title('F1-score en función del modelo predictor')\n",
        "plt.show()"
      ],
      "metadata": {
        "colab": {
          "base_uri": "https://localhost:8080/",
          "height": 295
        },
        "id": "EaF-QxQ2YEHh",
        "outputId": "8d3e652a-9751-448b-b754-ad47a05d3066"
      },
      "execution_count": 372,
      "outputs": [
        {
          "output_type": "display_data",
          "data": {
            "text/plain": [
              "<Figure size 432x288 with 1 Axes>"
            ],
            "image/png": "[encoded data removed]"
          },
          "metadata": {
            "needs_background": "light"
          }
        }
      ]
    },
    {
      "cell_type": "markdown",
      "source": [
        "#### Se guarda el modelo de Ensamble Soft Voting de clasificación"
      ],
      "metadata": {
        "id": "pCmlJUTaeoXL"
      }
    },
    {
      "cell_type": "code",
      "source": [
        "import joblib  \n",
        "\n",
        "try:\n",
        "  joblib.dump(eclf2, 'drive/My Drive/tp1 datos grupal/ModelosTP2/EnsambleSoftVotingClasificacion.pkl')\n",
        "except:\n",
        "  joblib.dump(eclf2, 'EnsambleSoftVotingClasificacion.pkl')"
      ],
      "metadata": {
        "id": "rUX58k_depCi"
      },
      "execution_count": 373,
      "outputs": []
    },
    {
      "cell_type": "markdown",
      "source": [
        "### Conclusiones"
      ],
      "metadata": {
        "id": "kcwp2lqyVXzp"
      }
    },
    {
      "cell_type": "markdown",
      "source": [
        "La performance en test de los ensambles de clasificación hard voting y soft voting fue muy similar:\n",
        "\n",
        "    Ensamble Hard Voting:\n",
        "    F1-Score: 0.6212622295714483\n",
        "\n",
        "    Ensamble Soft Voting:\n",
        "    F1-Score: 0.6394515640071655\n",
        "\n",
        "Soft voting performó levemente mejor ya que las predicciones se ponderan según la importancia del clasificador y luego, la etiqueta objetivo con la mayor suma de probabilidades ponderadas gana la votación, suponemos que le dió mas importancia a XGBoost Classifier.\n",
        "\n",
        "Luego, podemos decir que ambos ensambles performaron mejor que la red neuronal de clasificación:\n",
        "\n",
        "    Red Neuronal de clasificación entrenada con dataset normal:\n",
        "    F1-score test: 0.5932892379771255\n",
        "\n",
        "Sin embargo los resultados no fueron tan buenos como esperabamos, ya que los ensambles de modelos tienden a generalizar mejor que los modelos base, pero este no fue el caso ya que XGBClassifier performa mejor individualmente que ambos ensambles:\n",
        "\n",
        "    Modelo XGBClassifier TP1:\n",
        "    F1-Score: 0.6779661016949152\n",
        "\n",
        " Por lo que concluímos que alguno de los modelos que se utilizaron para los ensambles está haciando ruido y baja la performance. "
      ],
      "metadata": {
        "id": "GJOoPqpxVanR"
      }
    },
    {
      "cell_type": "markdown",
      "metadata": {
        "id": "eGUHAxq-1IiH"
      },
      "source": [
        "##● Ensamble 2:"
      ]
    },
    {
      "cell_type": "markdown",
      "metadata": {
        "id": "UnUz4Eao1LU7"
      },
      "source": [
        "**Ensamble de tipo Stacking:**\n",
        "\n",
        "  En este tipo de ensamble se combinan diferentes modelos de regresión que funcionan como 'modelos base', y se utiliza un modelo adicional que usa como entradas las predicciones de los Base Models y a partir de ellas decide, dada una instancia nueva, qué modelo usar. Es decir, se utiliza el concepto de meta-aprendizaje para reemplazar el mecanismo de voto."
      ]
    },
    {
      "cell_type": "code",
      "execution_count": 374,
      "metadata": {
        "id": "jVTHLQigkcec"
      },
      "outputs": [],
      "source": [
        "x_train = df_ENCODED_train.drop(['tipo_precio','property_price','pxm2'], axis=1).values\n",
        "y_train = df_ENCODED_train['property_price'].values\n",
        "\n",
        "x_test = df_ENCODED_test.drop(['tipo_precio','property_price','pxm2'], axis=1).values\n",
        "y_test = df_ENCODED_test['property_price'].values"
      ]
    },
    {
      "cell_type": "markdown",
      "source": [
        "En este caso se utiliza como modelos base:\n",
        "- Random Forest\n",
        "- AdaBoost\n",
        "- Gradient Boost\n",
        "\n",
        "Y como meta modelo:\n",
        "- RandomForestRegressor"
      ],
      "metadata": {
        "id": "rSaNUtwKwuW2"
      }
    },
    {
      "cell_type": "code",
      "execution_count": 375,
      "metadata": {
        "id": "ER8KqnbXypTo"
      },
      "outputs": [],
      "source": [
        "from sklearn.ensemble import AdaBoostRegressor\n",
        "from sklearn.ensemble import RandomForestRegressor\n",
        "from sklearn.ensemble import GradientBoostingRegressor\n",
        "from sklearn.ensemble import StackingRegressor\n",
        "\n",
        "#Modelos Base\n",
        "estimators = [\n",
        "    ('lr', AdaBoostRegressor(random_state=0, n_estimators = 50)),\n",
        "    ('ada', GradientBoostingRegressor(random_state=0, n_estimators = 50)),\n",
        "    ('rf', RandomForestRegressor(random_state=0, n_estimators = 50)),\n",
        "]\n",
        "\n",
        "#Ensamble Stacking Regressor\n",
        "reg = StackingRegressor(\n",
        "    estimators=estimators,\n",
        "    final_estimator=RandomForestRegressor(n_estimators=50,\n",
        "                                          random_state=0)\n",
        ")"
      ]
    },
    {
      "cell_type": "code",
      "execution_count": 376,
      "metadata": {
        "id": "VBvApo-3kQsL"
      },
      "outputs": [],
      "source": [
        "#Se entrena el ensamble\n",
        "model = reg.fit(x_train, y_train)"
      ]
    },
    {
      "cell_type": "code",
      "execution_count": 377,
      "metadata": {
        "id": "XALqtdYUkNSk",
        "colab": {
          "base_uri": "https://localhost:8080/"
        },
        "outputId": "ba737b5d-4054-460e-f9ed-81c2ffeaaba8"
      },
      "outputs": [
        {
          "output_type": "execute_result",
          "data": {
            "text/plain": [
              "0.8949886710886569"
            ]
          },
          "metadata": {},
          "execution_count": 377
        }
      ],
      "source": [
        "#Se evalúa en datos de test\n",
        "model.score(x_test, y_test)"
      ]
    },
    {
      "cell_type": "code",
      "source": [
        "#Performance para datos de TRAIN\n",
        "y_pred = model.predict(x_train)\n",
        "\n",
        "mse = metrics.mean_squared_error(\n",
        "        y_true  = y_train,\n",
        "        y_pred  = y_pred,\n",
        "        squared = True\n",
        "       )\n",
        "\n",
        "print(f\"El error (mse) de train es: {mse}\")\n",
        "print(f\"El error (rmse) de train es: {np.sqrt(mse)}\")"
      ],
      "metadata": {
        "colab": {
          "base_uri": "https://localhost:8080/"
        },
        "id": "GPQIzuSQyqaD",
        "outputId": "50ef4438-c0d4-47fb-e338-081174be08db"
      },
      "execution_count": 378,
      "outputs": [
        {
          "output_type": "stream",
          "name": "stdout",
          "text": [
            "El error (mse) de train es: 576788034.6424081\n",
            "El error (rmse) de train es: 24016.411776999663\n"
          ]
        }
      ]
    },
    {
      "cell_type": "code",
      "source": [
        "#Performance para datos de TEST\n",
        "y_pred = model.predict(x_test)\n",
        "\n",
        "mse = metrics.mean_squared_error(\n",
        "        y_true  = y_test,\n",
        "        y_pred  = y_pred,\n",
        "        squared = True\n",
        "       )\n",
        "\n",
        "print(f\"El error (mse) de test es: {mse}\")\n",
        "print(f\"El error (rmse) de test es: {np.sqrt(mse)}\")"
      ],
      "metadata": {
        "colab": {
          "base_uri": "https://localhost:8080/"
        },
        "id": "R8YadU39z36W",
        "outputId": "6672995e-0926-4835-e8a5-e35c2307ccd8"
      },
      "execution_count": 379,
      "outputs": [
        {
          "output_type": "stream",
          "name": "stdout",
          "text": [
            "El error (mse) de test es: 2052717592.5344405\n",
            "El error (rmse) de test es: 45306.926540369524\n"
          ]
        }
      ]
    },
    {
      "cell_type": "markdown",
      "source": [
        "#### Se guarda el modelo de Ensamble de tipo Stacking para regresión"
      ],
      "metadata": {
        "id": "H11k6bYVi6co"
      }
    },
    {
      "cell_type": "code",
      "source": [
        "import joblib  \n",
        "\n",
        "try:\n",
        "  joblib.dump(reg, 'drive/My Drive/tp1 datos grupal/ModelosTP2/EnsambleStackingRegresion.pkl')\n",
        "except:\n",
        "  joblib.dump(reg, 'EnsambleStackingRegresion.pkl')"
      ],
      "metadata": {
        "id": "nAc_kcKpjBH8"
      },
      "execution_count": 381,
      "outputs": []
    },
    {
      "cell_type": "markdown",
      "source": [
        "### Análisis de performance"
      ],
      "metadata": {
        "id": "1_otwc2OjYa_"
      }
    },
    {
      "cell_type": "markdown",
      "source": [
        "En este caso el ensable tipo stacking para regresión performó de manera muy similar que el modelo XGBRegressor con hiperparámetros optimizados para el dataset generado en el TP1:\n",
        "    \n",
        "    Ensable tipo stacking para regresión:\n",
        "    El error (mse) de test es: 2052717592.5344405\n",
        "    El error (rmse) de test es: 45306.926540369524\n",
        "\n",
        "    XGBRegressor TP1:\n",
        "    El error (mse) de test es: 2136148658.8986006\n",
        "    El error (rmse) de test es: 46218.4882801093\n",
        "\n",
        "Nuevamente no logramos obtener mejoras significativas utilizando un ensamble de varios modelos base de regresión, en este caso consideramos que se debe a que los hiperparametros del metamodelo no fueron optimizados."
      ],
      "metadata": {
        "id": "ODfJM-jKjwL9"
      }
    },
    {
      "cell_type": "markdown",
      "metadata": {
        "id": "LXNaAHz5ynI1"
      },
      "source": [
        "#**4. Conclusiones**"
      ]
    },
    {
      "cell_type": "markdown",
      "metadata": {
        "id": "RW88YWtU1U2w"
      },
      "source": [
        "En el primer punto buscamos optimizar uno de los modelos del primer TP aplicando  metodos de extraccion de aspectos a partir de las descripciones de cada propiedad, fue el punto donde más problemas tuvimos del trabajo, no logramos hacer funcionar las herramientas de Open Information Extraction, nos costó entender y aplicar Minqing Hu/Bing Liu aunque finalmente pudimos aplicarlo y también aplicamos regex que no tuvimos grandes problemas.\n",
        "\n",
        " \n",
        "Con la técnica de Minqing Hu y Bing Liu logramos obtener aspectos valorativos sobre la propiedad, a diferencia de la aplicación del método para análisis de sentimiento (en donde se buscan polaridades positivas-negativas) solo buscamos valoraciones positivas de diversos aspectos.\n",
        " \n",
        "Por otro lado utilizamos regex/bag of words para obtener aspectos binarios basandonos en el supuesto de que en la descripción de la propiedad los vendedores resaltan los aspectos POSITIVOS de la misma. Por lo tanto si la propiedad NO tiene cierta cualidad, probablemente no aparezca esa palabra en la descripción ya que los aspectos negativos no atraen a los posibles compradores y por ende es preferible directamente no mencionar dicho aspecto antes que exponer que la propiedad NO TIENE tal cosa. De este modo obtuvimos 5 nuevos features que representan: \n",
        "- si la propiedad tiene piscina\n",
        "- si tiene terraza\n",
        "- si tiene balcón\n",
        "- si tiene gimnasio\n",
        "- si tiene parrilla\n",
        " \n",
        "Sumando estos aspectos al dataset original y entrenando nuevamente un modelo XGBoost como lo habiamos hecho con trabajo anterior, y otro con nuevos hiperparametros optimizados, se lograron mejoras considerables respecto de la performance obtenida en el TP1, tal y como se detalla en las conclusiones del punto 1.\n",
        "\n",
        "En los otros dos puntos no tuvimos en términos generales mejoras en términos absolutos respecto a los modelos del primer trabajo, pero si tuvimos mejoras respecto a la reducción del sobre entrenamiento en algunos casos.\n",
        " \n",
        "En particular en el caso de las redes neuronales nos hubiera gustado poder ajustar mejor los hiper parámetros, pero el hecho de que tarde tanto el entrenamiento nos limitó. Mientras que en el caso de los ensambles quisiéramos haber tenido más tiempo para ajustar los hiperparametros del metamodelo del caso stacking.\n",
        " \n",
        "En términos generales lo que evidenciamos o sospechamos producto de la considerable mejora de resultados al agregar más aspectos en el punto uno (y los resultados similares al variar los modelos) es que al data set inicial le falta informacion osea que difícilmente podamos mejorar las métricas solamente variando los modelos y que por eso fueron centrales los métodos de selección de aspectos.\n",
        "\n"
      ]
    }
  ],
  "metadata": {
    "colab": {
      "provenance": [],
      "collapsed_sections": [
        "Z6fBFE1KxjQy",
        "u75lDu99uc_z",
        "NmRsINRpx3rt",
        "T1JhEa7ix5NF",
        "9LFDNjCK2jhD",
        "2hSRrQ2zyWCh",
        "xf4qiTYTyxzk",
        "Tpp84vSL6q6x",
        "cdojruEMZHCc",
        "Glca6MhQ2nZd",
        "a03QarvGzng5",
        "vWppL2Pezwi1",
        "AD3UH9Rt0qhf",
        "z3zKkQ7KlKZJ",
        "GzrjD5tMCFHY",
        "LM_MCidrlMzr",
        "ycY1G27qlOtL",
        "IFEdnoDVhqJX",
        "ZKnPiwDFCTDN",
        "n1KG8Q6LmUI9",
        "xGzZ3AAymaG6",
        "mC4oKArsmeE_",
        "DG9RrfL3MVx7",
        "fGUenThwyiDu"
      ]
    },
    "kernelspec": {
      "display_name": "Python 3",
      "name": "python3"
    },
    "language_info": {
      "name": "python"
    }
  },
  "nbformat": 4,
  "nbformat_minor": 0
}